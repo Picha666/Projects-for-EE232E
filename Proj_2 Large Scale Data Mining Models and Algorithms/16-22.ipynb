{
 "cells": [
  {
   "cell_type": "code",
   "execution_count": 1,
   "metadata": {},
   "outputs": [
    {
     "name": "stderr",
     "output_type": "stream",
     "text": [
      "\n",
      "Attaching package: ‘igraph’\n",
      "\n",
      "The following objects are masked from ‘package:stats’:\n",
      "\n",
      "    decompose, spectrum\n",
      "\n",
      "The following object is masked from ‘package:base’:\n",
      "\n",
      "    union\n",
      "\n"
     ]
    }
   ],
   "source": [
    "library(igraph)"
   ]
  },
  {
   "cell_type": "markdown",
   "metadata": {},
   "source": [
    "## Question 16"
   ]
  },
  {
   "cell_type": "code",
   "execution_count": 21,
   "metadata": {},
   "outputs": [],
   "source": [
    "#read the graph\n",
    "filePath = \"/Users/ht/desktop/EE232E/proj_2/facebook_combined.txt\"\n",
    "g = read.graph(file = filePath, format=\"ncol\", directed=FALSE)\n",
    "#plot(g, vertex.label=NA, vertex.size=5,  edge.arrow.size=.2)\n",
    "g_415 = induced_subgraph(g, c(neighbors(g,V(g)[V(g)$name==\"414\"]),V(g)[V(g)$name==\"414\"]))"
   ]
  },
  {
   "cell_type": "code",
   "execution_count": 22,
   "metadata": {},
   "outputs": [
    {
     "name": "stdout",
     "output_type": "stream",
     "text": [
      " [1] \"496\" \"578\" \"600\" \"615\" \"618\" \"627\" \"643\" \"658\" \"659\" \"661\" \"662\"\n",
      "[1] 11\n"
     ]
    }
   ],
   "source": [
    "list_user <- V(g_415)[degree(g_415)==24]$name\n",
    "print(list_user)\n",
    "#number of users\n",
    "print(length(list_user))\n",
    "users <- c()\n",
    "for(u in list_user){\n",
    "    users <- c(users, V(g_415)[V(g_415)$name==u])\n",
    "}"
   ]
  },
  {
   "cell_type": "markdown",
   "metadata": {},
   "source": [
    "## Question 17"
   ]
  },
  {
   "cell_type": "code",
   "execution_count": 23,
   "metadata": {},
   "outputs": [],
   "source": [
    "g_415_backup <- g_415\n",
    "#create 3 measures\n",
    "common_neighbor <- function(x,y){\n",
    "    length(intersect(x,y))\n",
    "}\n",
    "jaccard <- function(x,y){\n",
    "    length(intersect(x,y))/length(union(x,y))\n",
    "}\n",
    "adamic_adar <- function(x,y){\n",
    "    count_neighbor <- c()\n",
    "    for (inter in intersect(x,y)){\n",
    "        count_neighbor <- c(count_neighbor, 1/log(length(neighbors(g_415, inter))))\n",
    "    }\n",
    "    sum(count_neighbor)\n",
    "}\n",
    "\n",
    "accuracy <- function(R,P){\n",
    "    length(intersect(P,R))/length(R)\n",
    "}"
   ]
  },
  {
   "cell_type": "code",
   "execution_count": 27,
   "metadata": {
    "scrolled": true
   },
   "outputs": [
    {
     "name": "stdout",
     "output_type": "stream",
     "text": [
      "[1] 0.8498377\n",
      "[1] 0.8208333\n",
      "[1] 0.8458333\n"
     ]
    }
   ],
   "source": [
    "acc_tot_com <- c()\n",
    "acc_tot_jac <- c()\n",
    "acc_tot_ada <- c()\n",
    "for (idx in 1:length(users)){\n",
    "    user <- users[idx]\n",
    "    acc_epoch_com <- c()\n",
    "    acc_epoch_jac <- c()\n",
    "    acc_epoch_ada <- c()\n",
    "    for (i in 1:10){\n",
    "        g_415 <- g_415_backup\n",
    "        neighbor <- neighbors(g_415,user)\n",
    "        #create R\n",
    "        R_i <- c()\n",
    "        for (idx_nei in 1:length(neighbor)){\n",
    "            random_sample <- sample(1:100, 1)\n",
    "            if (random_sample <= 25){\n",
    "                R_i <- c(R_i, neighbor[idx_nei])\n",
    "                g_415 <- g_415 %>%\n",
    "                    delete.edges(E(g_415)[get.edge.ids(g_415, c(user, neighbor[idx_nei]))])\n",
    "            }\n",
    "        }\n",
    "        len_Ri <- length(R_i)\n",
    "        \n",
    "        #compute the similarity\n",
    "        com_score <- c()\n",
    "        jac_score <- c()\n",
    "        ada_score <- c()\n",
    "        candidate_list <- c()\n",
    "        for(idx_candidate in 1:length(V(g_415))){\n",
    "            candidate <- V(g_415)[idx_candidate]\n",
    "            if(length(intersect(candidate, neighbors(g_415, user))) == 0 & candidate != user){\n",
    "                candidate_list <- c(candidate_list, candidate)\n",
    "                com_score <- c(com_score, common_neighbor(neighbors(g_415, candidate),neighbors(g_415, user)))\n",
    "                jac_score <- c(jac_score, jaccard(neighbors(g_415, candidate),neighbors(g_415, user)))\n",
    "                ada_score <- c(ada_score, adamic_adar(neighbors(g_415, candidate),neighbors(g_415, user)))\n",
    "            }\n",
    "        }\n",
    "        #common neighbor\n",
    "        com_sort <- sort(com_score,decreasing=TRUE, index.return=TRUE)\n",
    "        recom_com <- candidate_list[com_sort$ix[1:len_Ri]]\n",
    "        acc_epoch_com <- c(acc_epoch_com, accuracy(R_i, recom_com))\n",
    "        \n",
    "        #jaccard\n",
    "        jac_sort <- sort(jac_score,decreasing=TRUE, index.return=TRUE)\n",
    "        recom_jac <- candidate_list[jac_sort$ix[1:len_Ri]]\n",
    "        acc_epoch_jac <- c(acc_epoch_jac, accuracy(R_i, recom_jac))\n",
    "        \n",
    "        #adamic adar\n",
    "        ada_sort <- sort(ada_score,decreasing=TRUE, index.return=TRUE)\n",
    "        recom_ada <- candidate_list[ada_sort$ix[1:len_Ri]]\n",
    "        acc_epoch_ada <- c(acc_epoch_ada, accuracy(R_i, recom_ada))\n",
    "    }\n",
    "    acc_tot_com <- c(acc_tot_com, sum(acc_epoch_com)/length(acc_epoch_com))\n",
    "    acc_tot_jac <- c(acc_tot_jac, sum(acc_epoch_jac)/length(acc_epoch_jac))\n",
    "    acc_tot_ada <- c(acc_tot_ada, sum(acc_epoch_ada)/length(acc_epoch_ada))\n",
    "}\n",
    "print(sum(acc_tot_com)/length(acc_tot_com))\n",
    "print(sum(acc_tot_jac)/length(acc_tot_jac))\n",
    "print(sum(acc_tot_ada)/length(acc_tot_ada))"
   ]
  },
  {
   "cell_type": "code",
   "execution_count": 28,
   "metadata": {},
   "outputs": [
    {
     "name": "stdout",
     "output_type": "stream",
     "text": [
      " [1] 0.3894048 1.0000000 0.9264286 0.8301587 0.4133333 1.0000000 0.8952778\n",
      " [8] 0.9875000 0.9833333 0.9427778 0.9800000\n",
      " [1] 0.1813095 0.9633333 0.9264286 0.8301587 0.5642857 0.9633333 0.8809921\n",
      " [8] 0.9341667 0.9323810 0.8927778 0.9600000\n",
      " [1] 0.3620238 0.9833333 0.9264286 0.8301587 0.4133333 1.0000000 0.8952778\n",
      " [8] 0.9875000 0.9833333 0.9427778 0.9800000\n"
     ]
    }
   ],
   "source": [
    "print(acc_tot_com)\n",
    "print(acc_tot_jac) \n",
    "print(acc_tot_ada)"
   ]
  },
  {
   "cell_type": "markdown",
   "metadata": {},
   "source": [
    "## Question 18"
   ]
  },
  {
   "cell_type": "code",
   "execution_count": 2,
   "metadata": {},
   "outputs": [],
   "source": [
    "setwd(\"/Users/ht/desktop/EE232E/proj_2/\")\n",
    "#read the data\n",
    "file_names = list.files(\"gplus/\")\n",
    "file_ids = sub(\"^([^.]*).*\", \"\\\\1\", file_names)\n",
    "ego_node_ids = unique(file_ids)\n",
    "total_percent = c()\n",
    "ids_circles = c()\n",
    "#store id which has more than 2 circles\n",
    "for (id in ego_node_ids) {\n",
    "    circles_file = paste(\"gplus/\" , id , \".circles\" , sep=\"\")\n",
    "    circles_temp = file(circles_file , open=\"r\")\n",
    "    circles_content = readLines(circles_temp)\n",
    "    close(circles_temp)\n",
    "    \n",
    "    if(length(circles_content) > 2)\n",
    "    ids_circles = c(ids_circles, id)\n",
    "}"
   ]
  },
  {
   "cell_type": "code",
   "execution_count": 3,
   "metadata": {},
   "outputs": [
    {
     "name": "stdout",
     "output_type": "stream",
     "text": [
      "[1] 57\n"
     ]
    }
   ],
   "source": [
    "print(length(ids_circles))"
   ]
  },
  {
   "cell_type": "code",
   "execution_count": 4,
   "metadata": {},
   "outputs": [
    {
     "name": "stdout",
     "output_type": "stream",
     "text": [
      " [1] \"100535338638690515335\" \"100962871525684315897\" \"101130571432010257170\"\n",
      " [4] \"101185748996927059931\" \"101263615503715477581\" \"101373961279443806744\"\n",
      " [7] \"101541879642294398860\" \"101626577406833098387\" \"102170431816592344972\"\n",
      "[10] \"102615863344410467759\" \"102778563580121606331\" \"103236949470535942612\"\n",
      "[13] \"103892332449873403244\" \"104105354262797387583\" \"104607825525972194062\"\n",
      "[16] \"104672614700283598130\" \"104987932455782713675\" \"106186407539128840569\"\n",
      "[19] \"106228758905254036967\" \"106382433884876652170\" \"106837574755355833243\"\n",
      "[22] \"107040353898400532534\" \"107203023379915799071\" \"107223200089245371832\"\n",
      "[25] \"107459220492917008623\" \"107489144252174167638\" \"108883879052307976051\"\n",
      "[28] \"109327480479767108490\" \"109596373340495798827\" \"110538600381916983600\"\n",
      "[31] \"110614416163543421878\" \"110701307803962595019\" \"110809308822849680310\"\n",
      "[34] \"110971010308065250763\" \"111048918866742956374\" \"111091089527727420853\"\n",
      "[37] \"112317819390625199896\" \"112724573277710080670\" \"113112256846010263985\"\n",
      "[40] \"113356364521839061717\" \"113881433443048137993\" \"114147483140782280818\"\n",
      "[43] \"115121555137256496805\" \"115360471097759949621\" \"115455024457484679647\"\n",
      "[46] \"115625564993990145546\" \"116247667398036716276\" \"116315897040732668413\"\n",
      "[49] \"116807883656585676940\" \"116825083494890429556\" \"116931379084245069738\"\n",
      "[52] \"117412175333096244275\" \"117503822947457399073\" \"117668392750579292609\"\n",
      "[55] \"117734260411963901771\" \"118107045405823607895\" \"118379821279745746467\"\n"
     ]
    }
   ],
   "source": [
    "print(ids_circles)"
   ]
  },
  {
   "cell_type": "markdown",
   "metadata": {},
   "source": [
    "## Question 19 & 20"
   ]
  },
  {
   "cell_type": "code",
   "execution_count": 4,
   "metadata": {},
   "outputs": [],
   "source": [
    "# Plot\n",
    "plott <-function(g, wc){\n",
    "layout <-layout.fruchterman.reingold(g)\n",
    "plot(wc, g, layout=layout, vertex.label=NA, vertex.size=5,  edge.arrow.size=.2)\n",
    "}"
   ]
  },
  {
   "cell_type": "code",
   "execution_count": 5,
   "metadata": {},
   "outputs": [],
   "source": [
    "target_ids = c(\"109327480479767108490\",\"115625564993990145546\",\"101373961279443806744\")"
   ]
  },
  {
   "cell_type": "code",
   "execution_count": 6,
   "metadata": {
    "scrolled": true
   },
   "outputs": [
    {
     "ename": "ERROR",
     "evalue": "Error: no se pudo encontrar la función \"read.graph\"\n",
     "output_type": "error",
     "traceback": [
      "Error: no se pudo encontrar la función \"read.graph\"\nTraceback:\n"
     ]
    }
   ],
   "source": [
    "mod_list <- c()\n",
    "for (id in  target_ids) {\n",
    "    #extract edges and circles\n",
    "    edges_file = paste(\"gplus/\" , id  , \".edges\" , sep=\"\")\n",
    "    circles_file = paste(\"gplus/\" , id , \".circles\" , sep=\"\")\n",
    "    \n",
    "    circles_temp = file(circles_file , open=\"r\")\n",
    "    circles_content = readLines(circles_temp)\n",
    "    \n",
    "    circles = list()\n",
    "    for (i in 1:length(circles_content)) {\n",
    "        circle_nodes = strsplit(circles_content[i],\"\\t\")\n",
    "        circles = c(circles, list(circle_nodes[[1]][-1]))\n",
    "    }\n",
    "    \n",
    "    close(circles_temp)\n",
    "    \n",
    "    g = read.graph(edges_file , format = \"ncol\" , directed=TRUE)\n",
    "    g = add.vertices(g, nv = 1, name = id)\n",
    "    ego_node_index = which(V(g)$name==id)\n",
    "    \n",
    "    add_edge_list = c()\n",
    "    for (vertex in 1:(vcount(g) - 1)) {\n",
    "        add_edge_list = c(add_edge_list, c(ego_node_index, vertex))\n",
    "    }\n",
    "    \n",
    "    g = add_edges(g, add_edge_list)\n",
    "   \n",
    "    hist(degree(g,mode = \"in\"))\n",
    "    hist(degree(g,mode = \"out\"))\n",
    "    \n",
    "    wt_comm <- walktrap.community(g)\n",
    "    \n",
    "    plott(g, wt_comm)\n",
    "    mod_list <- c(mod_list, modularity(wt_comm))\n",
    "}\n",
    "\n",
    "print(mod_list)"
   ]
  },
  {
   "cell_type": "markdown",
   "metadata": {},
   "source": [
    "## Question 21&22"
   ]
  },
  {
   "cell_type": "code",
   "execution_count": 40,
   "metadata": {
    "scrolled": false
   },
   "outputs": [
    {
     "name": "stdout",
     "output_type": "stream",
     "text": [
      "[1] \"a\"\n",
      "[1] 330 346 419\n",
      "[1] \"total length\"\n",
      "[1] 1095\n",
      "[1] \"unique length\"\n",
      "[1] 764\n",
      "[1] \"H_C\"\n",
      "[1] 1.050779\n",
      "[1] \"b\"\n",
      "[1] 279 397  75  13\n",
      "[1] \"H_K\"\n",
      "[1] 1.005208\n",
      "[1] \"C_ji\"\n",
      " [1] 251 267  13   4   4 393  75  75   0   0   0  13\n",
      "[1] \"h(c|k)\"\n",
      " [1] -0.034745366 -0.015364070 -0.052174498 -0.024071294 -0.024071294\n",
      " [6] -0.005209136  0.000000000  0.000000000  0.000000000  0.000000000\n",
      "[11]  0.000000000  0.000000000\n",
      "[1] \"H(c|k)\"\n",
      "[1] 0.1556357\n",
      "[1] \"h\"\n",
      "[1] 0.8518854\n",
      "[1] \"C_ji\"\n",
      " [1] 251   4  75   0 267   4  75   0  13 393   0  13\n",
      "[1] \"h(k|c)\"\n",
      " [1] -0.08989993 -0.02310353 -0.14544537  0.00000000 -0.09058081 -0.02335141\n",
      " [7] -0.15009322  0.00000000 -0.05909409 -0.03295299  0.00000000 -0.05909409\n",
      "[1] \"H(k|c)\"\n",
      "[1] 0.6736154\n",
      "[1] \"c\"\n",
      "[1] 0.3298743\n"
     ]
    }
   ],
   "source": [
    "h_list <- c()\n",
    "c_list <- c()\n",
    "for (id in  target_ids[1]) {\n",
    "    #extract edges and circles\n",
    "    edges_file = paste(\"gplus/\" , id  , \".edges\" , sep=\"\")\n",
    "    circles_file = paste(\"gplus/\" , id , \".circles\" , sep=\"\")\n",
    "    \n",
    "    circles_temp = file(circles_file , open=\"r\")\n",
    "    circles_content = readLines(circles_temp) #each line represents a circle\n",
    "    \n",
    "    circles = list()\n",
    "    for (i in 1:length(circles_content)) {\n",
    "        circle_nodes = strsplit(circles_content[i],\"\\t\")\n",
    "        circles = c(circles, list(circle_nodes[[1]][-1]))\n",
    "    }\n",
    "    close(circles_temp)\n",
    "    \n",
    "    #entropy of circle\n",
    "    a <- c()\n",
    "    total_circle <- c()\n",
    "    for (cir_id in 1:length(circles)){\n",
    "        a <- c(a, length(circles[[cir_id]]))\n",
    "        total_circle <- c(total_circle, unique(circles[[cir_id]]))\n",
    "    }\n",
    "    total_circle <- unique(total_circle)\n",
    "    N = length(total_circle)\n",
    "    \n",
    "    H_C = -1*sum(a/N*log((a+0.0001)/N))\n",
    "    \n",
    "    #build network\n",
    "    g = read.graph(edges_file , format = \"ncol\" , directed=TRUE)\n",
    "    g = add.vertices(g, nv = 1, name = id)\n",
    "    ego_node_index = which(V(g)$name==id)\n",
    "    \n",
    "    add_edge_list = c()\n",
    "    for (vertex in 1:(vcount(g) - 1)) {\n",
    "        add_edge_list = c(add_edge_list, c(ego_node_index, vertex))\n",
    "    }   \n",
    "    g <- add_edges(g, add_edge_list)    \n",
    "    wt_comm <- walktrap.community(g)\n",
    "    \n",
    "    #entropy of community\n",
    "    b <- c()\n",
    "    for (com_id in 1:length(wt_comm)){\n",
    "        b <- c(b, length(intersect(wt_comm[[com_id]], total_circle)))\n",
    "    }\n",
    "    H_K = -1*sum(b/N*log((b+0.0001)/N))\n",
    "    \n",
    "    #conditional entropy\n",
    "    h.c_k <- c()\n",
    "    C <- c()\n",
    "    for (com_id in 1:length(wt_comm)){\n",
    "        for (cir_id in 1:length(circles)){\n",
    "            C_ji <- length(intersect(circles[[cir_id]], wt_comm[[com_id]]))\n",
    "            C <- c(C, C_ji)\n",
    "            h.c_k <- c(h.c_k, C_ji/N*log((C_ji+0.0001)/(b[com_id]+0.0001)))\n",
    "        }\n",
    "    }\n",
    "    \n",
    "    H.c_k <- -1*sum(h.c_k)\n",
    "    h = 1 - H.c_k/H_C\n",
    "    \n",
    "    h.k_c <- c()\n",
    "    C <- c()\n",
    "    for (cir_id in 1:length(circles)){\n",
    "        for (com_id in 1:length(wt_comm)){\n",
    "            C_ji <- length(intersect(circles[[cir_id]], wt_comm[[com_id]]))\n",
    "            C <- c(C, C_ji)\n",
    "            h.k_c <- c(h.k_c, C_ji/N*log((C_ji+0.0001)/(a[cir_id]+0.0001)))\n",
    "        }\n",
    "    }\n",
    "    H.k_c <- -1*sum(h.k_c)\n",
    "    c = 1 - H.k_c/H_K\n",
    "    \n",
    "    h_list <- c(h_list, h)\n",
    "    c_list <- c(c_list, c)\n",
    "}"
   ]
  },
  {
   "cell_type": "code",
   "execution_count": 12,
   "metadata": {},
   "outputs": [
    {
     "name": "stdout",
     "output_type": "stream",
     "text": [
      "[1] 0.85188544 0.45189098 0.00386597\n",
      "[1]  0.3298743 -3.4239577 -1.5042390\n"
     ]
    }
   ],
   "source": [
    "print(h_list)\n",
    "print(c_list)"
   ]
  }
 ],
 "metadata": {
  "kernelspec": {
   "display_name": "R",
   "language": "R",
   "name": "ir"
  },
  "language_info": {
   "codemirror_mode": "r",
   "file_extension": ".r",
   "mimetype": "text/x-r-source",
   "name": "R",
   "pygments_lexer": "r",
   "version": "3.3.3"
  }
 },
 "nbformat": 4,
 "nbformat_minor": 2
}
