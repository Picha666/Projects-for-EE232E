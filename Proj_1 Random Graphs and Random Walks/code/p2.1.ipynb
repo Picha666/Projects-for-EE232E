{
 "cells": [
  {
   "cell_type": "code",
   "execution_count": 1,
   "metadata": {
    "collapsed": false
   },
   "outputs": [
    {
     "name": "stderr",
     "output_type": "stream",
     "text": [
      "\n",
      "Attaching package: 'igraph'\n",
      "\n",
      "The following objects are masked from 'package:stats':\n",
      "\n",
      "    decompose, spectrum\n",
      "\n",
      "The following object is masked from 'package:base':\n",
      "\n",
      "    union\n",
      "\n",
      "\n",
      "Attaching package: 'pracma'\n",
      "\n",
      "The following objects are masked from 'package:Matrix':\n",
      "\n",
      "    expm, lu, tril, triu\n",
      "\n"
     ]
    }
   ],
   "source": [
    "library('igraph')\n",
    "library('Matrix')\n",
    "library('pracma')"
   ]
  },
  {
   "cell_type": "code",
   "execution_count": 2,
   "metadata": {
    "collapsed": true
   },
   "outputs": [],
   "source": [
    "create_transition_matrix = function (g){\n",
    "    \n",
    "    # WARNING: make sure your graph is connected (you might input GCC of your graph)\n",
    "    \n",
    "    vs = V(g)\n",
    "    n = vcount(g)\n",
    "    adj = as_adjacency_matrix(g)\n",
    "    adj[diag(rowSums(adj) == 0)] = 1  # handle if the user is using the function for networks with isolated nodes by creating self-edges\n",
    "    z = matrix(rowSums(adj, , 1))\n",
    "    \n",
    "    transition_matrix = adj / repmat(z, 1, n)  # normalize to get probabilities\n",
    "    \n",
    "    return(transition_matrix)\n",
    "}"
   ]
  },
  {
   "cell_type": "markdown",
   "metadata": {},
   "source": [
    "### Transition Matrix for an Undirected Network\n"
   ]
  },
  {
   "cell_type": "code",
   "execution_count": 3,
   "metadata": {
    "collapsed": false
   },
   "outputs": [
    {
     "name": "stdout",
     "output_type": "stream",
     "text": [
      "8 x 8 sparse Matrix of class \"dgCMatrix\"\n"
     ]
    },
    {
     "data": {
      "image/svg+xml": [
       "<svg viewBox='0 0 720.00 360.00'><defs>  <style type='text/css'><![CDATA[    line, polyline, polygon, path, rect, circle {      fill: none;      stroke: #000000;      stroke-linecap: round;      stroke-linejoin: round;      stroke-miterlimit: 10.00;    }  ]]></style></defs><rect width='100%' height='100%' style='stroke: none; fill: #FFFFFF;'/><defs>  <clipPath id='cpNTkuMDR8Njg5Ljc2fDI4Ni41Nnw1OS4wNA=='>    <rect x='59.04' y='59.04' width='630.72' height='227.52' />  </clipPath></defs><line x1='465.33' y1='187.55' x2='401.35' y2='206.19' style='stroke-width: 0.75; stroke: #A9A9A9;' clip-path='url(#cpNTkuMDR8Njg5Ljc2fDI4Ni41Nnw1OS4wNA==)' /><line x1='396.04' y1='215.38' x2='407.89' y2='263.65' style='stroke-width: 0.75; stroke: #A9A9A9;' clip-path='url(#cpNTkuMDR8Njg5Ljc2fDI4Ni41Nnw1OS4wNA==)' /><line x1='387.27' y1='206.07' x2='328.55' y2='187.83' style='stroke-width: 0.75; stroke: #A9A9A9;' clip-path='url(#cpNTkuMDR8Njg5Ljc2fDI4Ni41Nnw1OS4wNA==)' /><line x1='387.10' y1='209.77' x2='316.28' y2='224.78' style='stroke-width: 0.75; stroke: #A9A9A9;' clip-path='url(#cpNTkuMDR8Njg5Ljc2fDI4Ni41Nnw1OS4wNA==)' /><line x1='319.38' y1='192.67' x2='311.24' y2='219.27' style='stroke-width: 0.75; stroke: #A9A9A9;' clip-path='url(#cpNTkuMDR8Njg5Ljc2fDI4Ni41Nnw1OS4wNA==)' /><line x1='316.87' y1='179.97' x2='281.08' y2='136.41' style='stroke-width: 0.75; stroke: #A9A9A9;' clip-path='url(#cpNTkuMDR8Njg5Ljc2fDI4Ni41Nnw1OS4wNA==)' /><line x1='402.36' y1='269.78' x2='345.13' y2='261.89' style='stroke-width: 0.75; stroke: #A9A9A9;' clip-path='url(#cpNTkuMDR8Njg5Ljc2fDI4Ni41Nnw1OS4wNA==)' /><line x1='323.09' y1='192.83' x2='336.29' y2='253.70' style='stroke-width: 0.75; stroke: #A9A9A9;' clip-path='url(#cpNTkuMDR8Njg5Ljc2fDI4Ni41Nnw1OS4wNA==)' /><line x1='313.79' y1='231.95' x2='333.15' y2='255.23' style='stroke-width: 0.75; stroke: #A9A9A9;' clip-path='url(#cpNTkuMDR8Njg5Ljc2fDI4Ni41Nnw1OS4wNA==)' /><circle cx='472.38' cy='185.49' r='7.35pt' style='stroke-width: 0.75; fill: #E69F00;' clip-path='url(#cpNTkuMDR8Njg5Ljc2fDI4Ni41Nnw1OS4wNA==)' /><circle cx='394.29' cy='208.25' r='7.35pt' style='stroke-width: 0.75; fill: #E69F00;' clip-path='url(#cpNTkuMDR8Njg5Ljc2fDI4Ni41Nnw1OS4wNA==)' /><circle cx='409.64' cy='270.78' r='7.35pt' style='stroke-width: 0.75; fill: #E69F00;' clip-path='url(#cpNTkuMDR8Njg5Ljc2fDI4Ni41Nnw1OS4wNA==)' /><circle cx='321.53' cy='185.65' r='7.35pt' style='stroke-width: 0.75; fill: #E69F00;' clip-path='url(#cpNTkuMDR8Njg5Ljc2fDI4Ni41Nnw1OS4wNA==)' /><circle cx='422.39' cy='74.82' r='7.35pt' style='stroke-width: 0.75; fill: #E69F00;' clip-path='url(#cpNTkuMDR8Njg5Ljc2fDI4Ni41Nnw1OS4wNA==)' /><circle cx='309.09' cy='226.30' r='7.35pt' style='stroke-width: 0.75; fill: #E69F00;' clip-path='url(#cpNTkuMDR8Njg5Ljc2fDI4Ni41Nnw1OS4wNA==)' /><circle cx='276.42' cy='130.74' r='7.35pt' style='stroke-width: 0.75; fill: #E69F00;' clip-path='url(#cpNTkuMDR8Njg5Ljc2fDI4Ni41Nnw1OS4wNA==)' /><circle cx='337.85' cy='260.88' r='7.35pt' style='stroke-width: 0.75; fill: #E69F00;' clip-path='url(#cpNTkuMDR8Njg5Ljc2fDI4Ni41Nnw1OS4wNA==)' /><defs>  <clipPath id='cpMC4wMHw3MjAuMDB8MzYwLjAwfDAuMDA='>    <rect x='0.00' y='0.00' width='720.00' height='360.00' />  </clipPath></defs><g clip-path='url(#cpMC4wMHw3MjAuMDB8MzYwLjAwfDAuMDA=)'><text x='469.05' y='190.10' style='font-size: 12.00px; fill: #00008B; font-family: Times;' textLength='6.66px' lengthAdjust='spacingAndGlyphs'>1</text></g><g clip-path='url(#cpMC4wMHw3MjAuMDB8MzYwLjAwfDAuMDA=)'><text x='390.96' y='212.89' style='font-size: 12.00px; fill: #00008B; font-family: Times;' textLength='6.66px' lengthAdjust='spacingAndGlyphs'>2</text></g><g clip-path='url(#cpMC4wMHw3MjAuMDB8MzYwLjAwfDAuMDA=)'><text x='406.31' y='275.35' style='font-size: 12.00px; fill: #00008B; font-family: Times;' textLength='6.66px' lengthAdjust='spacingAndGlyphs'>3</text></g><g clip-path='url(#cpMC4wMHw3MjAuMDB8MzYwLjAwfDAuMDA=)'><text x='318.20' y='190.26' style='font-size: 12.00px; fill: #00008B; font-family: Times;' textLength='6.66px' lengthAdjust='spacingAndGlyphs'>4</text></g><g clip-path='url(#cpMC4wMHw3MjAuMDB8MzYwLjAwfDAuMDA=)'><text x='419.06' y='79.31' style='font-size: 12.00px; fill: #00008B; font-family: Times;' textLength='6.66px' lengthAdjust='spacingAndGlyphs'>5</text></g><g clip-path='url(#cpMC4wMHw3MjAuMDB8MzYwLjAwfDAuMDA=)'><text x='305.76' y='230.86' style='font-size: 12.00px; fill: #00008B; font-family: Times;' textLength='6.66px' lengthAdjust='spacingAndGlyphs'>6</text></g><g clip-path='url(#cpMC4wMHw3MjAuMDB8MzYwLjAwfDAuMDA=)'><text x='273.08' y='135.31' style='font-size: 12.00px; fill: #00008B; font-family: Times;' textLength='6.66px' lengthAdjust='spacingAndGlyphs'>7</text></g><g clip-path='url(#cpMC4wMHw3MjAuMDB8MzYwLjAwfDAuMDA=)'><text x='334.52' y='265.44' style='font-size: 12.00px; fill: #00008B; font-family: Times;' textLength='6.66px' lengthAdjust='spacingAndGlyphs'>8</text></g></svg>"
      ]
     },
     "metadata": {},
     "output_type": "display_data"
    },
    {
     "name": "stdout",
     "output_type": "stream",
     "text": [
      "                                                                  \n",
      "[1,] .    1.0000000 .         .         . .         .    .        \n",
      "[2,] 0.25 .         0.2500000 0.2500000 . 0.2500000 .    .        \n",
      "[3,] .    0.5000000 .         .         . .         .    0.5000000\n",
      "[4,] .    0.2500000 .         .         . 0.2500000 0.25 0.2500000\n",
      "[5,] .    .         .         .         1 .         .    .        \n",
      "[6,] .    0.3333333 .         0.3333333 . .         .    0.3333333\n",
      "[7,] .    .         .         1.0000000 . .         .    .        \n",
      "[8,] .    .         0.3333333 0.3333333 . 0.3333333 .    .        \n"
     ]
    }
   ],
   "source": [
    "set.seed(0)\n",
    "g = random.graph.game(8, 0.3)\n",
    "plot(g)\n",
    "print(create_transition_matrix(g))"
   ]
  },
  {
   "cell_type": "markdown",
   "metadata": {},
   "source": [
    "### Transition Matrix for a Directed Network"
   ]
  },
  {
   "cell_type": "code",
   "execution_count": 4,
   "metadata": {
    "collapsed": false
   },
   "outputs": [
    {
     "name": "stdout",
     "output_type": "stream",
     "text": [
      "8 x 8 sparse Matrix of class \"dgCMatrix\"\n"
     ]
    },
    {
     "data": {
      "image/svg+xml": [
       "<svg viewBox='0 0 720.00 360.00'><defs>  <style type='text/css'><![CDATA[    line, polyline, polygon, path, rect, circle {      fill: none;      stroke: #000000;      stroke-linecap: round;      stroke-linejoin: round;      stroke-miterlimit: 10.00;    }  ]]></style></defs><rect width='100%' height='100%' style='stroke: none; fill: #FFFFFF;'/><defs>  <clipPath id='cpNTkuMDR8Njg5Ljc2fDI4Ni41Nnw1OS4wNA=='>    <rect x='59.04' y='59.04' width='630.72' height='227.52' />  </clipPath></defs><line x1='398.85' y1='188.22' x2='468.39' y2='80.98' style='stroke-width: 0.75; stroke: #A9A9A9;' clip-path='url(#cpNTkuMDR8Njg5Ljc2fDI4Ni41Nnw1OS4wNA==)' /><line x1='378.06' y1='90.08' x2='465.13' y2='75.99' style='stroke-width: 0.75; stroke: #A9A9A9;' clip-path='url(#cpNTkuMDR8Njg5Ljc2fDI4Ni41Nnw1OS4wNA==)' /><line x1='397.57' y1='203.65' x2='417.73' y2='250.06' style='stroke-width: 0.75; stroke: #A9A9A9;' clip-path='url(#cpNTkuMDR8Njg5Ljc2fDI4Ni41Nnw1OS4wNA==)' /><line x1='320.06' y1='159.69' x2='387.45' y2='192.38' style='stroke-width: 0.75; stroke: #A9A9A9;' clip-path='url(#cpNTkuMDR8Njg5Ljc2fDI4Ni41Nnw1OS4wNA==)' /><line x1='461.16' y1='185.76' x2='401.33' y2='194.52' style='stroke-width: 0.75; stroke: #A9A9A9;' clip-path='url(#cpNTkuMDR8Njg5Ljc2fDI4Ni41Nnw1OS4wNA==)' /><line x1='347.22' y1='263.55' x2='389.89' y2='201.64' style='stroke-width: 0.75; stroke: #A9A9A9;' clip-path='url(#cpNTkuMDR8Njg5Ljc2fDI4Ni41Nnw1OS4wNA==)' /><line x1='417.15' y1='248.74' x2='396.99' y2='202.33' style='stroke-width: 0.75; stroke: #A9A9A9;' clip-path='url(#cpNTkuMDR8Njg5Ljc2fDI4Ni41Nnw1OS4wNA==)' /><line x1='363.54' y1='98.05' x2='317.03' y2='150.36' style='stroke-width: 0.75; stroke: #A9A9A9;' clip-path='url(#cpNTkuMDR8Njg5Ljc2fDI4Ni41Nnw1OS4wNA==)' /><line x1='414.22' y1='250.81' x2='317.53' y2='160.86' style='stroke-width: 0.75; stroke: #A9A9A9;' clip-path='url(#cpNTkuMDR8Njg5Ljc2fDI4Ni41Nnw1OS4wNA==)' /><line x1='463.71' y1='76.22' x2='376.64' y2='90.31' style='stroke-width: 0.75; stroke: #A9A9A9;' clip-path='url(#cpNTkuMDR8Njg5Ljc2fDI4Ni41Nnw1OS4wNA==)' /><line x1='317.99' y1='149.28' x2='364.50' y2='96.98' style='stroke-width: 0.75; stroke: #A9A9A9;' clip-path='url(#cpNTkuMDR8Njg5Ljc2fDI4Ni41Nnw1OS4wNA==)' /><line x1='472.18' y1='83.60' x2='470.03' y2='177.14' style='stroke-width: 0.75; stroke: #A9A9A9;' clip-path='url(#cpNTkuMDR8Njg5Ljc2fDI4Ni41Nnw1OS4wNA==)' /><line x1='402.76' y1='194.32' x2='462.59' y2='185.55' style='stroke-width: 0.75; stroke: #A9A9A9;' clip-path='url(#cpNTkuMDR8Njg5Ljc2fDI4Ni41Nnw1OS4wNA==)' /><line x1='375.83' y1='97.46' x2='464.46' y2='179.50' style='stroke-width: 0.75; stroke: #A9A9A9;' clip-path='url(#cpNTkuMDR8Njg5Ljc2fDI4Ni41Nnw1OS4wNA==)' /><line x1='464.91' y1='191.75' x2='424.79' y2='250.72' style='stroke-width: 0.75; stroke: #A9A9A9;' clip-path='url(#cpNTkuMDR8Njg5Ljc2fDI4Ni41Nnw1OS4wNA==)' /><line x1='349.51' y1='265.86' x2='463.77' y2='188.60' style='stroke-width: 0.75; stroke: #A9A9A9;' clip-path='url(#cpNTkuMDR8Njg5Ljc2fDI4Ni41Nnw1OS4wNA==)' /><line x1='425.60' y1='249.53' x2='465.72' y2='190.56' style='stroke-width: 0.75; stroke: #A9A9A9;' clip-path='url(#cpNTkuMDR8Njg5Ljc2fDI4Ni41Nnw1OS4wNA==)' /><line x1='389.08' y1='202.83' x2='346.40' y2='264.73' style='stroke-width: 0.75; stroke: #A9A9A9;' clip-path='url(#cpNTkuMDR8Njg5Ljc2fDI4Ni41Nnw1OS4wNA==)' /><line x1='314.38' y1='164.35' x2='340.37' y2='263.68' style='stroke-width: 0.75; stroke: #A9A9A9;' clip-path='url(#cpNTkuMDR8Njg5Ljc2fDI4Ni41Nnw1OS4wNA==)' /><line x1='385.46' y1='197.40' x2='283.61' y2='218.82' style='stroke-width: 0.75; stroke: #A9A9A9;' clip-path='url(#cpNTkuMDR8Njg5Ljc2fDI4Ni41Nnw1OS4wNA==)' /><line x1='364.24' y1='98.61' x2='280.72' y2='214.37' style='stroke-width: 0.75; stroke: #A9A9A9;' clip-path='url(#cpNTkuMDR8Njg5Ljc2fDI4Ni41Nnw1OS4wNA==)' /><line x1='335.26' y1='265.44' x2='282.25' y2='224.80' style='stroke-width: 0.75; stroke: #A9A9A9;' clip-path='url(#cpNTkuMDR8Njg5Ljc2fDI4Ni41Nnw1OS4wNA==)' /><line x1='412.13' y1='254.65' x2='283.54' y2='222.13' style='stroke-width: 0.75; stroke: #A9A9A9;' clip-path='url(#cpNTkuMDR8Njg5Ljc2fDI4Ni41Nnw1OS4wNA==)' /><polygon points='464.24,95.45 464.30,94.22 464.41,92.91 464.59,91.50 464.87,89.94 465.29,88.15 466.00,85.92 468.45,81.02 468.33,80.94 464.85,85.17 463.10,86.73 461.64,87.84 460.33,88.73 459.11,89.47 457.97,90.11 456.87,90.67 ' style='stroke-width: 0.75; stroke: #A9A9A9; fill: #A9A9A9;' clip-path='url(#cpNTkuMDR8Njg5Ljc2fDI4Ni41Nnw1OS4wNA==)' /><polygon points='451.62,82.63 452.57,81.85 453.62,81.05 454.79,80.24 456.13,79.39 457.74,78.51 459.87,77.54 465.14,76.06 465.12,75.92 459.65,76.18 457.32,75.93 455.52,75.60 453.98,75.22 452.61,74.82 451.37,74.39 450.21,73.95 ' style='stroke-width: 0.75; stroke: #A9A9A9; fill: #A9A9A9;' clip-path='url(#cpNTkuMDR8Njg5Ljc2fDI4Ni41Nnw1OS4wNA==)' /><polygon points='407.96,238.60 408.95,239.34 409.98,240.16 411.06,241.09 412.21,242.18 413.46,243.52 414.93,245.34 417.66,250.09 417.79,250.03 416.19,244.79 415.86,242.48 415.74,240.65 415.72,239.06 415.77,237.64 415.88,236.33 416.02,235.10 ' style='stroke-width: 0.75; stroke: #A9A9A9; fill: #A9A9A9;' clip-path='url(#cpNTkuMDR8Njg5Ljc2fDI4Ni41Nnw1OS4wNA==)' /><polygon points='372.58,190.05 373.81,189.96 375.12,189.91 376.55,189.92 378.13,190.00 379.96,190.20 382.25,190.63 387.42,192.45 387.48,192.32 382.86,189.39 381.10,187.85 379.81,186.54 378.77,185.34 377.88,184.23 377.10,183.17 376.41,182.15 ' style='stroke-width: 0.75; stroke: #A9A9A9; fill: #A9A9A9;' clip-path='url(#cpNTkuMDR8Njg5Ljc2fDI4Ni41Nnw1OS4wNA==)' /><polygon points='414.95,188.09 413.98,188.86 412.92,189.64 411.74,190.43 410.38,191.26 408.76,192.12 406.62,193.05 401.32,194.45 401.35,194.60 406.82,194.42 409.14,194.70 410.94,195.06 412.47,195.46 413.83,195.89 415.07,196.33 416.22,196.78 ' style='stroke-width: 0.75; stroke: #A9A9A9; fill: #A9A9A9;' clip-path='url(#cpNTkuMDR8Njg5Ljc2fDI4Ni41Nnw1OS4wNA==)' /><polygon points='385.34,215.99 385.43,214.76 385.59,213.45 385.81,212.04 386.13,210.49 386.60,208.72 387.37,206.51 389.95,201.68 389.83,201.60 386.24,205.73 384.45,207.24 382.96,208.31 381.62,209.16 380.39,209.87 379.22,210.47 378.10,211.00 ' style='stroke-width: 0.75; stroke: #A9A9A9; fill: #A9A9A9;' clip-path='url(#cpNTkuMDR8Njg5Ljc2fDI4Ni41Nnw1OS4wNA==)' /><polygon points='406.76,213.79 405.77,213.05 404.74,212.23 403.66,211.30 402.51,210.21 401.26,208.87 399.79,207.05 397.06,202.30 396.93,202.36 398.53,207.60 398.86,209.91 398.98,211.74 399.00,213.33 398.94,214.75 398.84,216.06 398.70,217.29 ' style='stroke-width: 0.75; stroke: #A9A9A9; fill: #A9A9A9;' clip-path='url(#cpNTkuMDR8Njg5Ljc2fDI4Ni41Nnw1OS4wNA==)' /><polygon points='323.32,136.68 323.07,137.89 322.76,139.17 322.37,140.54 321.86,142.04 321.17,143.74 320.14,145.83 316.98,150.31 317.09,150.41 321.17,146.75 323.12,145.47 324.74,144.59 326.17,143.91 327.48,143.36 328.71,142.90 329.88,142.52 ' style='stroke-width: 0.75; stroke: #A9A9A9; fill: #A9A9A9;' clip-path='url(#cpNTkuMDR8Njg5Ljc2fDI4Ni41Nnw1OS4wNA==)' /><polygon points='331.07,167.45 329.86,167.17 328.59,166.83 327.23,166.41 325.74,165.87 324.06,165.14 321.99,164.06 317.58,160.80 317.48,160.91 321.05,165.07 322.28,167.06 323.12,168.69 323.77,170.13 324.29,171.46 324.72,172.70 325.08,173.88 ' style='stroke-width: 0.75; stroke: #A9A9A9; fill: #A9A9A9;' clip-path='url(#cpNTkuMDR8Njg5Ljc2fDI4Ni41Nnw1OS4wNA==)' /><polygon points='390.15,83.67 389.20,84.45 388.15,85.25 386.98,86.06 385.64,86.91 384.03,87.79 381.90,88.76 376.63,90.24 376.65,90.38 382.12,90.12 384.45,90.37 386.25,90.70 387.79,91.08 389.16,91.48 390.40,91.91 391.56,92.35 ' style='stroke-width: 0.75; stroke: #A9A9A9; fill: #A9A9A9;' clip-path='url(#cpNTkuMDR8Njg5Ljc2fDI4Ni41Nnw1OS4wNA==)' /><polygon points='358.21,110.66 358.46,109.45 358.77,108.17 359.17,106.80 359.67,105.30 360.36,103.60 361.40,101.50 364.56,97.02 364.45,96.93 360.37,100.59 358.41,101.86 356.80,102.74 355.37,103.42 354.05,103.97 352.82,104.43 351.65,104.82 ' style='stroke-width: 0.75; stroke: #A9A9A9; fill: #A9A9A9;' clip-path='url(#cpNTkuMDR8Njg5Ljc2fDI4Ni41Nnw1OS4wNA==)' /><polygon points='465.97,162.64 466.56,163.73 467.15,164.90 467.74,166.20 468.32,167.67 468.90,169.42 469.46,171.68 469.95,177.14 470.10,177.14 470.84,171.71 471.51,169.48 472.17,167.76 472.82,166.32 473.46,165.05 474.11,163.90 474.75,162.85 ' style='stroke-width: 0.75; stroke: #A9A9A9; fill: #A9A9A9;' clip-path='url(#cpNTkuMDR8Njg5Ljc2fDI4Ni41Nnw1OS4wNA==)' /><polygon points='448.97,191.99 449.94,191.22 451.00,190.44 452.18,189.64 453.54,188.82 455.16,187.96 457.30,187.02 462.60,185.62 462.58,185.48 457.10,185.66 454.78,185.38 452.98,185.02 451.45,184.62 450.09,184.19 448.85,183.75 447.70,183.29 ' style='stroke-width: 0.75; stroke: #A9A9A9; fill: #A9A9A9;' clip-path='url(#cpNTkuMDR8Njg5Ljc2fDI4Ni41Nnw1OS4wNA==)' /><polygon points='450.91,172.94 452.12,173.21 453.39,173.55 454.75,173.97 456.24,174.50 457.93,175.23 460.00,176.30 464.42,179.55 464.51,179.44 460.94,175.29 459.70,173.31 458.85,171.68 458.20,170.24 457.68,168.91 457.25,167.67 456.88,166.49 ' style='stroke-width: 0.75; stroke: #A9A9A9; fill: #A9A9A9;' clip-path='url(#cpNTkuMDR8Njg5Ljc2fDI4Ni41Nnw1OS4wNA==)' /><polygon points='429.26,236.35 429.17,237.58 429.03,238.89 428.81,240.29 428.50,241.85 428.04,243.63 427.28,245.84 424.73,250.68 424.85,250.76 428.42,246.61 430.20,245.09 431.68,244.01 433.01,243.15 434.25,242.44 435.41,241.82 436.52,241.29 ' style='stroke-width: 0.75; stroke: #A9A9A9; fill: #A9A9A9;' clip-path='url(#cpNTkuMDR8Njg5Ljc2fDI4Ni41Nnw1OS4wNA==)' /><polygon points='454.30,200.31 454.84,199.20 455.46,198.04 456.18,196.81 457.04,195.48 458.13,194.00 459.65,192.22 463.81,188.66 463.73,188.54 458.88,191.08 456.66,191.83 454.88,192.29 453.33,192.60 451.92,192.80 450.61,192.94 449.38,193.03 ' style='stroke-width: 0.75; stroke: #A9A9A9; fill: #A9A9A9;' clip-path='url(#cpNTkuMDR8Njg5Ljc2fDI4Ni41Nnw1OS4wNA==)' /><polygon points='461.25,204.94 461.34,203.71 461.49,202.40 461.70,200.99 462.01,199.44 462.47,197.66 463.23,195.45 465.78,190.60 465.66,190.52 462.09,194.68 460.31,196.19 458.83,197.27 457.50,198.13 456.27,198.85 455.10,199.46 453.99,200.00 ' style='stroke-width: 0.75; stroke: #A9A9A9; fill: #A9A9A9;' clip-path='url(#cpNTkuMDR8Njg5Ljc2fDI4Ni41Nnw1OS4wNA==)' /><polygon points='350.96,250.38 350.86,251.61 350.71,252.92 350.49,254.33 350.17,255.88 349.70,257.65 348.93,259.86 346.34,264.69 346.46,264.77 350.06,260.64 351.85,259.14 353.34,258.06 354.67,257.21 355.91,256.51 357.08,255.90 358.19,255.37 ' style='stroke-width: 0.75; stroke: #A9A9A9; fill: #A9A9A9;' clip-path='url(#cpNTkuMDR8Njg5Ljc2fDI4Ni41Nnw1OS4wNA==)' /><polygon points='332.48,250.86 333.35,251.73 334.24,252.70 335.16,253.79 336.12,255.04 337.16,256.56 338.33,258.58 340.30,263.69 340.44,263.66 339.66,258.24 339.69,255.90 339.85,254.07 340.07,252.50 340.35,251.10 340.65,249.82 340.98,248.63 ' style='stroke-width: 0.75; stroke: #A9A9A9; fill: #A9A9A9;' clip-path='url(#cpNTkuMDR8Njg5Ljc2fDI4Ni41Nnw1OS4wNA==)' /><polygon points='296.79,211.56 295.88,212.38 294.87,213.23 293.74,214.09 292.44,215.00 290.87,215.96 288.79,217.03 283.59,218.75 283.62,218.89 289.08,218.38 291.41,218.52 293.23,218.76 294.78,219.07 296.17,219.41 297.43,219.77 298.60,220.16 ' style='stroke-width: 0.75; stroke: #A9A9A9; fill: #A9A9A9;' clip-path='url(#cpNTkuMDR8Njg5Ljc2fDI4Ni41Nnw1OS4wNA==)' /><polygon points='285.58,200.13 285.46,201.35 285.28,202.66 285.02,204.06 284.67,205.60 284.16,207.37 283.34,209.56 280.66,214.33 280.77,214.42 284.46,210.36 286.28,208.90 287.79,207.85 289.15,207.03 290.40,206.35 291.58,205.77 292.70,205.27 ' style='stroke-width: 0.75; stroke: #A9A9A9; fill: #A9A9A9;' clip-path='url(#cpNTkuMDR8Njg5Ljc2fDI4Ni41Nnw1OS4wNA==)' /><polygon points='296.35,230.08 295.13,229.92 293.83,229.70 292.43,229.41 290.90,229.01 289.15,228.45 286.99,227.57 282.29,224.75 282.20,224.86 286.15,228.66 287.56,230.52 288.56,232.07 289.34,233.44 289.99,234.71 290.53,235.91 291.00,237.05 ' style='stroke-width: 0.75; stroke: #A9A9A9; fill: #A9A9A9;' clip-path='url(#cpNTkuMDR8Njg5Ljc2fDI4Ni41Nnw1OS4wNA==)' /><polygon points='298.58,221.41 297.39,221.74 296.11,222.06 294.72,222.34 293.15,222.58 291.32,222.75 288.99,222.80 283.56,222.06 283.52,222.20 288.65,224.14 290.68,225.29 292.21,226.31 293.47,227.27 294.57,228.18 295.54,229.06 296.42,229.92 ' style='stroke-width: 0.75; stroke: #A9A9A9; fill: #A9A9A9;' clip-path='url(#cpNTkuMDR8Njg5Ljc2fDI4Ni41Nnw1OS4wNA==)' /><circle cx='472.38' cy='74.82' r='7.35pt' style='stroke-width: 0.75; fill: #E69F00;' clip-path='url(#cpNTkuMDR8Njg5Ljc2fDI4Ni41Nnw1OS4wNA==)' /><circle cx='394.06' cy='195.59' r='7.35pt' style='stroke-width: 0.75; fill: #E69F00;' clip-path='url(#cpNTkuMDR8Njg5Ljc2fDI4Ni41Nnw1OS4wNA==)' /><circle cx='312.15' cy='155.85' r='7.35pt' style='stroke-width: 0.75; fill: #E69F00;' clip-path='url(#cpNTkuMDR8Njg5Ljc2fDI4Ni41Nnw1OS4wNA==)' /><circle cx='369.38' cy='91.48' r='7.35pt' style='stroke-width: 0.75; fill: #E69F00;' clip-path='url(#cpNTkuMDR8Njg5Ljc2fDI4Ni41Nnw1OS4wNA==)' /><circle cx='469.86' cy='184.49' r='7.35pt' style='stroke-width: 0.75; fill: #E69F00;' clip-path='url(#cpNTkuMDR8Njg5Ljc2fDI4Ni41Nnw1OS4wNA==)' /><circle cx='342.23' cy='270.78' r='7.35pt' style='stroke-width: 0.75; fill: #E69F00;' clip-path='url(#cpNTkuMDR8Njg5Ljc2fDI4Ni41Nnw1OS4wNA==)' /><circle cx='276.42' cy='220.33' r='7.35pt' style='stroke-width: 0.75; fill: #E69F00;' clip-path='url(#cpNTkuMDR8Njg5Ljc2fDI4Ni41Nnw1OS4wNA==)' /><circle cx='420.66' cy='256.80' r='7.35pt' style='stroke-width: 0.75; fill: #E69F00;' clip-path='url(#cpNTkuMDR8Njg5Ljc2fDI4Ni41Nnw1OS4wNA==)' /><defs>  <clipPath id='cpMC4wMHw3MjAuMDB8MzYwLjAwfDAuMDA='>    <rect x='0.00' y='0.00' width='720.00' height='360.00' />  </clipPath></defs><g clip-path='url(#cpMC4wMHw3MjAuMDB8MzYwLjAwfDAuMDA=)'><text x='469.05' y='79.42' style='font-size: 12.00px; fill: #00008B; font-family: Times;' textLength='6.66px' lengthAdjust='spacingAndGlyphs'>1</text></g><g clip-path='url(#cpMC4wMHw3MjAuMDB8MzYwLjAwfDAuMDA=)'><text x='390.73' y='200.23' style='font-size: 12.00px; fill: #00008B; font-family: Times;' textLength='6.66px' lengthAdjust='spacingAndGlyphs'>2</text></g><g clip-path='url(#cpMC4wMHw3MjAuMDB8MzYwLjAwfDAuMDA=)'><text x='308.82' y='160.41' style='font-size: 12.00px; fill: #00008B; font-family: Times;' textLength='6.66px' lengthAdjust='spacingAndGlyphs'>3</text></g><g clip-path='url(#cpMC4wMHw3MjAuMDB8MzYwLjAwfDAuMDA=)'><text x='366.05' y='96.09' style='font-size: 12.00px; fill: #00008B; font-family: Times;' textLength='6.66px' lengthAdjust='spacingAndGlyphs'>4</text></g><g clip-path='url(#cpMC4wMHw3MjAuMDB8MzYwLjAwfDAuMDA=)'><text x='466.53' y='188.98' style='font-size: 12.00px; fill: #00008B; font-family: Times;' textLength='6.66px' lengthAdjust='spacingAndGlyphs'>5</text></g><g clip-path='url(#cpMC4wMHw3MjAuMDB8MzYwLjAwfDAuMDA=)'><text x='338.90' y='275.35' style='font-size: 12.00px; fill: #00008B; font-family: Times;' textLength='6.66px' lengthAdjust='spacingAndGlyphs'>6</text></g><g clip-path='url(#cpMC4wMHw3MjAuMDB8MzYwLjAwfDAuMDA=)'><text x='273.08' y='224.90' style='font-size: 12.00px; fill: #00008B; font-family: Times;' textLength='6.66px' lengthAdjust='spacingAndGlyphs'>7</text></g><g clip-path='url(#cpMC4wMHw3MjAuMDB8MzYwLjAwfDAuMDA=)'><text x='417.32' y='261.36' style='font-size: 12.00px; fill: #00008B; font-family: Times;' textLength='6.66px' lengthAdjust='spacingAndGlyphs'>8</text></g></svg>"
      ]
     },
     "metadata": {},
     "output_type": "display_data"
    },
    {
     "name": "stdout",
     "output_type": "stream",
     "text": [
      "                                                                    \n",
      "[1,] .    .         .    0.5000000 0.5000000 .         .         .  \n",
      "[2,] 0.20 .         .    .         0.2000000 0.2000000 0.2000000 0.2\n",
      "[3,] .    0.3333333 .    0.3333333 .         0.3333333 .         .  \n",
      "[4,] 0.25 .         0.25 .         0.2500000 .         0.2500000 .  \n",
      "[5,] .    0.5000000 .    .         .         .         .         0.5\n",
      "[6,] .    0.3333333 .    .         0.3333333 .         0.3333333 .  \n",
      "[7,] .    .         .    .         .         .         1.0000000 .  \n",
      "[8,] .    0.2500000 0.25 .         0.2500000 .         0.2500000 .  \n"
     ]
    }
   ],
   "source": [
    "set.seed(1)\n",
    "g = random.graph.game(8, 0.4, directed = T)\n",
    "plot(g)\n",
    "print(create_transition_matrix(g))"
   ]
  },
  {
   "cell_type": "code",
   "execution_count": 10,
   "metadata": {
    "collapsed": true
   },
   "outputs": [],
   "source": [
    "random_walk = function (g, num_steps, start_node, transition_matrix = NULL){\n",
    "    if(is.null(transition_matrix))\n",
    "        transition_matrix = create_transition_matrix(g)\n",
    "        \n",
    "    v = start_node\n",
    "    for(i in 1:num_steps){\n",
    "        # fprintf('Step %d: %d\\n', i, v)  # COMMENT THIS\n",
    "        PMF = transition_matrix[v, ]\n",
    "        v = sample(1:vcount(g), 1, prob = PMF)        \n",
    "    }\n",
    "    \n",
    "    return(v)\n",
    "}"
   ]
  },
  {
   "cell_type": "code",
   "execution_count": 6,
   "metadata": {
    "collapsed": false
   },
   "outputs": [
    {
     "name": "stdout",
     "output_type": "stream",
     "text": [
      "[1] 0\n"
     ]
    }
   ],
   "source": [
    "g = random.graph.game(8, 0.3)\n",
    "print(create_transition_matrix(g)[1, ][3])"
   ]
  },
  {
   "cell_type": "code",
   "execution_count": 7,
   "metadata": {
    "collapsed": false
   },
   "outputs": [
    {
     "name": "stdout",
     "output_type": "stream",
     "text": [
      "Step 1: 1\n",
      "Step 2: 4\n",
      "Step 3: 3\n",
      "Step 4: 4\n",
      "Step 5: 1\n",
      "Step 6: 4\n",
      "Step 7: 1\n",
      "Step 8: 2\n",
      "Step 9: 1\n",
      "Step 10: 2\n",
      "Step 11: 6\n",
      "Step 12: 3\n",
      "Step 13: 6\n",
      "Step 14: 2\n",
      "Step 15: 6\n"
     ]
    }
   ],
   "source": [
    "set.seed(1)\n",
    "v_last = random_walk(g, 15, 1)"
   ]
  },
  {
   "cell_type": "code",
   "execution_count": 8,
   "metadata": {
    "collapsed": true
   },
   "outputs": [],
   "source": [
    "getShortest = function (g, start, last, transition_matrix){\n",
    "    v = start\n",
    "    q = list()\n",
    "    dist = 0\n",
    "    q = c(q, v)\n",
    "    visited = list()\n",
    "    visited = c(visited, v)\n",
    "    while (length(q) != 0) {\n",
    "        for (time in 1:length(q)) {\n",
    "            v = q[[1]]\n",
    "            q = q[-1] # deque\n",
    "            # print (v)\n",
    "            if (last == v) {\n",
    "                print (last)\n",
    "                print (v)\n",
    "                return(dist)\n",
    "            }\n",
    "            neighbors = transition_matrix[v, ]\n",
    "            for (i in 1:length(neighbors)) {\n",
    "                if (neighbors[i] > 0 && !(i %in% visited)) {\n",
    "                    q = c(q, i) # enqueue\n",
    "                    visited = c(visited, i)\n",
    "                }\n",
    "            }\n",
    "        }\n",
    "        dist = dist + 1\n",
    "    }\n",
    "}"
   ]
  },
  {
   "cell_type": "code",
   "execution_count": 26,
   "metadata": {
    "collapsed": false
   },
   "outputs": [],
   "source": [
    "# 1 a\n",
    "g = erdos.renyi.game(10000, 0.01, directed=FALSE)\n",
    "transition_matrix = create_transition_matrix(g)\n",
    "\n"
   ]
  },
  {
   "cell_type": "code",
   "execution_count": 27,
   "metadata": {
    "collapsed": false
   },
   "outputs": [
    {
     "data": {
      "image/svg+xml": [
       "<svg viewBox='0 0 720.00 360.00'><defs>  <style type='text/css'><![CDATA[    line, polyline, polygon, path, rect, circle {      fill: none;      stroke: #000000;      stroke-linecap: round;      stroke-linejoin: round;      stroke-miterlimit: 10.00;    }  ]]></style></defs><rect width='100%' height='100%' style='stroke: none; fill: #FFFFFF;'/><defs>  <clipPath id='cpNTkuMDR8Njg5Ljc2fDI4Ni41Nnw1OS4wNA=='>    <rect x='59.04' y='59.04' width='630.72' height='227.52' />  </clipPath></defs><polyline points='82.40,278.13 94.32,179.43 106.24,127.36 118.16,146.53 130.07,146.53 141.99,146.53 153.91,127.36 165.83,146.53 177.75,127.36 189.67,113.63 201.58,113.63 213.50,131.00 225.42,113.63 237.34,116.95 249.26,127.36 261.18,116.95 273.09,113.63 285.01,127.36 296.93,116.95 308.85,127.36 320.77,116.95 332.69,116.95 344.60,127.36 356.52,116.95 368.44,127.36 380.36,113.63 392.28,127.36 404.20,113.63 416.11,113.63 428.03,146.53 439.95,80.73 451.87,116.95 463.79,116.95 475.71,116.95 487.62,127.36 499.54,116.95 511.46,146.53 523.38,113.63 535.30,116.95 547.22,67.47 559.13,113.63 571.05,113.63 582.97,116.95 594.89,127.36 606.81,113.63 618.73,67.47 630.64,100.96 642.56,116.95 654.48,179.43 666.40,80.73 ' style='stroke-width: 0.75;' clip-path='url(#cpNTkuMDR8Njg5Ljc2fDI4Ni41Nnw1OS4wNA==)' /><circle cx='82.40' cy='278.13' r='2.70pt' style='stroke-width: 0.75;' clip-path='url(#cpNTkuMDR8Njg5Ljc2fDI4Ni41Nnw1OS4wNA==)' /><circle cx='94.32' cy='179.43' r='2.70pt' style='stroke-width: 0.75;' clip-path='url(#cpNTkuMDR8Njg5Ljc2fDI4Ni41Nnw1OS4wNA==)' /><circle cx='106.24' cy='127.36' r='2.70pt' style='stroke-width: 0.75;' clip-path='url(#cpNTkuMDR8Njg5Ljc2fDI4Ni41Nnw1OS4wNA==)' /><circle cx='118.16' cy='146.53' r='2.70pt' style='stroke-width: 0.75;' clip-path='url(#cpNTkuMDR8Njg5Ljc2fDI4Ni41Nnw1OS4wNA==)' /><circle cx='130.07' cy='146.53' r='2.70pt' style='stroke-width: 0.75;' clip-path='url(#cpNTkuMDR8Njg5Ljc2fDI4Ni41Nnw1OS4wNA==)' /><circle cx='141.99' cy='146.53' r='2.70pt' style='stroke-width: 0.75;' clip-path='url(#cpNTkuMDR8Njg5Ljc2fDI4Ni41Nnw1OS4wNA==)' /><circle cx='153.91' cy='127.36' r='2.70pt' style='stroke-width: 0.75;' clip-path='url(#cpNTkuMDR8Njg5Ljc2fDI4Ni41Nnw1OS4wNA==)' /><circle cx='165.83' cy='146.53' r='2.70pt' style='stroke-width: 0.75;' clip-path='url(#cpNTkuMDR8Njg5Ljc2fDI4Ni41Nnw1OS4wNA==)' /><circle cx='177.75' cy='127.36' r='2.70pt' style='stroke-width: 0.75;' clip-path='url(#cpNTkuMDR8Njg5Ljc2fDI4Ni41Nnw1OS4wNA==)' /><circle cx='189.67' cy='113.63' r='2.70pt' style='stroke-width: 0.75;' clip-path='url(#cpNTkuMDR8Njg5Ljc2fDI4Ni41Nnw1OS4wNA==)' /><circle cx='201.58' cy='113.63' r='2.70pt' style='stroke-width: 0.75;' clip-path='url(#cpNTkuMDR8Njg5Ljc2fDI4Ni41Nnw1OS4wNA==)' /><circle cx='213.50' cy='131.00' r='2.70pt' style='stroke-width: 0.75;' clip-path='url(#cpNTkuMDR8Njg5Ljc2fDI4Ni41Nnw1OS4wNA==)' /><circle cx='225.42' cy='113.63' r='2.70pt' style='stroke-width: 0.75;' clip-path='url(#cpNTkuMDR8Njg5Ljc2fDI4Ni41Nnw1OS4wNA==)' /><circle cx='237.34' cy='116.95' r='2.70pt' style='stroke-width: 0.75;' clip-path='url(#cpNTkuMDR8Njg5Ljc2fDI4Ni41Nnw1OS4wNA==)' /><circle cx='249.26' cy='127.36' r='2.70pt' style='stroke-width: 0.75;' clip-path='url(#cpNTkuMDR8Njg5Ljc2fDI4Ni41Nnw1OS4wNA==)' /><circle cx='261.18' cy='116.95' r='2.70pt' style='stroke-width: 0.75;' clip-path='url(#cpNTkuMDR8Njg5Ljc2fDI4Ni41Nnw1OS4wNA==)' /><circle cx='273.09' cy='113.63' r='2.70pt' style='stroke-width: 0.75;' clip-path='url(#cpNTkuMDR8Njg5Ljc2fDI4Ni41Nnw1OS4wNA==)' /><circle cx='285.01' cy='127.36' r='2.70pt' style='stroke-width: 0.75;' clip-path='url(#cpNTkuMDR8Njg5Ljc2fDI4Ni41Nnw1OS4wNA==)' /><circle cx='296.93' cy='116.95' r='2.70pt' style='stroke-width: 0.75;' clip-path='url(#cpNTkuMDR8Njg5Ljc2fDI4Ni41Nnw1OS4wNA==)' /><circle cx='308.85' cy='127.36' r='2.70pt' style='stroke-width: 0.75;' clip-path='url(#cpNTkuMDR8Njg5Ljc2fDI4Ni41Nnw1OS4wNA==)' /><circle cx='320.77' cy='116.95' r='2.70pt' style='stroke-width: 0.75;' clip-path='url(#cpNTkuMDR8Njg5Ljc2fDI4Ni41Nnw1OS4wNA==)' /><circle cx='332.69' cy='116.95' r='2.70pt' style='stroke-width: 0.75;' clip-path='url(#cpNTkuMDR8Njg5Ljc2fDI4Ni41Nnw1OS4wNA==)' /><circle cx='344.60' cy='127.36' r='2.70pt' style='stroke-width: 0.75;' clip-path='url(#cpNTkuMDR8Njg5Ljc2fDI4Ni41Nnw1OS4wNA==)' /><circle cx='356.52' cy='116.95' r='2.70pt' style='stroke-width: 0.75;' clip-path='url(#cpNTkuMDR8Njg5Ljc2fDI4Ni41Nnw1OS4wNA==)' /><circle cx='368.44' cy='127.36' r='2.70pt' style='stroke-width: 0.75;' clip-path='url(#cpNTkuMDR8Njg5Ljc2fDI4Ni41Nnw1OS4wNA==)' /><circle cx='380.36' cy='113.63' r='2.70pt' style='stroke-width: 0.75;' clip-path='url(#cpNTkuMDR8Njg5Ljc2fDI4Ni41Nnw1OS4wNA==)' /><circle cx='392.28' cy='127.36' r='2.70pt' style='stroke-width: 0.75;' clip-path='url(#cpNTkuMDR8Njg5Ljc2fDI4Ni41Nnw1OS4wNA==)' /><circle cx='404.20' cy='113.63' r='2.70pt' style='stroke-width: 0.75;' clip-path='url(#cpNTkuMDR8Njg5Ljc2fDI4Ni41Nnw1OS4wNA==)' /><circle cx='416.11' cy='113.63' r='2.70pt' style='stroke-width: 0.75;' clip-path='url(#cpNTkuMDR8Njg5Ljc2fDI4Ni41Nnw1OS4wNA==)' /><circle cx='428.03' cy='146.53' r='2.70pt' style='stroke-width: 0.75;' clip-path='url(#cpNTkuMDR8Njg5Ljc2fDI4Ni41Nnw1OS4wNA==)' /><circle cx='439.95' cy='80.73' r='2.70pt' style='stroke-width: 0.75;' clip-path='url(#cpNTkuMDR8Njg5Ljc2fDI4Ni41Nnw1OS4wNA==)' /><circle cx='451.87' cy='116.95' r='2.70pt' style='stroke-width: 0.75;' clip-path='url(#cpNTkuMDR8Njg5Ljc2fDI4Ni41Nnw1OS4wNA==)' /><circle cx='463.79' cy='116.95' r='2.70pt' style='stroke-width: 0.75;' clip-path='url(#cpNTkuMDR8Njg5Ljc2fDI4Ni41Nnw1OS4wNA==)' /><circle cx='475.71' cy='116.95' r='2.70pt' style='stroke-width: 0.75;' clip-path='url(#cpNTkuMDR8Njg5Ljc2fDI4Ni41Nnw1OS4wNA==)' /><circle cx='487.62' cy='127.36' r='2.70pt' style='stroke-width: 0.75;' clip-path='url(#cpNTkuMDR8Njg5Ljc2fDI4Ni41Nnw1OS4wNA==)' /><circle cx='499.54' cy='116.95' r='2.70pt' style='stroke-width: 0.75;' clip-path='url(#cpNTkuMDR8Njg5Ljc2fDI4Ni41Nnw1OS4wNA==)' /><circle cx='511.46' cy='146.53' r='2.70pt' style='stroke-width: 0.75;' clip-path='url(#cpNTkuMDR8Njg5Ljc2fDI4Ni41Nnw1OS4wNA==)' /><circle cx='523.38' cy='113.63' r='2.70pt' style='stroke-width: 0.75;' clip-path='url(#cpNTkuMDR8Njg5Ljc2fDI4Ni41Nnw1OS4wNA==)' /><circle cx='535.30' cy='116.95' r='2.70pt' style='stroke-width: 0.75;' clip-path='url(#cpNTkuMDR8Njg5Ljc2fDI4Ni41Nnw1OS4wNA==)' /><circle cx='547.22' cy='67.47' r='2.70pt' style='stroke-width: 0.75;' clip-path='url(#cpNTkuMDR8Njg5Ljc2fDI4Ni41Nnw1OS4wNA==)' /><circle cx='559.13' cy='113.63' r='2.70pt' style='stroke-width: 0.75;' clip-path='url(#cpNTkuMDR8Njg5Ljc2fDI4Ni41Nnw1OS4wNA==)' /><circle cx='571.05' cy='113.63' r='2.70pt' style='stroke-width: 0.75;' clip-path='url(#cpNTkuMDR8Njg5Ljc2fDI4Ni41Nnw1OS4wNA==)' /><circle cx='582.97' cy='116.95' r='2.70pt' style='stroke-width: 0.75;' clip-path='url(#cpNTkuMDR8Njg5Ljc2fDI4Ni41Nnw1OS4wNA==)' /><circle cx='594.89' cy='127.36' r='2.70pt' style='stroke-width: 0.75;' clip-path='url(#cpNTkuMDR8Njg5Ljc2fDI4Ni41Nnw1OS4wNA==)' /><circle cx='606.81' cy='113.63' r='2.70pt' style='stroke-width: 0.75;' clip-path='url(#cpNTkuMDR8Njg5Ljc2fDI4Ni41Nnw1OS4wNA==)' /><circle cx='618.73' cy='67.47' r='2.70pt' style='stroke-width: 0.75;' clip-path='url(#cpNTkuMDR8Njg5Ljc2fDI4Ni41Nnw1OS4wNA==)' /><circle cx='630.64' cy='100.96' r='2.70pt' style='stroke-width: 0.75;' clip-path='url(#cpNTkuMDR8Njg5Ljc2fDI4Ni41Nnw1OS4wNA==)' /><circle cx='642.56' cy='116.95' r='2.70pt' style='stroke-width: 0.75;' clip-path='url(#cpNTkuMDR8Njg5Ljc2fDI4Ni41Nnw1OS4wNA==)' /><circle cx='654.48' cy='179.43' r='2.70pt' style='stroke-width: 0.75;' clip-path='url(#cpNTkuMDR8Njg5Ljc2fDI4Ni41Nnw1OS4wNA==)' /><circle cx='666.40' cy='80.73' r='2.70pt' style='stroke-width: 0.75;' clip-path='url(#cpNTkuMDR8Njg5Ljc2fDI4Ni41Nnw1OS4wNA==)' /><defs>  <clipPath id='cpMC4wMHw3MjAuMDB8MzYwLjAwfDAuMDA='>    <rect x='0.00' y='0.00' width='720.00' height='360.00' />  </clipPath></defs><line x1='70.48' y1='286.56' x2='666.40' y2='286.56' style='stroke-width: 0.75;' clip-path='url(#cpMC4wMHw3MjAuMDB8MzYwLjAwfDAuMDA=)' /><line x1='70.48' y1='286.56' x2='70.48' y2='293.76' style='stroke-width: 0.75;' clip-path='url(#cpMC4wMHw3MjAuMDB8MzYwLjAwfDAuMDA=)' /><line x1='189.67' y1='286.56' x2='189.67' y2='293.76' style='stroke-width: 0.75;' clip-path='url(#cpMC4wMHw3MjAuMDB8MzYwLjAwfDAuMDA=)' /><line x1='308.85' y1='286.56' x2='308.85' y2='293.76' style='stroke-width: 0.75;' clip-path='url(#cpMC4wMHw3MjAuMDB8MzYwLjAwfDAuMDA=)' /><line x1='428.03' y1='286.56' x2='428.03' y2='293.76' style='stroke-width: 0.75;' clip-path='url(#cpMC4wMHw3MjAuMDB8MzYwLjAwfDAuMDA=)' /><line x1='547.22' y1='286.56' x2='547.22' y2='293.76' style='stroke-width: 0.75;' clip-path='url(#cpMC4wMHw3MjAuMDB8MzYwLjAwfDAuMDA=)' /><line x1='666.40' y1='286.56' x2='666.40' y2='293.76' style='stroke-width: 0.75;' clip-path='url(#cpMC4wMHw3MjAuMDB8MzYwLjAwfDAuMDA=)' /><g clip-path='url(#cpMC4wMHw3MjAuMDB8MzYwLjAwfDAuMDA=)'><text x='67.14' y='312.48' style='font-size: 12.00px; font-family: Arial;' textLength='6.67px' lengthAdjust='spacingAndGlyphs'>0</text></g><g clip-path='url(#cpMC4wMHw3MjAuMDB8MzYwLjAwfDAuMDA=)'><text x='182.99' y='312.48' style='font-size: 12.00px; font-family: Arial;' textLength='13.35px' lengthAdjust='spacingAndGlyphs'>10</text></g><g clip-path='url(#cpMC4wMHw3MjAuMDB8MzYwLjAwfDAuMDA=)'><text x='302.18' y='312.48' style='font-size: 12.00px; font-family: Arial;' textLength='13.35px' lengthAdjust='spacingAndGlyphs'>20</text></g><g clip-path='url(#cpMC4wMHw3MjAuMDB8MzYwLjAwfDAuMDA=)'><text x='421.36' y='312.48' style='font-size: 12.00px; font-family: Arial;' textLength='13.35px' lengthAdjust='spacingAndGlyphs'>30</text></g><g clip-path='url(#cpMC4wMHw3MjAuMDB8MzYwLjAwfDAuMDA=)'><text x='540.54' y='312.48' style='font-size: 12.00px; font-family: Arial;' textLength='13.35px' lengthAdjust='spacingAndGlyphs'>40</text></g><g clip-path='url(#cpMC4wMHw3MjAuMDB8MzYwLjAwfDAuMDA=)'><text x='659.73' y='312.48' style='font-size: 12.00px; font-family: Arial;' textLength='13.35px' lengthAdjust='spacingAndGlyphs'>50</text></g><line x1='59.04' y1='278.13' x2='59.04' y2='59.65' style='stroke-width: 0.75;' clip-path='url(#cpMC4wMHw3MjAuMDB8MzYwLjAwfDAuMDA=)' /><line x1='59.04' y1='278.13' x2='51.84' y2='278.13' style='stroke-width: 0.75;' clip-path='url(#cpMC4wMHw3MjAuMDB8MzYwLjAwfDAuMDA=)' /><line x1='59.04' y1='246.92' x2='51.84' y2='246.92' style='stroke-width: 0.75;' clip-path='url(#cpMC4wMHw3MjAuMDB8MzYwLjAwfDAuMDA=)' /><line x1='59.04' y1='215.71' x2='51.84' y2='215.71' style='stroke-width: 0.75;' clip-path='url(#cpMC4wMHw3MjAuMDB8MzYwLjAwfDAuMDA=)' /><line x1='59.04' y1='184.50' x2='51.84' y2='184.50' style='stroke-width: 0.75;' clip-path='url(#cpMC4wMHw3MjAuMDB8MzYwLjAwfDAuMDA=)' /><line x1='59.04' y1='153.28' x2='51.84' y2='153.28' style='stroke-width: 0.75;' clip-path='url(#cpMC4wMHw3MjAuMDB8MzYwLjAwfDAuMDA=)' /><line x1='59.04' y1='122.07' x2='51.84' y2='122.07' style='stroke-width: 0.75;' clip-path='url(#cpMC4wMHw3MjAuMDB8MzYwLjAwfDAuMDA=)' /><line x1='59.04' y1='90.86' x2='51.84' y2='90.86' style='stroke-width: 0.75;' clip-path='url(#cpMC4wMHw3MjAuMDB8MzYwLjAwfDAuMDA=)' /><line x1='59.04' y1='59.65' x2='51.84' y2='59.65' style='stroke-width: 0.75;' clip-path='url(#cpMC4wMHw3MjAuMDB8MzYwLjAwfDAuMDA=)' /><g clip-path='url(#cpMC4wMHw3MjAuMDB8MzYwLjAwfDAuMDA=)'><text transform='translate(41.76,286.47) rotate(-90)' style='font-size: 12.00px; font-family: Arial;' textLength='16.68px' lengthAdjust='spacingAndGlyphs'>0.0</text></g><g clip-path='url(#cpMC4wMHw3MjAuMDB8MzYwLjAwfDAuMDA=)'><text transform='translate(41.76,255.26) rotate(-90)' style='font-size: 12.00px; font-family: Arial;' textLength='16.68px' lengthAdjust='spacingAndGlyphs'>0.1</text></g><g clip-path='url(#cpMC4wMHw3MjAuMDB8MzYwLjAwfDAuMDA=)'><text transform='translate(41.76,224.05) rotate(-90)' style='font-size: 12.00px; font-family: Arial;' textLength='16.68px' lengthAdjust='spacingAndGlyphs'>0.2</text></g><g clip-path='url(#cpMC4wMHw3MjAuMDB8MzYwLjAwfDAuMDA=)'><text transform='translate(41.76,192.84) rotate(-90)' style='font-size: 12.00px; font-family: Arial;' textLength='16.68px' lengthAdjust='spacingAndGlyphs'>0.3</text></g><g clip-path='url(#cpMC4wMHw3MjAuMDB8MzYwLjAwfDAuMDA=)'><text transform='translate(41.76,161.63) rotate(-90)' style='font-size: 12.00px; font-family: Arial;' textLength='16.68px' lengthAdjust='spacingAndGlyphs'>0.4</text></g><g clip-path='url(#cpMC4wMHw3MjAuMDB8MzYwLjAwfDAuMDA=)'><text transform='translate(41.76,130.41) rotate(-90)' style='font-size: 12.00px; font-family: Arial;' textLength='16.68px' lengthAdjust='spacingAndGlyphs'>0.5</text></g><g clip-path='url(#cpMC4wMHw3MjAuMDB8MzYwLjAwfDAuMDA=)'><text transform='translate(41.76,99.20) rotate(-90)' style='font-size: 12.00px; font-family: Arial;' textLength='16.68px' lengthAdjust='spacingAndGlyphs'>0.6</text></g><g clip-path='url(#cpMC4wMHw3MjAuMDB8MzYwLjAwfDAuMDA=)'><text transform='translate(41.76,67.99) rotate(-90)' style='font-size: 12.00px; font-family: Arial;' textLength='16.68px' lengthAdjust='spacingAndGlyphs'>0.7</text></g><polyline points='59.04,286.56 689.76,286.56 689.76,59.04 59.04,59.04 59.04,286.56 ' style='stroke-width: 0.75;' clip-path='url(#cpMC4wMHw3MjAuMDB8MzYwLjAwfDAuMDA=)' /><g clip-path='url(#cpMC4wMHw3MjAuMDB8MzYwLjAwfDAuMDA=)'><text x='363.06' y='341.28' style='font-size: 12.00px; font-family: Arial;' textLength='22.68px' lengthAdjust='spacingAndGlyphs'>step</text></g><g clip-path='url(#cpMC4wMHw3MjAuMDB8MzYwLjAwfDAuMDA=)'><text transform='translate(12.96,221.83) rotate(-90)' style='font-size: 12.00px; font-family: Arial;' textLength='98.07px' lengthAdjust='spacingAndGlyphs'>standard deviation</text></g></svg>"
      ]
     },
     "metadata": {},
     "output_type": "display_data"
    }
   ],
   "source": [
    "#1 b\n",
    "average = rep(NA, 50)\n",
    "sd = rep(NA, 50)\n",
    "for (t in 1:50) {\n",
    "  sPath = rep(NA, 10)\n",
    "  for (walk in 1:10) {\n",
    "    start = sample(1:10000, 1)\n",
    "    last = random_walk(g, t, start) # last node\n",
    "    temp = shortest_paths(g, from = start, to = last)\n",
    "    sPath[walk] = length(temp$vpath[[1]]) - 1\n",
    "    # sPath[walk] = getShortest(g, start, last, transition_matrix)\n",
    "  }\n",
    "  sd[t] = sd(sPath)\n",
    "  average[t] = mean(sPath)\n",
    "}\n",
    "\n",
    "plot (1:50, average, type = \"o\", xlab=\"step\", ylab = \"average\")\n",
    "plot(1:50, sd, type = \"o\", xlab = \"step\", ylab = \"standard deviation\")\n"
   ]
  },
  {
   "cell_type": "code",
   "execution_count": 28,
   "metadata": {
    "collapsed": false
   },
   "outputs": [
    {
     "data": {
      "image/svg+xml": [
       "<svg viewBox='0 0 720.00 360.00'><defs>  <style type='text/css'><![CDATA[    line, polyline, polygon, path, rect, circle {      fill: none;      stroke: #000000;      stroke-linecap: round;      stroke-linejoin: round;      stroke-miterlimit: 10.00;    }  ]]></style></defs><rect width='100%' height='100%' style='stroke: none; fill: #FFFFFF;'/><defs>  <clipPath id='cpNTkuMDR8Njg5Ljc2fDI4Ni41Nnw1OS4wNA=='>    <rect x='59.04' y='59.04' width='630.72' height='227.52' />  </clipPath></defs><polyline points='82.40,278.13 94.32,166.60 106.24,117.04 118.16,129.43 130.07,129.43 141.99,129.43 153.91,117.04 165.83,129.43 177.75,117.04 189.67,92.25 201.58,92.25 213.50,154.21 225.42,92.25 237.34,79.86 249.26,117.04 261.18,104.64 273.09,92.25 285.01,117.04 296.93,104.64 308.85,117.04 320.77,79.86 332.69,104.64 344.60,117.04 356.52,104.64 368.44,117.04 380.36,92.25 392.28,67.47 404.20,92.25 416.11,92.25 428.03,129.43 439.95,129.43 451.87,104.64 463.79,104.64 475.71,104.64 487.62,67.47 499.54,104.64 511.46,129.43 523.38,92.25 535.30,104.64 547.22,117.04 559.13,92.25 571.05,92.25 582.97,104.64 594.89,117.04 606.81,92.25 618.73,117.04 630.64,166.60 642.56,104.64 654.48,141.82 666.40,129.43 ' style='stroke-width: 0.75;' clip-path='url(#cpNTkuMDR8Njg5Ljc2fDI4Ni41Nnw1OS4wNA==)' /><circle cx='82.40' cy='278.13' r='2.70pt' style='stroke-width: 0.75;' clip-path='url(#cpNTkuMDR8Njg5Ljc2fDI4Ni41Nnw1OS4wNA==)' /><circle cx='94.32' cy='166.60' r='2.70pt' style='stroke-width: 0.75;' clip-path='url(#cpNTkuMDR8Njg5Ljc2fDI4Ni41Nnw1OS4wNA==)' /><circle cx='106.24' cy='117.04' r='2.70pt' style='stroke-width: 0.75;' clip-path='url(#cpNTkuMDR8Njg5Ljc2fDI4Ni41Nnw1OS4wNA==)' /><circle cx='118.16' cy='129.43' r='2.70pt' style='stroke-width: 0.75;' clip-path='url(#cpNTkuMDR8Njg5Ljc2fDI4Ni41Nnw1OS4wNA==)' /><circle cx='130.07' cy='129.43' r='2.70pt' style='stroke-width: 0.75;' clip-path='url(#cpNTkuMDR8Njg5Ljc2fDI4Ni41Nnw1OS4wNA==)' /><circle cx='141.99' cy='129.43' r='2.70pt' style='stroke-width: 0.75;' clip-path='url(#cpNTkuMDR8Njg5Ljc2fDI4Ni41Nnw1OS4wNA==)' /><circle cx='153.91' cy='117.04' r='2.70pt' style='stroke-width: 0.75;' clip-path='url(#cpNTkuMDR8Njg5Ljc2fDI4Ni41Nnw1OS4wNA==)' /><circle cx='165.83' cy='129.43' r='2.70pt' style='stroke-width: 0.75;' clip-path='url(#cpNTkuMDR8Njg5Ljc2fDI4Ni41Nnw1OS4wNA==)' /><circle cx='177.75' cy='117.04' r='2.70pt' style='stroke-width: 0.75;' clip-path='url(#cpNTkuMDR8Njg5Ljc2fDI4Ni41Nnw1OS4wNA==)' /><circle cx='189.67' cy='92.25' r='2.70pt' style='stroke-width: 0.75;' clip-path='url(#cpNTkuMDR8Njg5Ljc2fDI4Ni41Nnw1OS4wNA==)' /><circle cx='201.58' cy='92.25' r='2.70pt' style='stroke-width: 0.75;' clip-path='url(#cpNTkuMDR8Njg5Ljc2fDI4Ni41Nnw1OS4wNA==)' /><circle cx='213.50' cy='154.21' r='2.70pt' style='stroke-width: 0.75;' clip-path='url(#cpNTkuMDR8Njg5Ljc2fDI4Ni41Nnw1OS4wNA==)' /><circle cx='225.42' cy='92.25' r='2.70pt' style='stroke-width: 0.75;' clip-path='url(#cpNTkuMDR8Njg5Ljc2fDI4Ni41Nnw1OS4wNA==)' /><circle cx='237.34' cy='79.86' r='2.70pt' style='stroke-width: 0.75;' clip-path='url(#cpNTkuMDR8Njg5Ljc2fDI4Ni41Nnw1OS4wNA==)' /><circle cx='249.26' cy='117.04' r='2.70pt' style='stroke-width: 0.75;' clip-path='url(#cpNTkuMDR8Njg5Ljc2fDI4Ni41Nnw1OS4wNA==)' /><circle cx='261.18' cy='104.64' r='2.70pt' style='stroke-width: 0.75;' clip-path='url(#cpNTkuMDR8Njg5Ljc2fDI4Ni41Nnw1OS4wNA==)' /><circle cx='273.09' cy='92.25' r='2.70pt' style='stroke-width: 0.75;' clip-path='url(#cpNTkuMDR8Njg5Ljc2fDI4Ni41Nnw1OS4wNA==)' /><circle cx='285.01' cy='117.04' r='2.70pt' style='stroke-width: 0.75;' clip-path='url(#cpNTkuMDR8Njg5Ljc2fDI4Ni41Nnw1OS4wNA==)' /><circle cx='296.93' cy='104.64' r='2.70pt' style='stroke-width: 0.75;' clip-path='url(#cpNTkuMDR8Njg5Ljc2fDI4Ni41Nnw1OS4wNA==)' /><circle cx='308.85' cy='117.04' r='2.70pt' style='stroke-width: 0.75;' clip-path='url(#cpNTkuMDR8Njg5Ljc2fDI4Ni41Nnw1OS4wNA==)' /><circle cx='320.77' cy='79.86' r='2.70pt' style='stroke-width: 0.75;' clip-path='url(#cpNTkuMDR8Njg5Ljc2fDI4Ni41Nnw1OS4wNA==)' /><circle cx='332.69' cy='104.64' r='2.70pt' style='stroke-width: 0.75;' clip-path='url(#cpNTkuMDR8Njg5Ljc2fDI4Ni41Nnw1OS4wNA==)' /><circle cx='344.60' cy='117.04' r='2.70pt' style='stroke-width: 0.75;' clip-path='url(#cpNTkuMDR8Njg5Ljc2fDI4Ni41Nnw1OS4wNA==)' /><circle cx='356.52' cy='104.64' r='2.70pt' style='stroke-width: 0.75;' clip-path='url(#cpNTkuMDR8Njg5Ljc2fDI4Ni41Nnw1OS4wNA==)' /><circle cx='368.44' cy='117.04' r='2.70pt' style='stroke-width: 0.75;' clip-path='url(#cpNTkuMDR8Njg5Ljc2fDI4Ni41Nnw1OS4wNA==)' /><circle cx='380.36' cy='92.25' r='2.70pt' style='stroke-width: 0.75;' clip-path='url(#cpNTkuMDR8Njg5Ljc2fDI4Ni41Nnw1OS4wNA==)' /><circle cx='392.28' cy='67.47' r='2.70pt' style='stroke-width: 0.75;' clip-path='url(#cpNTkuMDR8Njg5Ljc2fDI4Ni41Nnw1OS4wNA==)' /><circle cx='404.20' cy='92.25' r='2.70pt' style='stroke-width: 0.75;' clip-path='url(#cpNTkuMDR8Njg5Ljc2fDI4Ni41Nnw1OS4wNA==)' /><circle cx='416.11' cy='92.25' r='2.70pt' style='stroke-width: 0.75;' clip-path='url(#cpNTkuMDR8Njg5Ljc2fDI4Ni41Nnw1OS4wNA==)' /><circle cx='428.03' cy='129.43' r='2.70pt' style='stroke-width: 0.75;' clip-path='url(#cpNTkuMDR8Njg5Ljc2fDI4Ni41Nnw1OS4wNA==)' /><circle cx='439.95' cy='129.43' r='2.70pt' style='stroke-width: 0.75;' clip-path='url(#cpNTkuMDR8Njg5Ljc2fDI4Ni41Nnw1OS4wNA==)' /><circle cx='451.87' cy='104.64' r='2.70pt' style='stroke-width: 0.75;' clip-path='url(#cpNTkuMDR8Njg5Ljc2fDI4Ni41Nnw1OS4wNA==)' /><circle cx='463.79' cy='104.64' r='2.70pt' style='stroke-width: 0.75;' clip-path='url(#cpNTkuMDR8Njg5Ljc2fDI4Ni41Nnw1OS4wNA==)' /><circle cx='475.71' cy='104.64' r='2.70pt' style='stroke-width: 0.75;' clip-path='url(#cpNTkuMDR8Njg5Ljc2fDI4Ni41Nnw1OS4wNA==)' /><circle cx='487.62' cy='67.47' r='2.70pt' style='stroke-width: 0.75;' clip-path='url(#cpNTkuMDR8Njg5Ljc2fDI4Ni41Nnw1OS4wNA==)' /><circle cx='499.54' cy='104.64' r='2.70pt' style='stroke-width: 0.75;' clip-path='url(#cpNTkuMDR8Njg5Ljc2fDI4Ni41Nnw1OS4wNA==)' /><circle cx='511.46' cy='129.43' r='2.70pt' style='stroke-width: 0.75;' clip-path='url(#cpNTkuMDR8Njg5Ljc2fDI4Ni41Nnw1OS4wNA==)' /><circle cx='523.38' cy='92.25' r='2.70pt' style='stroke-width: 0.75;' clip-path='url(#cpNTkuMDR8Njg5Ljc2fDI4Ni41Nnw1OS4wNA==)' /><circle cx='535.30' cy='104.64' r='2.70pt' style='stroke-width: 0.75;' clip-path='url(#cpNTkuMDR8Njg5Ljc2fDI4Ni41Nnw1OS4wNA==)' /><circle cx='547.22' cy='117.04' r='2.70pt' style='stroke-width: 0.75;' clip-path='url(#cpNTkuMDR8Njg5Ljc2fDI4Ni41Nnw1OS4wNA==)' /><circle cx='559.13' cy='92.25' r='2.70pt' style='stroke-width: 0.75;' clip-path='url(#cpNTkuMDR8Njg5Ljc2fDI4Ni41Nnw1OS4wNA==)' /><circle cx='571.05' cy='92.25' r='2.70pt' style='stroke-width: 0.75;' clip-path='url(#cpNTkuMDR8Njg5Ljc2fDI4Ni41Nnw1OS4wNA==)' /><circle cx='582.97' cy='104.64' r='2.70pt' style='stroke-width: 0.75;' clip-path='url(#cpNTkuMDR8Njg5Ljc2fDI4Ni41Nnw1OS4wNA==)' /><circle cx='594.89' cy='117.04' r='2.70pt' style='stroke-width: 0.75;' clip-path='url(#cpNTkuMDR8Njg5Ljc2fDI4Ni41Nnw1OS4wNA==)' /><circle cx='606.81' cy='92.25' r='2.70pt' style='stroke-width: 0.75;' clip-path='url(#cpNTkuMDR8Njg5Ljc2fDI4Ni41Nnw1OS4wNA==)' /><circle cx='618.73' cy='117.04' r='2.70pt' style='stroke-width: 0.75;' clip-path='url(#cpNTkuMDR8Njg5Ljc2fDI4Ni41Nnw1OS4wNA==)' /><circle cx='630.64' cy='166.60' r='2.70pt' style='stroke-width: 0.75;' clip-path='url(#cpNTkuMDR8Njg5Ljc2fDI4Ni41Nnw1OS4wNA==)' /><circle cx='642.56' cy='104.64' r='2.70pt' style='stroke-width: 0.75;' clip-path='url(#cpNTkuMDR8Njg5Ljc2fDI4Ni41Nnw1OS4wNA==)' /><circle cx='654.48' cy='141.82' r='2.70pt' style='stroke-width: 0.75;' clip-path='url(#cpNTkuMDR8Njg5Ljc2fDI4Ni41Nnw1OS4wNA==)' /><circle cx='666.40' cy='129.43' r='2.70pt' style='stroke-width: 0.75;' clip-path='url(#cpNTkuMDR8Njg5Ljc2fDI4Ni41Nnw1OS4wNA==)' /><defs>  <clipPath id='cpMC4wMHw3MjAuMDB8MzYwLjAwfDAuMDA='>    <rect x='0.00' y='0.00' width='720.00' height='360.00' />  </clipPath></defs><line x1='70.48' y1='286.56' x2='666.40' y2='286.56' style='stroke-width: 0.75;' clip-path='url(#cpMC4wMHw3MjAuMDB8MzYwLjAwfDAuMDA=)' /><line x1='70.48' y1='286.56' x2='70.48' y2='293.76' style='stroke-width: 0.75;' clip-path='url(#cpMC4wMHw3MjAuMDB8MzYwLjAwfDAuMDA=)' /><line x1='189.67' y1='286.56' x2='189.67' y2='293.76' style='stroke-width: 0.75;' clip-path='url(#cpMC4wMHw3MjAuMDB8MzYwLjAwfDAuMDA=)' /><line x1='308.85' y1='286.56' x2='308.85' y2='293.76' style='stroke-width: 0.75;' clip-path='url(#cpMC4wMHw3MjAuMDB8MzYwLjAwfDAuMDA=)' /><line x1='428.03' y1='286.56' x2='428.03' y2='293.76' style='stroke-width: 0.75;' clip-path='url(#cpMC4wMHw3MjAuMDB8MzYwLjAwfDAuMDA=)' /><line x1='547.22' y1='286.56' x2='547.22' y2='293.76' style='stroke-width: 0.75;' clip-path='url(#cpMC4wMHw3MjAuMDB8MzYwLjAwfDAuMDA=)' /><line x1='666.40' y1='286.56' x2='666.40' y2='293.76' style='stroke-width: 0.75;' clip-path='url(#cpMC4wMHw3MjAuMDB8MzYwLjAwfDAuMDA=)' /><g clip-path='url(#cpMC4wMHw3MjAuMDB8MzYwLjAwfDAuMDA=)'><text x='67.14' y='312.48' style='font-size: 12.00px; font-family: Arial;' textLength='6.67px' lengthAdjust='spacingAndGlyphs'>0</text></g><g clip-path='url(#cpMC4wMHw3MjAuMDB8MzYwLjAwfDAuMDA=)'><text x='182.99' y='312.48' style='font-size: 12.00px; font-family: Arial;' textLength='13.35px' lengthAdjust='spacingAndGlyphs'>10</text></g><g clip-path='url(#cpMC4wMHw3MjAuMDB8MzYwLjAwfDAuMDA=)'><text x='302.18' y='312.48' style='font-size: 12.00px; font-family: Arial;' textLength='13.35px' lengthAdjust='spacingAndGlyphs'>20</text></g><g clip-path='url(#cpMC4wMHw3MjAuMDB8MzYwLjAwfDAuMDA=)'><text x='421.36' y='312.48' style='font-size: 12.00px; font-family: Arial;' textLength='13.35px' lengthAdjust='spacingAndGlyphs'>30</text></g><g clip-path='url(#cpMC4wMHw3MjAuMDB8MzYwLjAwfDAuMDA=)'><text x='540.54' y='312.48' style='font-size: 12.00px; font-family: Arial;' textLength='13.35px' lengthAdjust='spacingAndGlyphs'>40</text></g><g clip-path='url(#cpMC4wMHw3MjAuMDB8MzYwLjAwfDAuMDA=)'><text x='659.73' y='312.48' style='font-size: 12.00px; font-family: Arial;' textLength='13.35px' lengthAdjust='spacingAndGlyphs'>50</text></g><line x1='59.04' y1='278.13' x2='59.04' y2='92.25' style='stroke-width: 0.75;' clip-path='url(#cpMC4wMHw3MjAuMDB8MzYwLjAwfDAuMDA=)' /><line x1='59.04' y1='278.13' x2='51.84' y2='278.13' style='stroke-width: 0.75;' clip-path='url(#cpMC4wMHw3MjAuMDB8MzYwLjAwfDAuMDA=)' /><line x1='59.04' y1='216.17' x2='51.84' y2='216.17' style='stroke-width: 0.75;' clip-path='url(#cpMC4wMHw3MjAuMDB8MzYwLjAwfDAuMDA=)' /><line x1='59.04' y1='154.21' x2='51.84' y2='154.21' style='stroke-width: 0.75;' clip-path='url(#cpMC4wMHw3MjAuMDB8MzYwLjAwfDAuMDA=)' /><line x1='59.04' y1='92.25' x2='51.84' y2='92.25' style='stroke-width: 0.75;' clip-path='url(#cpMC4wMHw3MjAuMDB8MzYwLjAwfDAuMDA=)' /><g clip-path='url(#cpMC4wMHw3MjAuMDB8MzYwLjAwfDAuMDA=)'><text transform='translate(41.76,286.47) rotate(-90)' style='font-size: 12.00px; font-family: Arial;' textLength='16.68px' lengthAdjust='spacingAndGlyphs'>1.0</text></g><g clip-path='url(#cpMC4wMHw3MjAuMDB8MzYwLjAwfDAuMDA=)'><text transform='translate(41.76,224.51) rotate(-90)' style='font-size: 12.00px; font-family: Arial;' textLength='16.68px' lengthAdjust='spacingAndGlyphs'>1.5</text></g><g clip-path='url(#cpMC4wMHw3MjAuMDB8MzYwLjAwfDAuMDA=)'><text transform='translate(41.76,162.55) rotate(-90)' style='font-size: 12.00px; font-family: Arial;' textLength='16.68px' lengthAdjust='spacingAndGlyphs'>2.0</text></g><g clip-path='url(#cpMC4wMHw3MjAuMDB8MzYwLjAwfDAuMDA=)'><text transform='translate(41.76,100.59) rotate(-90)' style='font-size: 12.00px; font-family: Arial;' textLength='16.68px' lengthAdjust='spacingAndGlyphs'>2.5</text></g><polyline points='59.04,286.56 689.76,286.56 689.76,59.04 59.04,59.04 59.04,286.56 ' style='stroke-width: 0.75;' clip-path='url(#cpMC4wMHw3MjAuMDB8MzYwLjAwfDAuMDA=)' /><g clip-path='url(#cpMC4wMHw3MjAuMDB8MzYwLjAwfDAuMDA=)'><text x='363.06' y='341.28' style='font-size: 12.00px; font-family: Arial;' textLength='22.68px' lengthAdjust='spacingAndGlyphs'>step</text></g><g clip-path='url(#cpMC4wMHw3MjAuMDB8MzYwLjAwfDAuMDA=)'><text transform='translate(12.96,194.48) rotate(-90)' style='font-size: 12.00px; font-family: Arial;' textLength='43.37px' lengthAdjust='spacingAndGlyphs'>average</text></g></svg>"
      ]
     },
     "metadata": {},
     "output_type": "display_data"
    }
   ],
   "source": [
    "plot (1:50, average, type = \"o\", xlab=\"step\", ylab = \"average\")"
   ]
  },
  {
   "cell_type": "code",
   "execution_count": null,
   "metadata": {
    "collapsed": true
   },
   "outputs": [],
   "source": [
    "# 1 (c) \n",
    "g = erdos.renyi.game(1000, 0.01, directed=FALSE)\n",
    "transition_matrix = create_transition_matrix(g)\n",
    "end_degree = rep(NA, 1000)\n",
    "for (t in 1:1000) {\n",
    "    start = sample(1:1000, 1)\n",
    "    end_degree[t] = degree(g, random_walk(g, start, t))\n",
    "}\n",
    "hist(end_degree)\n",
    "hist(degree(g))"
   ]
  },
  {
   "cell_type": "code",
   "execution_count": null,
   "metadata": {
    "collapsed": true
   },
   "outputs": [],
   "source": [
    "# 1 (d)\n",
    "g = erdos.renyi.game(100, 0.01, directed=FALSE)\n",
    "transition_matrix = create_transition_matrix(g)\n",
    "average = rep(NA, 50)\n",
    "sd = rep(NA, 50)\n",
    "for (t in 1:50) {\n",
    "  sPath = rep(NA, 10)\n",
    "  for (walk in 1:10) {\n",
    "    start = sample(1:100, 1)\n",
    "    last = random_walk(g, t, start) # last node\n",
    "    sPath[walk] = getShortest(g, start, last, transition_matrix)\n",
    "  }\n",
    "  sd[t] = sd(sPath)\n",
    "  average[t] = mean(sPath)\n",
    "}\n",
    "\n",
    "plot (1:50, average, type = \"o\", xlab=\"step\", ylab = \"average\")\n",
    "plot(1:50, sd, type = \"o\", xlab = \"step\", ylab = \"standard deviation\")\n",
    "\n",
    "g = erdos.renyi.game(10000, 0.01, directed=FALSE)\n",
    "transition_matrix = create_transition_matrix(g)\n",
    "average = rep(NA, 50)\n",
    "sd = rep(NA, 50)\n",
    "for (t in 1:50) {\n",
    "  sPath = rep(NA, 10)\n",
    "  for (walk in 1:10) {\n",
    "    start = sample(1:10000, 1)\n",
    "    last = random_walk(g, t, start) # last node\n",
    "    sPath[walk] = getShortest(g, start, last, transition_matrix)\n",
    "  }\n",
    "  sd[t] = sd(sPath)\n",
    "  average[t] = mean(sPath)\n",
    "}\n",
    "\n",
    "plot (1:50, average, type = \"o\", xlab=\"step\", ylab = \"average\")\n",
    "plot(1:50, sd, type = \"o\", xlab = \"step\", ylab = \"standard deviation\")"
   ]
  },
  {
   "cell_type": "code",
   "execution_count": null,
   "metadata": {
    "collapsed": true
   },
   "outputs": [],
   "source": [
    "# 2 a\n",
    "g = sample_pa(1000, m = 1, directed=FALSE)\n",
    "transition_matrix = create_transition_matrix(g)"
   ]
  },
  {
   "cell_type": "code",
   "execution_count": null,
   "metadata": {
    "collapsed": true
   },
   "outputs": [],
   "source": [
    "# 2 b\n",
    "average = rep(NA, 50)\n",
    "sd = rep(NA, 50)\n",
    "for (t in 1:50) {\n",
    "  sPath = rep(NA, 10)\n",
    "  for (walk in 1:10) {\n",
    "    start = sample(1:1000, 1)\n",
    "    last = random_walk(g, t, start) # last node\n",
    "    sPath[walk] = getShortest(g, start, last, transition_matrix)\n",
    "  }\n",
    "  sd[t] = sd(sPath)\n",
    "  average[t] = mean(sPath)\n",
    "}\n",
    "\n",
    "plot (1:50, average, type = \"o\", xlab=\"step\", ylab = \"average\")\n",
    "plot(1:50, sd, type = \"o\", xlab = \"step\", ylab = \"standard deviation\")\n"
   ]
  },
  {
   "cell_type": "code",
   "execution_count": 3,
   "metadata": {
    "collapsed": false
   },
   "outputs": [
    {
     "name": "stderr",
     "output_type": "stream",
     "text": [
      "Error in create_transition_matrix(g): could not find function \"create_transition_matrix\"\n",
      "\n",
      "\n"
     ]
    }
   ],
   "source": [
    "# 2 c\n",
    "g = sample_pa(1000, m = 1, directed=FALSE)\n",
    "transition_matrix = create_transition_matrix(g)\n",
    "end_degree = rep(NA, 1000)\n",
    "for (t in 1:1000) {\n",
    "    start = sample(1:1000, 1)\n",
    "    end_degree[t] = degree(g, random_walk(g, start, t))\n",
    "}\n",
    "hist(end_degree)\n",
    "hist(degree(g))"
   ]
  },
  {
   "cell_type": "code",
   "execution_count": null,
   "metadata": {
    "collapsed": true
   },
   "outputs": [],
   "source": [
    "# 2 d\n",
    "g = sample_pa(1000, m = 1, directed=FALSE)\n",
    "transition_matrix = create_transition_matrix(g)\n",
    "average = rep(NA, 50)\n",
    "sd = rep(NA, 50)\n",
    "for (t in 1:50) {\n",
    "  sPath = rep(NA, 10)\n",
    "  for (walk in 1:10) {\n",
    "    start = sample(1:100, 1)\n",
    "    last = random_walk(g, t, start) # last node\n",
    "    sPath[walk] = getShortest(g, start, last, transition_matrix)\n",
    "  }\n",
    "  sd[t] = sd(sPath)\n",
    "  average[t] = mean(sPath)\n",
    "}\n",
    "\n",
    "plot (1:50, average, type = \"o\", xlab=\"step\", ylab = \"average\")\n",
    "plot(1:50, sd, type = \"o\", xlab = \"step\", ylab = \"standard deviation\")\n",
    "\n",
    "g = sample_pa(1000, m = 1, directed=FALSE)\n",
    "transition_matrix = create_transition_matrix(g)\n",
    "average = rep(NA, 50)\n",
    "sd = rep(NA, 50)\n",
    "for (t in 1:50) {\n",
    "  sPath = rep(NA, 10)\n",
    "  for (walk in 1:10) {\n",
    "    start = sample(1:10000, 1)\n",
    "    last = random_walk(g, t, start) # last node\n",
    "    sPath[walk] = getShortest(g, start, last, transition_matrix)\n",
    "  }\n",
    "  sd[t] = sd(sPath)\n",
    "  average[t] = mean(sPath)\n",
    "}\n",
    "\n",
    "plot (1:50, average, type = \"o\", xlab=\"step\", ylab = \"average\")\n",
    "plot(1:50, sd, type = \"o\", xlab = \"step\", ylab = \"standard deviation\")\n"
   ]
  },
  {
   "cell_type": "code",
   "execution_count": 17,
   "metadata": {
    "collapsed": false
   },
   "outputs": [
    {
     "data": {
      "image/svg+xml": [
       "<svg viewBox='0 0 720.00 360.00'><defs>  <style type='text/css'><![CDATA[    line, polyline, polygon, path, rect, circle {      fill: none;      stroke: #000000;      stroke-linecap: round;      stroke-linejoin: round;      stroke-miterlimit: 10.00;    }  ]]></style></defs><rect width='100%' height='100%' style='stroke: none; fill: #FFFFFF;'/><defs>  <clipPath id='cpNTkuMDR8Njg5Ljc2fDI4Ni41Nnw1OS4wNA=='>    <rect x='59.04' y='59.04' width='630.72' height='227.52' />  </clipPath></defs><circle cx='82.40' cy='278.13' r='2.70pt' style='stroke-width: 0.75;' clip-path='url(#cpNTkuMDR8Njg5Ljc2fDI4Ni41Nnw1OS4wNA==)' /><circle cx='88.42' cy='167.78' r='2.70pt' style='stroke-width: 0.75;' clip-path='url(#cpNTkuMDR8Njg5Ljc2fDI4Ni41Nnw1OS4wNA==)' /><circle cx='124.54' cy='67.47' r='2.70pt' style='stroke-width: 0.75;' clip-path='url(#cpNTkuMDR8Njg5Ljc2fDI4Ni41Nnw1OS4wNA==)' /><circle cx='365.37' cy='67.47' r='2.70pt' style='stroke-width: 0.75;' clip-path='url(#cpNTkuMDR8Njg5Ljc2fDI4Ni41Nnw1OS4wNA==)' /><circle cx='666.40' cy='67.47' r='2.70pt' style='stroke-width: 0.75;' clip-path='url(#cpNTkuMDR8Njg5Ljc2fDI4Ni41Nnw1OS4wNA==)' /><defs>  <clipPath id='cpMC4wMHw3MjAuMDB8MzYwLjAwfDAuMDA='>    <rect x='0.00' y='0.00' width='720.00' height='360.00' />  </clipPath></defs><line x1='64.34' y1='286.56' x2='666.40' y2='286.56' style='stroke-width: 0.75;' clip-path='url(#cpMC4wMHw3MjAuMDB8MzYwLjAwfDAuMDA=)' /><line x1='64.34' y1='286.56' x2='64.34' y2='293.76' style='stroke-width: 0.75;' clip-path='url(#cpMC4wMHw3MjAuMDB8MzYwLjAwfDAuMDA=)' /><line x1='184.75' y1='286.56' x2='184.75' y2='293.76' style='stroke-width: 0.75;' clip-path='url(#cpMC4wMHw3MjAuMDB8MzYwLjAwfDAuMDA=)' /><line x1='305.16' y1='286.56' x2='305.16' y2='293.76' style='stroke-width: 0.75;' clip-path='url(#cpMC4wMHw3MjAuMDB8MzYwLjAwfDAuMDA=)' /><line x1='425.58' y1='286.56' x2='425.58' y2='293.76' style='stroke-width: 0.75;' clip-path='url(#cpMC4wMHw3MjAuMDB8MzYwLjAwfDAuMDA=)' /><line x1='545.99' y1='286.56' x2='545.99' y2='293.76' style='stroke-width: 0.75;' clip-path='url(#cpMC4wMHw3MjAuMDB8MzYwLjAwfDAuMDA=)' /><line x1='666.40' y1='286.56' x2='666.40' y2='293.76' style='stroke-width: 0.75;' clip-path='url(#cpMC4wMHw3MjAuMDB8MzYwLjAwfDAuMDA=)' /><g clip-path='url(#cpMC4wMHw3MjAuMDB8MzYwLjAwfDAuMDA=)'><text x='52.66' y='312.48' style='font-size: 12.00px; font-family: Arial;' textLength='23.36px' lengthAdjust='spacingAndGlyphs'>0.00</text></g><g clip-path='url(#cpMC4wMHw3MjAuMDB8MzYwLjAwfDAuMDA=)'><text x='173.07' y='312.48' style='font-size: 12.00px; font-family: Arial;' textLength='23.36px' lengthAdjust='spacingAndGlyphs'>0.02</text></g><g clip-path='url(#cpMC4wMHw3MjAuMDB8MzYwLjAwfDAuMDA=)'><text x='293.49' y='312.48' style='font-size: 12.00px; font-family: Arial;' textLength='23.36px' lengthAdjust='spacingAndGlyphs'>0.04</text></g><g clip-path='url(#cpMC4wMHw3MjAuMDB8MzYwLjAwfDAuMDA=)'><text x='413.90' y='312.48' style='font-size: 12.00px; font-family: Arial;' textLength='23.36px' lengthAdjust='spacingAndGlyphs'>0.06</text></g><g clip-path='url(#cpMC4wMHw3MjAuMDB8MzYwLjAwfDAuMDA=)'><text x='534.31' y='312.48' style='font-size: 12.00px; font-family: Arial;' textLength='23.36px' lengthAdjust='spacingAndGlyphs'>0.08</text></g><g clip-path='url(#cpMC4wMHw3MjAuMDB8MzYwLjAwfDAuMDA=)'><text x='654.72' y='312.48' style='font-size: 12.00px; font-family: Arial;' textLength='23.36px' lengthAdjust='spacingAndGlyphs'>0.10</text></g><line x1='59.04' y1='268.10' x2='59.04' y2='67.47' style='stroke-width: 0.75;' clip-path='url(#cpMC4wMHw3MjAuMDB8MzYwLjAwfDAuMDA=)' /><line x1='59.04' y1='268.10' x2='51.84' y2='268.10' style='stroke-width: 0.75;' clip-path='url(#cpMC4wMHw3MjAuMDB8MzYwLjAwfDAuMDA=)' /><line x1='59.04' y1='234.66' x2='51.84' y2='234.66' style='stroke-width: 0.75;' clip-path='url(#cpMC4wMHw3MjAuMDB8MzYwLjAwfDAuMDA=)' /><line x1='59.04' y1='201.22' x2='51.84' y2='201.22' style='stroke-width: 0.75;' clip-path='url(#cpMC4wMHw3MjAuMDB8MzYwLjAwfDAuMDA=)' /><line x1='59.04' y1='167.78' x2='51.84' y2='167.78' style='stroke-width: 0.75;' clip-path='url(#cpMC4wMHw3MjAuMDB8MzYwLjAwfDAuMDA=)' /><line x1='59.04' y1='134.34' x2='51.84' y2='134.34' style='stroke-width: 0.75;' clip-path='url(#cpMC4wMHw3MjAuMDB8MzYwLjAwfDAuMDA=)' /><line x1='59.04' y1='100.91' x2='51.84' y2='100.91' style='stroke-width: 0.75;' clip-path='url(#cpMC4wMHw3MjAuMDB8MzYwLjAwfDAuMDA=)' /><line x1='59.04' y1='67.47' x2='51.84' y2='67.47' style='stroke-width: 0.75;' clip-path='url(#cpMC4wMHw3MjAuMDB8MzYwLjAwfDAuMDA=)' /><g clip-path='url(#cpMC4wMHw3MjAuMDB8MzYwLjAwfDAuMDA=)'><text transform='translate(41.76,279.78) rotate(-90)' style='font-size: 12.00px; font-family: Arial;' textLength='23.36px' lengthAdjust='spacingAndGlyphs'>0.94</text></g><g clip-path='url(#cpMC4wMHw3MjAuMDB8MzYwLjAwfDAuMDA=)'><text transform='translate(41.76,246.34) rotate(-90)' style='font-size: 12.00px; font-family: Arial;' textLength='23.36px' lengthAdjust='spacingAndGlyphs'>0.95</text></g><g clip-path='url(#cpMC4wMHw3MjAuMDB8MzYwLjAwfDAuMDA=)'><text transform='translate(41.76,212.90) rotate(-90)' style='font-size: 12.00px; font-family: Arial;' textLength='23.36px' lengthAdjust='spacingAndGlyphs'>0.96</text></g><g clip-path='url(#cpMC4wMHw3MjAuMDB8MzYwLjAwfDAuMDA=)'><text transform='translate(41.76,179.46) rotate(-90)' style='font-size: 12.00px; font-family: Arial;' textLength='23.36px' lengthAdjust='spacingAndGlyphs'>0.97</text></g><g clip-path='url(#cpMC4wMHw3MjAuMDB8MzYwLjAwfDAuMDA=)'><text transform='translate(41.76,146.02) rotate(-90)' style='font-size: 12.00px; font-family: Arial;' textLength='23.36px' lengthAdjust='spacingAndGlyphs'>0.98</text></g><g clip-path='url(#cpMC4wMHw3MjAuMDB8MzYwLjAwfDAuMDA=)'><text transform='translate(41.76,112.58) rotate(-90)' style='font-size: 12.00px; font-family: Arial;' textLength='23.36px' lengthAdjust='spacingAndGlyphs'>0.99</text></g><g clip-path='url(#cpMC4wMHw3MjAuMDB8MzYwLjAwfDAuMDA=)'><text transform='translate(41.76,79.14) rotate(-90)' style='font-size: 12.00px; font-family: Arial;' textLength='23.36px' lengthAdjust='spacingAndGlyphs'>1.00</text></g><polyline points='59.04,286.56 689.76,286.56 689.76,59.04 59.04,59.04 59.04,286.56 ' style='stroke-width: 0.75;' clip-path='url(#cpMC4wMHw3MjAuMDB8MzYwLjAwfDAuMDA=)' /><g clip-path='url(#cpMC4wMHw3MjAuMDB8MzYwLjAwfDAuMDA=)'><text x='371.06' y='341.28' style='font-size: 12.00px; font-family: Arial;' textLength='6.67px' lengthAdjust='spacingAndGlyphs'>p</text></g><g clip-path='url(#cpMC4wMHw3MjAuMDB8MzYwLjAwfDAuMDA=)'><text transform='translate(12.96,229.48) rotate(-90)' style='font-size: 12.00px; font-family: Arial;' textLength='113.37px' lengthAdjust='spacingAndGlyphs'>normalized GCC size</text></g><defs>  <clipPath id='cpNTkuMDR8Njg5Ljc2fDI4Ni41Nnw1OS4wNA=='>    <rect x='59.04' y='59.04' width='630.72' height='227.52' />  </clipPath></defs><circle cx='82.40' cy='231.32' r='2.70pt' style='stroke-width: 0.75;' clip-path='url(#cpNTkuMDR8Njg5Ljc2fDI4Ni41Nnw1OS4wNA==)' /><circle cx='88.42' cy='154.41' r='2.70pt' style='stroke-width: 0.75;' clip-path='url(#cpNTkuMDR8Njg5Ljc2fDI4Ni41Nnw1OS4wNA==)' /><circle cx='124.54' cy='67.47' r='2.70pt' style='stroke-width: 0.75;' clip-path='url(#cpNTkuMDR8Njg5Ljc2fDI4Ni41Nnw1OS4wNA==)' /><circle cx='365.37' cy='67.47' r='2.70pt' style='stroke-width: 0.75;' clip-path='url(#cpNTkuMDR8Njg5Ljc2fDI4Ni41Nnw1OS4wNA==)' /><circle cx='666.40' cy='67.47' r='2.70pt' style='stroke-width: 0.75;' clip-path='url(#cpNTkuMDR8Njg5Ljc2fDI4Ni41Nnw1OS4wNA==)' /><circle cx='82.40' cy='244.69' r='2.70pt' style='stroke-width: 0.75;' clip-path='url(#cpNTkuMDR8Njg5Ljc2fDI4Ni41Nnw1OS4wNA==)' /><circle cx='88.42' cy='141.03' r='2.70pt' style='stroke-width: 0.75;' clip-path='url(#cpNTkuMDR8Njg5Ljc2fDI4Ni41Nnw1OS4wNA==)' /><circle cx='124.54' cy='67.47' r='2.70pt' style='stroke-width: 0.75;' clip-path='url(#cpNTkuMDR8Njg5Ljc2fDI4Ni41Nnw1OS4wNA==)' /><circle cx='365.37' cy='67.47' r='2.70pt' style='stroke-width: 0.75;' clip-path='url(#cpNTkuMDR8Njg5Ljc2fDI4Ni41Nnw1OS4wNA==)' /><circle cx='666.40' cy='67.47' r='2.70pt' style='stroke-width: 0.75;' clip-path='url(#cpNTkuMDR8Njg5Ljc2fDI4Ni41Nnw1OS4wNA==)' /><circle cx='82.40' cy='211.26' r='2.70pt' style='stroke-width: 0.75;' clip-path='url(#cpNTkuMDR8Njg5Ljc2fDI4Ni41Nnw1OS4wNA==)' /><circle cx='88.42' cy='127.66' r='2.70pt' style='stroke-width: 0.75;' clip-path='url(#cpNTkuMDR8Njg5Ljc2fDI4Ni41Nnw1OS4wNA==)' /><circle cx='124.54' cy='67.47' r='2.70pt' style='stroke-width: 0.75;' clip-path='url(#cpNTkuMDR8Njg5Ljc2fDI4Ni41Nnw1OS4wNA==)' /><circle cx='365.37' cy='67.47' r='2.70pt' style='stroke-width: 0.75;' clip-path='url(#cpNTkuMDR8Njg5Ljc2fDI4Ni41Nnw1OS4wNA==)' /><circle cx='666.40' cy='67.47' r='2.70pt' style='stroke-width: 0.75;' clip-path='url(#cpNTkuMDR8Njg5Ljc2fDI4Ni41Nnw1OS4wNA==)' /><circle cx='82.40' cy='244.69' r='2.70pt' style='stroke-width: 0.75;' clip-path='url(#cpNTkuMDR8Njg5Ljc2fDI4Ni41Nnw1OS4wNA==)' /><circle cx='88.42' cy='137.69' r='2.70pt' style='stroke-width: 0.75;' clip-path='url(#cpNTkuMDR8Njg5Ljc2fDI4Ni41Nnw1OS4wNA==)' /><circle cx='124.54' cy='67.47' r='2.70pt' style='stroke-width: 0.75;' clip-path='url(#cpNTkuMDR8Njg5Ljc2fDI4Ni41Nnw1OS4wNA==)' /><circle cx='365.37' cy='67.47' r='2.70pt' style='stroke-width: 0.75;' clip-path='url(#cpNTkuMDR8Njg5Ljc2fDI4Ni41Nnw1OS4wNA==)' /><circle cx='666.40' cy='67.47' r='2.70pt' style='stroke-width: 0.75;' clip-path='url(#cpNTkuMDR8Njg5Ljc2fDI4Ni41Nnw1OS4wNA==)' /><circle cx='82.40' cy='234.66' r='2.70pt' style='stroke-width: 0.75;' clip-path='url(#cpNTkuMDR8Njg5Ljc2fDI4Ni41Nnw1OS4wNA==)' /><circle cx='88.42' cy='147.72' r='2.70pt' style='stroke-width: 0.75;' clip-path='url(#cpNTkuMDR8Njg5Ljc2fDI4Ni41Nnw1OS4wNA==)' /><circle cx='124.54' cy='67.47' r='2.70pt' style='stroke-width: 0.75;' clip-path='url(#cpNTkuMDR8Njg5Ljc2fDI4Ni41Nnw1OS4wNA==)' /><circle cx='365.37' cy='67.47' r='2.70pt' style='stroke-width: 0.75;' clip-path='url(#cpNTkuMDR8Njg5Ljc2fDI4Ni41Nnw1OS4wNA==)' /><circle cx='666.40' cy='67.47' r='2.70pt' style='stroke-width: 0.75;' clip-path='url(#cpNTkuMDR8Njg5Ljc2fDI4Ni41Nnw1OS4wNA==)' /><circle cx='82.40' cy='221.29' r='2.70pt' style='stroke-width: 0.75;' clip-path='url(#cpNTkuMDR8Njg5Ljc2fDI4Ni41Nnw1OS4wNA==)' /><circle cx='88.42' cy='131.00' r='2.70pt' style='stroke-width: 0.75;' clip-path='url(#cpNTkuMDR8Njg5Ljc2fDI4Ni41Nnw1OS4wNA==)' /><circle cx='124.54' cy='67.47' r='2.70pt' style='stroke-width: 0.75;' clip-path='url(#cpNTkuMDR8Njg5Ljc2fDI4Ni41Nnw1OS4wNA==)' /><circle cx='365.37' cy='67.47' r='2.70pt' style='stroke-width: 0.75;' clip-path='url(#cpNTkuMDR8Njg5Ljc2fDI4Ni41Nnw1OS4wNA==)' /><circle cx='666.40' cy='67.47' r='2.70pt' style='stroke-width: 0.75;' clip-path='url(#cpNTkuMDR8Njg5Ljc2fDI4Ni41Nnw1OS4wNA==)' /><circle cx='82.40' cy='258.07' r='2.70pt' style='stroke-width: 0.75;' clip-path='url(#cpNTkuMDR8Njg5Ljc2fDI4Ni41Nnw1OS4wNA==)' /><circle cx='88.42' cy='127.66' r='2.70pt' style='stroke-width: 0.75;' clip-path='url(#cpNTkuMDR8Njg5Ljc2fDI4Ni41Nnw1OS4wNA==)' /><circle cx='124.54' cy='67.47' r='2.70pt' style='stroke-width: 0.75;' clip-path='url(#cpNTkuMDR8Njg5Ljc2fDI4Ni41Nnw1OS4wNA==)' /><circle cx='365.37' cy='67.47' r='2.70pt' style='stroke-width: 0.75;' clip-path='url(#cpNTkuMDR8Njg5Ljc2fDI4Ni41Nnw1OS4wNA==)' /><circle cx='666.40' cy='67.47' r='2.70pt' style='stroke-width: 0.75;' clip-path='url(#cpNTkuMDR8Njg5Ljc2fDI4Ni41Nnw1OS4wNA==)' /><circle cx='82.40' cy='268.10' r='2.70pt' style='stroke-width: 0.75;' clip-path='url(#cpNTkuMDR8Njg5Ljc2fDI4Ni41Nnw1OS4wNA==)' /><circle cx='88.42' cy='161.10' r='2.70pt' style='stroke-width: 0.75;' clip-path='url(#cpNTkuMDR8Njg5Ljc2fDI4Ni41Nnw1OS4wNA==)' /><circle cx='124.54' cy='67.47' r='2.70pt' style='stroke-width: 0.75;' clip-path='url(#cpNTkuMDR8Njg5Ljc2fDI4Ni41Nnw1OS4wNA==)' /><circle cx='365.37' cy='67.47' r='2.70pt' style='stroke-width: 0.75;' clip-path='url(#cpNTkuMDR8Njg5Ljc2fDI4Ni41Nnw1OS4wNA==)' /><circle cx='666.40' cy='67.47' r='2.70pt' style='stroke-width: 0.75;' clip-path='url(#cpNTkuMDR8Njg5Ljc2fDI4Ni41Nnw1OS4wNA==)' /><circle cx='82.40' cy='258.07' r='2.70pt' style='stroke-width: 0.75;' clip-path='url(#cpNTkuMDR8Njg5Ljc2fDI4Ni41Nnw1OS4wNA==)' /><circle cx='88.42' cy='124.31' r='2.70pt' style='stroke-width: 0.75;' clip-path='url(#cpNTkuMDR8Njg5Ljc2fDI4Ni41Nnw1OS4wNA==)' /><circle cx='124.54' cy='67.47' r='2.70pt' style='stroke-width: 0.75;' clip-path='url(#cpNTkuMDR8Njg5Ljc2fDI4Ni41Nnw1OS4wNA==)' /><circle cx='365.37' cy='67.47' r='2.70pt' style='stroke-width: 0.75;' clip-path='url(#cpNTkuMDR8Njg5Ljc2fDI4Ni41Nnw1OS4wNA==)' /><circle cx='666.40' cy='67.47' r='2.70pt' style='stroke-width: 0.75;' clip-path='url(#cpNTkuMDR8Njg5Ljc2fDI4Ni41Nnw1OS4wNA==)' /><circle cx='82.40' cy='268.10' r='2.70pt' style='stroke-width: 0.75;' clip-path='url(#cpNTkuMDR8Njg5Ljc2fDI4Ni41Nnw1OS4wNA==)' /><circle cx='88.42' cy='107.59' r='2.70pt' style='stroke-width: 0.75;' clip-path='url(#cpNTkuMDR8Njg5Ljc2fDI4Ni41Nnw1OS4wNA==)' /><circle cx='124.54' cy='67.47' r='2.70pt' style='stroke-width: 0.75;' clip-path='url(#cpNTkuMDR8Njg5Ljc2fDI4Ni41Nnw1OS4wNA==)' /><circle cx='365.37' cy='67.47' r='2.70pt' style='stroke-width: 0.75;' clip-path='url(#cpNTkuMDR8Njg5Ljc2fDI4Ni41Nnw1OS4wNA==)' /><circle cx='666.40' cy='67.47' r='2.70pt' style='stroke-width: 0.75;' clip-path='url(#cpNTkuMDR8Njg5Ljc2fDI4Ni41Nnw1OS4wNA==)' /><circle cx='82.40' cy='298.20' r='2.70pt' style='stroke-width: 0.75;' clip-path='url(#cpNTkuMDR8Njg5Ljc2fDI4Ni41Nnw1OS4wNA==)' /><circle cx='88.42' cy='151.06' r='2.70pt' style='stroke-width: 0.75;' clip-path='url(#cpNTkuMDR8Njg5Ljc2fDI4Ni41Nnw1OS4wNA==)' /><circle cx='124.54' cy='67.47' r='2.70pt' style='stroke-width: 0.75;' clip-path='url(#cpNTkuMDR8Njg5Ljc2fDI4Ni41Nnw1OS4wNA==)' /><circle cx='365.37' cy='67.47' r='2.70pt' style='stroke-width: 0.75;' clip-path='url(#cpNTkuMDR8Njg5Ljc2fDI4Ni41Nnw1OS4wNA==)' /><circle cx='666.40' cy='67.47' r='2.70pt' style='stroke-width: 0.75;' clip-path='url(#cpNTkuMDR8Njg5Ljc2fDI4Ni41Nnw1OS4wNA==)' /><circle cx='82.40' cy='281.48' r='2.70pt' style='stroke-width: 0.75;' clip-path='url(#cpNTkuMDR8Njg5Ljc2fDI4Ni41Nnw1OS4wNA==)' /><circle cx='88.42' cy='127.66' r='2.70pt' style='stroke-width: 0.75;' clip-path='url(#cpNTkuMDR8Njg5Ljc2fDI4Ni41Nnw1OS4wNA==)' /><circle cx='124.54' cy='67.47' r='2.70pt' style='stroke-width: 0.75;' clip-path='url(#cpNTkuMDR8Njg5Ljc2fDI4Ni41Nnw1OS4wNA==)' /><circle cx='365.37' cy='67.47' r='2.70pt' style='stroke-width: 0.75;' clip-path='url(#cpNTkuMDR8Njg5Ljc2fDI4Ni41Nnw1OS4wNA==)' /><circle cx='666.40' cy='67.47' r='2.70pt' style='stroke-width: 0.75;' clip-path='url(#cpNTkuMDR8Njg5Ljc2fDI4Ni41Nnw1OS4wNA==)' /><circle cx='82.40' cy='321.60' r='2.70pt' style='stroke-width: 0.75;' clip-path='url(#cpNTkuMDR8Njg5Ljc2fDI4Ni41Nnw1OS4wNA==)' /><circle cx='88.42' cy='124.31' r='2.70pt' style='stroke-width: 0.75;' clip-path='url(#cpNTkuMDR8Njg5Ljc2fDI4Ni41Nnw1OS4wNA==)' /><circle cx='124.54' cy='67.47' r='2.70pt' style='stroke-width: 0.75;' clip-path='url(#cpNTkuMDR8Njg5Ljc2fDI4Ni41Nnw1OS4wNA==)' /><circle cx='365.37' cy='67.47' r='2.70pt' style='stroke-width: 0.75;' clip-path='url(#cpNTkuMDR8Njg5Ljc2fDI4Ni41Nnw1OS4wNA==)' /><circle cx='666.40' cy='67.47' r='2.70pt' style='stroke-width: 0.75;' clip-path='url(#cpNTkuMDR8Njg5Ljc2fDI4Ni41Nnw1OS4wNA==)' /><circle cx='82.40' cy='304.88' r='2.70pt' style='stroke-width: 0.75;' clip-path='url(#cpNTkuMDR8Njg5Ljc2fDI4Ni41Nnw1OS4wNA==)' /><circle cx='88.42' cy='137.69' r='2.70pt' style='stroke-width: 0.75;' clip-path='url(#cpNTkuMDR8Njg5Ljc2fDI4Ni41Nnw1OS4wNA==)' /><circle cx='124.54' cy='67.47' r='2.70pt' style='stroke-width: 0.75;' clip-path='url(#cpNTkuMDR8Njg5Ljc2fDI4Ni41Nnw1OS4wNA==)' /><circle cx='365.37' cy='67.47' r='2.70pt' style='stroke-width: 0.75;' clip-path='url(#cpNTkuMDR8Njg5Ljc2fDI4Ni41Nnw1OS4wNA==)' /><circle cx='666.40' cy='67.47' r='2.70pt' style='stroke-width: 0.75;' clip-path='url(#cpNTkuMDR8Njg5Ljc2fDI4Ni41Nnw1OS4wNA==)' /><circle cx='82.40' cy='231.32' r='2.70pt' style='stroke-width: 0.75;' clip-path='url(#cpNTkuMDR8Njg5Ljc2fDI4Ni41Nnw1OS4wNA==)' /><circle cx='88.42' cy='114.28' r='2.70pt' style='stroke-width: 0.75;' clip-path='url(#cpNTkuMDR8Njg5Ljc2fDI4Ni41Nnw1OS4wNA==)' /><circle cx='124.54' cy='67.47' r='2.70pt' style='stroke-width: 0.75;' clip-path='url(#cpNTkuMDR8Njg5Ljc2fDI4Ni41Nnw1OS4wNA==)' /><circle cx='365.37' cy='67.47' r='2.70pt' style='stroke-width: 0.75;' clip-path='url(#cpNTkuMDR8Njg5Ljc2fDI4Ni41Nnw1OS4wNA==)' /><circle cx='666.40' cy='67.47' r='2.70pt' style='stroke-width: 0.75;' clip-path='url(#cpNTkuMDR8Njg5Ljc2fDI4Ni41Nnw1OS4wNA==)' /><circle cx='82.40' cy='244.69' r='2.70pt' style='stroke-width: 0.75;' clip-path='url(#cpNTkuMDR8Njg5Ljc2fDI4Ni41Nnw1OS4wNA==)' /><circle cx='88.42' cy='124.31' r='2.70pt' style='stroke-width: 0.75;' clip-path='url(#cpNTkuMDR8Njg5Ljc2fDI4Ni41Nnw1OS4wNA==)' /><circle cx='124.54' cy='67.47' r='2.70pt' style='stroke-width: 0.75;' clip-path='url(#cpNTkuMDR8Njg5Ljc2fDI4Ni41Nnw1OS4wNA==)' /><circle cx='365.37' cy='67.47' r='2.70pt' style='stroke-width: 0.75;' clip-path='url(#cpNTkuMDR8Njg5Ljc2fDI4Ni41Nnw1OS4wNA==)' /><circle cx='666.40' cy='67.47' r='2.70pt' style='stroke-width: 0.75;' clip-path='url(#cpNTkuMDR8Njg5Ljc2fDI4Ni41Nnw1OS4wNA==)' /><circle cx='82.40' cy='284.82' r='2.70pt' style='stroke-width: 0.75;' clip-path='url(#cpNTkuMDR8Njg5Ljc2fDI4Ni41Nnw1OS4wNA==)' /><circle cx='88.42' cy='151.06' r='2.70pt' style='stroke-width: 0.75;' clip-path='url(#cpNTkuMDR8Njg5Ljc2fDI4Ni41Nnw1OS4wNA==)' /><circle cx='124.54' cy='67.47' r='2.70pt' style='stroke-width: 0.75;' clip-path='url(#cpNTkuMDR8Njg5Ljc2fDI4Ni41Nnw1OS4wNA==)' /><circle cx='365.37' cy='67.47' r='2.70pt' style='stroke-width: 0.75;' clip-path='url(#cpNTkuMDR8Njg5Ljc2fDI4Ni41Nnw1OS4wNA==)' /><circle cx='666.40' cy='67.47' r='2.70pt' style='stroke-width: 0.75;' clip-path='url(#cpNTkuMDR8Njg5Ljc2fDI4Ni41Nnw1OS4wNA==)' /><circle cx='82.40' cy='304.88' r='2.70pt' style='stroke-width: 0.75;' clip-path='url(#cpNTkuMDR8Njg5Ljc2fDI4Ni41Nnw1OS4wNA==)' /><circle cx='88.42' cy='131.00' r='2.70pt' style='stroke-width: 0.75;' clip-path='url(#cpNTkuMDR8Njg5Ljc2fDI4Ni41Nnw1OS4wNA==)' /><circle cx='124.54' cy='67.47' r='2.70pt' style='stroke-width: 0.75;' clip-path='url(#cpNTkuMDR8Njg5Ljc2fDI4Ni41Nnw1OS4wNA==)' /><circle cx='365.37' cy='67.47' r='2.70pt' style='stroke-width: 0.75;' clip-path='url(#cpNTkuMDR8Njg5Ljc2fDI4Ni41Nnw1OS4wNA==)' /><circle cx='666.40' cy='67.47' r='2.70pt' style='stroke-width: 0.75;' clip-path='url(#cpNTkuMDR8Njg5Ljc2fDI4Ni41Nnw1OS4wNA==)' /><circle cx='82.40' cy='291.51' r='2.70pt' style='stroke-width: 0.75;' clip-path='url(#cpNTkuMDR8Njg5Ljc2fDI4Ni41Nnw1OS4wNA==)' /><circle cx='88.42' cy='110.94' r='2.70pt' style='stroke-width: 0.75;' clip-path='url(#cpNTkuMDR8Njg5Ljc2fDI4Ni41Nnw1OS4wNA==)' /><circle cx='124.54' cy='67.47' r='2.70pt' style='stroke-width: 0.75;' clip-path='url(#cpNTkuMDR8Njg5Ljc2fDI4Ni41Nnw1OS4wNA==)' /><circle cx='365.37' cy='67.47' r='2.70pt' style='stroke-width: 0.75;' clip-path='url(#cpNTkuMDR8Njg5Ljc2fDI4Ni41Nnw1OS4wNA==)' /><circle cx='666.40' cy='67.47' r='2.70pt' style='stroke-width: 0.75;' clip-path='url(#cpNTkuMDR8Njg5Ljc2fDI4Ni41Nnw1OS4wNA==)' /><circle cx='82.40' cy='281.48' r='2.70pt' style='stroke-width: 0.75;' clip-path='url(#cpNTkuMDR8Njg5Ljc2fDI4Ni41Nnw1OS4wNA==)' /><circle cx='88.42' cy='134.34' r='2.70pt' style='stroke-width: 0.75;' clip-path='url(#cpNTkuMDR8Njg5Ljc2fDI4Ni41Nnw1OS4wNA==)' /><circle cx='124.54' cy='67.47' r='2.70pt' style='stroke-width: 0.75;' clip-path='url(#cpNTkuMDR8Njg5Ljc2fDI4Ni41Nnw1OS4wNA==)' /><circle cx='365.37' cy='67.47' r='2.70pt' style='stroke-width: 0.75;' clip-path='url(#cpNTkuMDR8Njg5Ljc2fDI4Ni41Nnw1OS4wNA==)' /><circle cx='666.40' cy='67.47' r='2.70pt' style='stroke-width: 0.75;' clip-path='url(#cpNTkuMDR8Njg5Ljc2fDI4Ni41Nnw1OS4wNA==)' /><circle cx='82.40' cy='274.79' r='2.70pt' style='stroke-width: 0.75;' clip-path='url(#cpNTkuMDR8Njg5Ljc2fDI4Ni41Nnw1OS4wNA==)' /><circle cx='88.42' cy='110.94' r='2.70pt' style='stroke-width: 0.75;' clip-path='url(#cpNTkuMDR8Njg5Ljc2fDI4Ni41Nnw1OS4wNA==)' /><circle cx='124.54' cy='67.47' r='2.70pt' style='stroke-width: 0.75;' clip-path='url(#cpNTkuMDR8Njg5Ljc2fDI4Ni41Nnw1OS4wNA==)' /><circle cx='365.37' cy='67.47' r='2.70pt' style='stroke-width: 0.75;' clip-path='url(#cpNTkuMDR8Njg5Ljc2fDI4Ni41Nnw1OS4wNA==)' /><circle cx='666.40' cy='67.47' r='2.70pt' style='stroke-width: 0.75;' clip-path='url(#cpNTkuMDR8Njg5Ljc2fDI4Ni41Nnw1OS4wNA==)' /><circle cx='82.40' cy='298.20' r='2.70pt' style='stroke-width: 0.75;' clip-path='url(#cpNTkuMDR8Njg5Ljc2fDI4Ni41Nnw1OS4wNA==)' /><circle cx='88.42' cy='127.66' r='2.70pt' style='stroke-width: 0.75;' clip-path='url(#cpNTkuMDR8Njg5Ljc2fDI4Ni41Nnw1OS4wNA==)' /><circle cx='124.54' cy='67.47' r='2.70pt' style='stroke-width: 0.75;' clip-path='url(#cpNTkuMDR8Njg5Ljc2fDI4Ni41Nnw1OS4wNA==)' /><circle cx='365.37' cy='67.47' r='2.70pt' style='stroke-width: 0.75;' clip-path='url(#cpNTkuMDR8Njg5Ljc2fDI4Ni41Nnw1OS4wNA==)' /><circle cx='666.40' cy='67.47' r='2.70pt' style='stroke-width: 0.75;' clip-path='url(#cpNTkuMDR8Njg5Ljc2fDI4Ni41Nnw1OS4wNA==)' /><circle cx='82.40' cy='244.69' r='2.70pt' style='stroke-width: 0.75;' clip-path='url(#cpNTkuMDR8Njg5Ljc2fDI4Ni41Nnw1OS4wNA==)' /><circle cx='88.42' cy='141.03' r='2.70pt' style='stroke-width: 0.75;' clip-path='url(#cpNTkuMDR8Njg5Ljc2fDI4Ni41Nnw1OS4wNA==)' /><circle cx='124.54' cy='67.47' r='2.70pt' style='stroke-width: 0.75;' clip-path='url(#cpNTkuMDR8Njg5Ljc2fDI4Ni41Nnw1OS4wNA==)' /><circle cx='365.37' cy='67.47' r='2.70pt' style='stroke-width: 0.75;' clip-path='url(#cpNTkuMDR8Njg5Ljc2fDI4Ni41Nnw1OS4wNA==)' /><circle cx='666.40' cy='67.47' r='2.70pt' style='stroke-width: 0.75;' clip-path='url(#cpNTkuMDR8Njg5Ljc2fDI4Ni41Nnw1OS4wNA==)' /><circle cx='82.40' cy='248.04' r='2.70pt' style='stroke-width: 0.75;' clip-path='url(#cpNTkuMDR8Njg5Ljc2fDI4Ni41Nnw1OS4wNA==)' /><circle cx='88.42' cy='154.41' r='2.70pt' style='stroke-width: 0.75;' clip-path='url(#cpNTkuMDR8Njg5Ljc2fDI4Ni41Nnw1OS4wNA==)' /><circle cx='124.54' cy='67.47' r='2.70pt' style='stroke-width: 0.75;' clip-path='url(#cpNTkuMDR8Njg5Ljc2fDI4Ni41Nnw1OS4wNA==)' /><circle cx='365.37' cy='67.47' r='2.70pt' style='stroke-width: 0.75;' clip-path='url(#cpNTkuMDR8Njg5Ljc2fDI4Ni41Nnw1OS4wNA==)' /><circle cx='666.40' cy='67.47' r='2.70pt' style='stroke-width: 0.75;' clip-path='url(#cpNTkuMDR8Njg5Ljc2fDI4Ni41Nnw1OS4wNA==)' /><circle cx='82.40' cy='254.73' r='2.70pt' style='stroke-width: 0.75;' clip-path='url(#cpNTkuMDR8Njg5Ljc2fDI4Ni41Nnw1OS4wNA==)' /><circle cx='88.42' cy='164.44' r='2.70pt' style='stroke-width: 0.75;' clip-path='url(#cpNTkuMDR8Njg5Ljc2fDI4Ni41Nnw1OS4wNA==)' /><circle cx='124.54' cy='67.47' r='2.70pt' style='stroke-width: 0.75;' clip-path='url(#cpNTkuMDR8Njg5Ljc2fDI4Ni41Nnw1OS4wNA==)' /><circle cx='365.37' cy='67.47' r='2.70pt' style='stroke-width: 0.75;' clip-path='url(#cpNTkuMDR8Njg5Ljc2fDI4Ni41Nnw1OS4wNA==)' /><circle cx='666.40' cy='67.47' r='2.70pt' style='stroke-width: 0.75;' clip-path='url(#cpNTkuMDR8Njg5Ljc2fDI4Ni41Nnw1OS4wNA==)' /><circle cx='82.40' cy='234.66' r='2.70pt' style='stroke-width: 0.75;' clip-path='url(#cpNTkuMDR8Njg5Ljc2fDI4Ni41Nnw1OS4wNA==)' /><circle cx='88.42' cy='141.03' r='2.70pt' style='stroke-width: 0.75;' clip-path='url(#cpNTkuMDR8Njg5Ljc2fDI4Ni41Nnw1OS4wNA==)' /><circle cx='124.54' cy='67.47' r='2.70pt' style='stroke-width: 0.75;' clip-path='url(#cpNTkuMDR8Njg5Ljc2fDI4Ni41Nnw1OS4wNA==)' /><circle cx='365.37' cy='67.47' r='2.70pt' style='stroke-width: 0.75;' clip-path='url(#cpNTkuMDR8Njg5Ljc2fDI4Ni41Nnw1OS4wNA==)' /><circle cx='666.40' cy='67.47' r='2.70pt' style='stroke-width: 0.75;' clip-path='url(#cpNTkuMDR8Njg5Ljc2fDI4Ni41Nnw1OS4wNA==)' /><circle cx='82.40' cy='251.38' r='2.70pt' style='stroke-width: 0.75;' clip-path='url(#cpNTkuMDR8Njg5Ljc2fDI4Ni41Nnw1OS4wNA==)' /><circle cx='88.42' cy='120.97' r='2.70pt' style='stroke-width: 0.75;' clip-path='url(#cpNTkuMDR8Njg5Ljc2fDI4Ni41Nnw1OS4wNA==)' /><circle cx='124.54' cy='67.47' r='2.70pt' style='stroke-width: 0.75;' clip-path='url(#cpNTkuMDR8Njg5Ljc2fDI4Ni41Nnw1OS4wNA==)' /><circle cx='365.37' cy='67.47' r='2.70pt' style='stroke-width: 0.75;' clip-path='url(#cpNTkuMDR8Njg5Ljc2fDI4Ni41Nnw1OS4wNA==)' /><circle cx='666.40' cy='67.47' r='2.70pt' style='stroke-width: 0.75;' clip-path='url(#cpNTkuMDR8Njg5Ljc2fDI4Ni41Nnw1OS4wNA==)' /><circle cx='82.40' cy='298.20' r='2.70pt' style='stroke-width: 0.75;' clip-path='url(#cpNTkuMDR8Njg5Ljc2fDI4Ni41Nnw1OS4wNA==)' /><circle cx='88.42' cy='127.66' r='2.70pt' style='stroke-width: 0.75;' clip-path='url(#cpNTkuMDR8Njg5Ljc2fDI4Ni41Nnw1OS4wNA==)' /><circle cx='124.54' cy='67.47' r='2.70pt' style='stroke-width: 0.75;' clip-path='url(#cpNTkuMDR8Njg5Ljc2fDI4Ni41Nnw1OS4wNA==)' /><circle cx='365.37' cy='67.47' r='2.70pt' style='stroke-width: 0.75;' clip-path='url(#cpNTkuMDR8Njg5Ljc2fDI4Ni41Nnw1OS4wNA==)' /><circle cx='666.40' cy='67.47' r='2.70pt' style='stroke-width: 0.75;' clip-path='url(#cpNTkuMDR8Njg5Ljc2fDI4Ni41Nnw1OS4wNA==)' /><circle cx='82.40' cy='227.97' r='2.70pt' style='stroke-width: 0.75;' clip-path='url(#cpNTkuMDR8Njg5Ljc2fDI4Ni41Nnw1OS4wNA==)' /><circle cx='88.42' cy='120.97' r='2.70pt' style='stroke-width: 0.75;' clip-path='url(#cpNTkuMDR8Njg5Ljc2fDI4Ni41Nnw1OS4wNA==)' /><circle cx='124.54' cy='67.47' r='2.70pt' style='stroke-width: 0.75;' clip-path='url(#cpNTkuMDR8Njg5Ljc2fDI4Ni41Nnw1OS4wNA==)' /><circle cx='365.37' cy='67.47' r='2.70pt' style='stroke-width: 0.75;' clip-path='url(#cpNTkuMDR8Njg5Ljc2fDI4Ni41Nnw1OS4wNA==)' /><circle cx='666.40' cy='67.47' r='2.70pt' style='stroke-width: 0.75;' clip-path='url(#cpNTkuMDR8Njg5Ljc2fDI4Ni41Nnw1OS4wNA==)' /><circle cx='82.40' cy='288.17' r='2.70pt' style='stroke-width: 0.75;' clip-path='url(#cpNTkuMDR8Njg5Ljc2fDI4Ni41Nnw1OS4wNA==)' /><circle cx='88.42' cy='124.31' r='2.70pt' style='stroke-width: 0.75;' clip-path='url(#cpNTkuMDR8Njg5Ljc2fDI4Ni41Nnw1OS4wNA==)' /><circle cx='124.54' cy='67.47' r='2.70pt' style='stroke-width: 0.75;' clip-path='url(#cpNTkuMDR8Njg5Ljc2fDI4Ni41Nnw1OS4wNA==)' /><circle cx='365.37' cy='67.47' r='2.70pt' style='stroke-width: 0.75;' clip-path='url(#cpNTkuMDR8Njg5Ljc2fDI4Ni41Nnw1OS4wNA==)' /><circle cx='666.40' cy='67.47' r='2.70pt' style='stroke-width: 0.75;' clip-path='url(#cpNTkuMDR8Njg5Ljc2fDI4Ni41Nnw1OS4wNA==)' /><circle cx='82.40' cy='308.23' r='2.70pt' style='stroke-width: 0.75;' clip-path='url(#cpNTkuMDR8Njg5Ljc2fDI4Ni41Nnw1OS4wNA==)' /><circle cx='88.42' cy='127.66' r='2.70pt' style='stroke-width: 0.75;' clip-path='url(#cpNTkuMDR8Njg5Ljc2fDI4Ni41Nnw1OS4wNA==)' /><circle cx='124.54' cy='67.47' r='2.70pt' style='stroke-width: 0.75;' clip-path='url(#cpNTkuMDR8Njg5Ljc2fDI4Ni41Nnw1OS4wNA==)' /><circle cx='365.37' cy='67.47' r='2.70pt' style='stroke-width: 0.75;' clip-path='url(#cpNTkuMDR8Njg5Ljc2fDI4Ni41Nnw1OS4wNA==)' /><circle cx='666.40' cy='67.47' r='2.70pt' style='stroke-width: 0.75;' clip-path='url(#cpNTkuMDR8Njg5Ljc2fDI4Ni41Nnw1OS4wNA==)' /><circle cx='82.40' cy='321.60' r='2.70pt' style='stroke-width: 0.75;' clip-path='url(#cpNTkuMDR8Njg5Ljc2fDI4Ni41Nnw1OS4wNA==)' /><circle cx='88.42' cy='120.97' r='2.70pt' style='stroke-width: 0.75;' clip-path='url(#cpNTkuMDR8Njg5Ljc2fDI4Ni41Nnw1OS4wNA==)' /><circle cx='124.54' cy='67.47' r='2.70pt' style='stroke-width: 0.75;' clip-path='url(#cpNTkuMDR8Njg5Ljc2fDI4Ni41Nnw1OS4wNA==)' /><circle cx='365.37' cy='67.47' r='2.70pt' style='stroke-width: 0.75;' clip-path='url(#cpNTkuMDR8Njg5Ljc2fDI4Ni41Nnw1OS4wNA==)' /><circle cx='666.40' cy='67.47' r='2.70pt' style='stroke-width: 0.75;' clip-path='url(#cpNTkuMDR8Njg5Ljc2fDI4Ni41Nnw1OS4wNA==)' /><circle cx='82.40' cy='304.88' r='2.70pt' style='stroke-width: 0.75;' clip-path='url(#cpNTkuMDR8Njg5Ljc2fDI4Ni41Nnw1OS4wNA==)' /><circle cx='88.42' cy='151.06' r='2.70pt' style='stroke-width: 0.75;' clip-path='url(#cpNTkuMDR8Njg5Ljc2fDI4Ni41Nnw1OS4wNA==)' /><circle cx='124.54' cy='67.47' r='2.70pt' style='stroke-width: 0.75;' clip-path='url(#cpNTkuMDR8Njg5Ljc2fDI4Ni41Nnw1OS4wNA==)' /><circle cx='365.37' cy='67.47' r='2.70pt' style='stroke-width: 0.75;' clip-path='url(#cpNTkuMDR8Njg5Ljc2fDI4Ni41Nnw1OS4wNA==)' /><circle cx='666.40' cy='67.47' r='2.70pt' style='stroke-width: 0.75;' clip-path='url(#cpNTkuMDR8Njg5Ljc2fDI4Ni41Nnw1OS4wNA==)' /><circle cx='82.40' cy='274.79' r='2.70pt' style='stroke-width: 0.75;' clip-path='url(#cpNTkuMDR8Njg5Ljc2fDI4Ni41Nnw1OS4wNA==)' /><circle cx='88.42' cy='117.63' r='2.70pt' style='stroke-width: 0.75;' clip-path='url(#cpNTkuMDR8Njg5Ljc2fDI4Ni41Nnw1OS4wNA==)' /><circle cx='124.54' cy='67.47' r='2.70pt' style='stroke-width: 0.75;' clip-path='url(#cpNTkuMDR8Njg5Ljc2fDI4Ni41Nnw1OS4wNA==)' /><circle cx='365.37' cy='67.47' r='2.70pt' style='stroke-width: 0.75;' clip-path='url(#cpNTkuMDR8Njg5Ljc2fDI4Ni41Nnw1OS4wNA==)' /><circle cx='666.40' cy='67.47' r='2.70pt' style='stroke-width: 0.75;' clip-path='url(#cpNTkuMDR8Njg5Ljc2fDI4Ni41Nnw1OS4wNA==)' /><circle cx='82.40' cy='244.69' r='2.70pt' style='stroke-width: 0.75;' clip-path='url(#cpNTkuMDR8Njg5Ljc2fDI4Ni41Nnw1OS4wNA==)' /><circle cx='88.42' cy='167.78' r='2.70pt' style='stroke-width: 0.75;' clip-path='url(#cpNTkuMDR8Njg5Ljc2fDI4Ni41Nnw1OS4wNA==)' /><circle cx='124.54' cy='67.47' r='2.70pt' style='stroke-width: 0.75;' clip-path='url(#cpNTkuMDR8Njg5Ljc2fDI4Ni41Nnw1OS4wNA==)' /><circle cx='365.37' cy='67.47' r='2.70pt' style='stroke-width: 0.75;' clip-path='url(#cpNTkuMDR8Njg5Ljc2fDI4Ni41Nnw1OS4wNA==)' /><circle cx='666.40' cy='67.47' r='2.70pt' style='stroke-width: 0.75;' clip-path='url(#cpNTkuMDR8Njg5Ljc2fDI4Ni41Nnw1OS4wNA==)' /><circle cx='82.40' cy='298.20' r='2.70pt' style='stroke-width: 0.75;' clip-path='url(#cpNTkuMDR8Njg5Ljc2fDI4Ni41Nnw1OS4wNA==)' /><circle cx='88.42' cy='120.97' r='2.70pt' style='stroke-width: 0.75;' clip-path='url(#cpNTkuMDR8Njg5Ljc2fDI4Ni41Nnw1OS4wNA==)' /><circle cx='124.54' cy='67.47' r='2.70pt' style='stroke-width: 0.75;' clip-path='url(#cpNTkuMDR8Njg5Ljc2fDI4Ni41Nnw1OS4wNA==)' /><circle cx='365.37' cy='67.47' r='2.70pt' style='stroke-width: 0.75;' clip-path='url(#cpNTkuMDR8Njg5Ljc2fDI4Ni41Nnw1OS4wNA==)' /><circle cx='666.40' cy='67.47' r='2.70pt' style='stroke-width: 0.75;' clip-path='url(#cpNTkuMDR8Njg5Ljc2fDI4Ni41Nnw1OS4wNA==)' /><circle cx='82.40' cy='254.73' r='2.70pt' style='stroke-width: 0.75;' clip-path='url(#cpNTkuMDR8Njg5Ljc2fDI4Ni41Nnw1OS4wNA==)' /><circle cx='88.42' cy='134.34' r='2.70pt' style='stroke-width: 0.75;' clip-path='url(#cpNTkuMDR8Njg5Ljc2fDI4Ni41Nnw1OS4wNA==)' /><circle cx='124.54' cy='67.47' r='2.70pt' style='stroke-width: 0.75;' clip-path='url(#cpNTkuMDR8Njg5Ljc2fDI4Ni41Nnw1OS4wNA==)' /><circle cx='365.37' cy='67.47' r='2.70pt' style='stroke-width: 0.75;' clip-path='url(#cpNTkuMDR8Njg5Ljc2fDI4Ni41Nnw1OS4wNA==)' /><circle cx='666.40' cy='67.47' r='2.70pt' style='stroke-width: 0.75;' clip-path='url(#cpNTkuMDR8Njg5Ljc2fDI4Ni41Nnw1OS4wNA==)' /><circle cx='82.40' cy='234.66' r='2.70pt' style='stroke-width: 0.75;' clip-path='url(#cpNTkuMDR8Njg5Ljc2fDI4Ni41Nnw1OS4wNA==)' /><circle cx='88.42' cy='117.63' r='2.70pt' style='stroke-width: 0.75;' clip-path='url(#cpNTkuMDR8Njg5Ljc2fDI4Ni41Nnw1OS4wNA==)' /><circle cx='124.54' cy='67.47' r='2.70pt' style='stroke-width: 0.75;' clip-path='url(#cpNTkuMDR8Njg5Ljc2fDI4Ni41Nnw1OS4wNA==)' /><circle cx='365.37' cy='67.47' r='2.70pt' style='stroke-width: 0.75;' clip-path='url(#cpNTkuMDR8Njg5Ljc2fDI4Ni41Nnw1OS4wNA==)' /><circle cx='666.40' cy='67.47' r='2.70pt' style='stroke-width: 0.75;' clip-path='url(#cpNTkuMDR8Njg5Ljc2fDI4Ni41Nnw1OS4wNA==)' /><circle cx='82.40' cy='264.76' r='2.70pt' style='stroke-width: 0.75;' clip-path='url(#cpNTkuMDR8Njg5Ljc2fDI4Ni41Nnw1OS4wNA==)' /><circle cx='88.42' cy='161.10' r='2.70pt' style='stroke-width: 0.75;' clip-path='url(#cpNTkuMDR8Njg5Ljc2fDI4Ni41Nnw1OS4wNA==)' /><circle cx='124.54' cy='67.47' r='2.70pt' style='stroke-width: 0.75;' clip-path='url(#cpNTkuMDR8Njg5Ljc2fDI4Ni41Nnw1OS4wNA==)' /><circle cx='365.37' cy='67.47' r='2.70pt' style='stroke-width: 0.75;' clip-path='url(#cpNTkuMDR8Njg5Ljc2fDI4Ni41Nnw1OS4wNA==)' /><circle cx='666.40' cy='67.47' r='2.70pt' style='stroke-width: 0.75;' clip-path='url(#cpNTkuMDR8Njg5Ljc2fDI4Ni41Nnw1OS4wNA==)' /><circle cx='82.40' cy='227.97' r='2.70pt' style='stroke-width: 0.75;' clip-path='url(#cpNTkuMDR8Njg5Ljc2fDI4Ni41Nnw1OS4wNA==)' /><circle cx='88.42' cy='154.41' r='2.70pt' style='stroke-width: 0.75;' clip-path='url(#cpNTkuMDR8Njg5Ljc2fDI4Ni41Nnw1OS4wNA==)' /><circle cx='124.54' cy='67.47' r='2.70pt' style='stroke-width: 0.75;' clip-path='url(#cpNTkuMDR8Njg5Ljc2fDI4Ni41Nnw1OS4wNA==)' /><circle cx='365.37' cy='67.47' r='2.70pt' style='stroke-width: 0.75;' clip-path='url(#cpNTkuMDR8Njg5Ljc2fDI4Ni41Nnw1OS4wNA==)' /><circle cx='666.40' cy='67.47' r='2.70pt' style='stroke-width: 0.75;' clip-path='url(#cpNTkuMDR8Njg5Ljc2fDI4Ni41Nnw1OS4wNA==)' /><circle cx='82.40' cy='251.38' r='2.70pt' style='stroke-width: 0.75;' clip-path='url(#cpNTkuMDR8Njg5Ljc2fDI4Ni41Nnw1OS4wNA==)' /><circle cx='88.42' cy='100.91' r='2.70pt' style='stroke-width: 0.75;' clip-path='url(#cpNTkuMDR8Njg5Ljc2fDI4Ni41Nnw1OS4wNA==)' /><circle cx='124.54' cy='67.47' r='2.70pt' style='stroke-width: 0.75;' clip-path='url(#cpNTkuMDR8Njg5Ljc2fDI4Ni41Nnw1OS4wNA==)' /><circle cx='365.37' cy='67.47' r='2.70pt' style='stroke-width: 0.75;' clip-path='url(#cpNTkuMDR8Njg5Ljc2fDI4Ni41Nnw1OS4wNA==)' /><circle cx='666.40' cy='67.47' r='2.70pt' style='stroke-width: 0.75;' clip-path='url(#cpNTkuMDR8Njg5Ljc2fDI4Ni41Nnw1OS4wNA==)' /><circle cx='82.40' cy='248.04' r='2.70pt' style='stroke-width: 0.75;' clip-path='url(#cpNTkuMDR8Njg5Ljc2fDI4Ni41Nnw1OS4wNA==)' /><circle cx='88.42' cy='131.00' r='2.70pt' style='stroke-width: 0.75;' clip-path='url(#cpNTkuMDR8Njg5Ljc2fDI4Ni41Nnw1OS4wNA==)' /><circle cx='124.54' cy='67.47' r='2.70pt' style='stroke-width: 0.75;' clip-path='url(#cpNTkuMDR8Njg5Ljc2fDI4Ni41Nnw1OS4wNA==)' /><circle cx='365.37' cy='67.47' r='2.70pt' style='stroke-width: 0.75;' clip-path='url(#cpNTkuMDR8Njg5Ljc2fDI4Ni41Nnw1OS4wNA==)' /><circle cx='666.40' cy='67.47' r='2.70pt' style='stroke-width: 0.75;' clip-path='url(#cpNTkuMDR8Njg5Ljc2fDI4Ni41Nnw1OS4wNA==)' /><circle cx='82.40' cy='314.92' r='2.70pt' style='stroke-width: 0.75;' clip-path='url(#cpNTkuMDR8Njg5Ljc2fDI4Ni41Nnw1OS4wNA==)' /><circle cx='88.42' cy='110.94' r='2.70pt' style='stroke-width: 0.75;' clip-path='url(#cpNTkuMDR8Njg5Ljc2fDI4Ni41Nnw1OS4wNA==)' /><circle cx='124.54' cy='67.47' r='2.70pt' style='stroke-width: 0.75;' clip-path='url(#cpNTkuMDR8Njg5Ljc2fDI4Ni41Nnw1OS4wNA==)' /><circle cx='365.37' cy='67.47' r='2.70pt' style='stroke-width: 0.75;' clip-path='url(#cpNTkuMDR8Njg5Ljc2fDI4Ni41Nnw1OS4wNA==)' /><circle cx='666.40' cy='67.47' r='2.70pt' style='stroke-width: 0.75;' clip-path='url(#cpNTkuMDR8Njg5Ljc2fDI4Ni41Nnw1OS4wNA==)' /><circle cx='82.40' cy='238.01' r='2.70pt' style='stroke-width: 0.75;' clip-path='url(#cpNTkuMDR8Njg5Ljc2fDI4Ni41Nnw1OS4wNA==)' /><circle cx='88.42' cy='131.00' r='2.70pt' style='stroke-width: 0.75;' clip-path='url(#cpNTkuMDR8Njg5Ljc2fDI4Ni41Nnw1OS4wNA==)' /><circle cx='124.54' cy='67.47' r='2.70pt' style='stroke-width: 0.75;' clip-path='url(#cpNTkuMDR8Njg5Ljc2fDI4Ni41Nnw1OS4wNA==)' /><circle cx='365.37' cy='67.47' r='2.70pt' style='stroke-width: 0.75;' clip-path='url(#cpNTkuMDR8Njg5Ljc2fDI4Ni41Nnw1OS4wNA==)' /><circle cx='666.40' cy='67.47' r='2.70pt' style='stroke-width: 0.75;' clip-path='url(#cpNTkuMDR8Njg5Ljc2fDI4Ni41Nnw1OS4wNA==)' /><circle cx='82.40' cy='311.57' r='2.70pt' style='stroke-width: 0.75;' clip-path='url(#cpNTkuMDR8Njg5Ljc2fDI4Ni41Nnw1OS4wNA==)' /><circle cx='88.42' cy='141.03' r='2.70pt' style='stroke-width: 0.75;' clip-path='url(#cpNTkuMDR8Njg5Ljc2fDI4Ni41Nnw1OS4wNA==)' /><circle cx='124.54' cy='67.47' r='2.70pt' style='stroke-width: 0.75;' clip-path='url(#cpNTkuMDR8Njg5Ljc2fDI4Ni41Nnw1OS4wNA==)' /><circle cx='365.37' cy='67.47' r='2.70pt' style='stroke-width: 0.75;' clip-path='url(#cpNTkuMDR8Njg5Ljc2fDI4Ni41Nnw1OS4wNA==)' /><circle cx='666.40' cy='67.47' r='2.70pt' style='stroke-width: 0.75;' clip-path='url(#cpNTkuMDR8Njg5Ljc2fDI4Ni41Nnw1OS4wNA==)' /><circle cx='82.40' cy='278.13' r='2.70pt' style='stroke-width: 0.75;' clip-path='url(#cpNTkuMDR8Njg5Ljc2fDI4Ni41Nnw1OS4wNA==)' /><circle cx='88.42' cy='144.38' r='2.70pt' style='stroke-width: 0.75;' clip-path='url(#cpNTkuMDR8Njg5Ljc2fDI4Ni41Nnw1OS4wNA==)' /><circle cx='124.54' cy='67.47' r='2.70pt' style='stroke-width: 0.75;' clip-path='url(#cpNTkuMDR8Njg5Ljc2fDI4Ni41Nnw1OS4wNA==)' /><circle cx='365.37' cy='67.47' r='2.70pt' style='stroke-width: 0.75;' clip-path='url(#cpNTkuMDR8Njg5Ljc2fDI4Ni41Nnw1OS4wNA==)' /><circle cx='666.40' cy='67.47' r='2.70pt' style='stroke-width: 0.75;' clip-path='url(#cpNTkuMDR8Njg5Ljc2fDI4Ni41Nnw1OS4wNA==)' /><circle cx='82.40' cy='258.07' r='2.70pt' style='stroke-width: 0.75;' clip-path='url(#cpNTkuMDR8Njg5Ljc2fDI4Ni41Nnw1OS4wNA==)' /><circle cx='88.42' cy='144.38' r='2.70pt' style='stroke-width: 0.75;' clip-path='url(#cpNTkuMDR8Njg5Ljc2fDI4Ni41Nnw1OS4wNA==)' /><circle cx='124.54' cy='67.47' r='2.70pt' style='stroke-width: 0.75;' clip-path='url(#cpNTkuMDR8Njg5Ljc2fDI4Ni41Nnw1OS4wNA==)' /><circle cx='365.37' cy='67.47' r='2.70pt' style='stroke-width: 0.75;' clip-path='url(#cpNTkuMDR8Njg5Ljc2fDI4Ni41Nnw1OS4wNA==)' /><circle cx='666.40' cy='67.47' r='2.70pt' style='stroke-width: 0.75;' clip-path='url(#cpNTkuMDR8Njg5Ljc2fDI4Ni41Nnw1OS4wNA==)' /><circle cx='82.40' cy='258.07' r='2.70pt' style='stroke-width: 0.75;' clip-path='url(#cpNTkuMDR8Njg5Ljc2fDI4Ni41Nnw1OS4wNA==)' /><circle cx='88.42' cy='110.94' r='2.70pt' style='stroke-width: 0.75;' clip-path='url(#cpNTkuMDR8Njg5Ljc2fDI4Ni41Nnw1OS4wNA==)' /><circle cx='124.54' cy='67.47' r='2.70pt' style='stroke-width: 0.75;' clip-path='url(#cpNTkuMDR8Njg5Ljc2fDI4Ni41Nnw1OS4wNA==)' /><circle cx='365.37' cy='67.47' r='2.70pt' style='stroke-width: 0.75;' clip-path='url(#cpNTkuMDR8Njg5Ljc2fDI4Ni41Nnw1OS4wNA==)' /><circle cx='666.40' cy='67.47' r='2.70pt' style='stroke-width: 0.75;' clip-path='url(#cpNTkuMDR8Njg5Ljc2fDI4Ni41Nnw1OS4wNA==)' /><circle cx='82.40' cy='271.45' r='2.70pt' style='stroke-width: 0.75;' clip-path='url(#cpNTkuMDR8Njg5Ljc2fDI4Ni41Nnw1OS4wNA==)' /><circle cx='88.42' cy='137.69' r='2.70pt' style='stroke-width: 0.75;' clip-path='url(#cpNTkuMDR8Njg5Ljc2fDI4Ni41Nnw1OS4wNA==)' /><circle cx='124.54' cy='67.47' r='2.70pt' style='stroke-width: 0.75;' clip-path='url(#cpNTkuMDR8Njg5Ljc2fDI4Ni41Nnw1OS4wNA==)' /><circle cx='365.37' cy='67.47' r='2.70pt' style='stroke-width: 0.75;' clip-path='url(#cpNTkuMDR8Njg5Ljc2fDI4Ni41Nnw1OS4wNA==)' /><circle cx='666.40' cy='67.47' r='2.70pt' style='stroke-width: 0.75;' clip-path='url(#cpNTkuMDR8Njg5Ljc2fDI4Ni41Nnw1OS4wNA==)' /><circle cx='82.40' cy='241.35' r='2.70pt' style='stroke-width: 0.75;' clip-path='url(#cpNTkuMDR8Njg5Ljc2fDI4Ni41Nnw1OS4wNA==)' /><circle cx='88.42' cy='137.69' r='2.70pt' style='stroke-width: 0.75;' clip-path='url(#cpNTkuMDR8Njg5Ljc2fDI4Ni41Nnw1OS4wNA==)' /><circle cx='124.54' cy='67.47' r='2.70pt' style='stroke-width: 0.75;' clip-path='url(#cpNTkuMDR8Njg5Ljc2fDI4Ni41Nnw1OS4wNA==)' /><circle cx='365.37' cy='67.47' r='2.70pt' style='stroke-width: 0.75;' clip-path='url(#cpNTkuMDR8Njg5Ljc2fDI4Ni41Nnw1OS4wNA==)' /><circle cx='666.40' cy='67.47' r='2.70pt' style='stroke-width: 0.75;' clip-path='url(#cpNTkuMDR8Njg5Ljc2fDI4Ni41Nnw1OS4wNA==)' /><circle cx='82.40' cy='258.07' r='2.70pt' style='stroke-width: 0.75;' clip-path='url(#cpNTkuMDR8Njg5Ljc2fDI4Ni41Nnw1OS4wNA==)' /><circle cx='88.42' cy='131.00' r='2.70pt' style='stroke-width: 0.75;' clip-path='url(#cpNTkuMDR8Njg5Ljc2fDI4Ni41Nnw1OS4wNA==)' /><circle cx='124.54' cy='67.47' r='2.70pt' style='stroke-width: 0.75;' clip-path='url(#cpNTkuMDR8Njg5Ljc2fDI4Ni41Nnw1OS4wNA==)' /><circle cx='365.37' cy='67.47' r='2.70pt' style='stroke-width: 0.75;' clip-path='url(#cpNTkuMDR8Njg5Ljc2fDI4Ni41Nnw1OS4wNA==)' /><circle cx='666.40' cy='67.47' r='2.70pt' style='stroke-width: 0.75;' clip-path='url(#cpNTkuMDR8Njg5Ljc2fDI4Ni41Nnw1OS4wNA==)' /><circle cx='82.40' cy='274.79' r='2.70pt' style='stroke-width: 0.75;' clip-path='url(#cpNTkuMDR8Njg5Ljc2fDI4Ni41Nnw1OS4wNA==)' /><circle cx='88.42' cy='127.66' r='2.70pt' style='stroke-width: 0.75;' clip-path='url(#cpNTkuMDR8Njg5Ljc2fDI4Ni41Nnw1OS4wNA==)' /><circle cx='124.54' cy='67.47' r='2.70pt' style='stroke-width: 0.75;' clip-path='url(#cpNTkuMDR8Njg5Ljc2fDI4Ni41Nnw1OS4wNA==)' /><circle cx='365.37' cy='67.47' r='2.70pt' style='stroke-width: 0.75;' clip-path='url(#cpNTkuMDR8Njg5Ljc2fDI4Ni41Nnw1OS4wNA==)' /><circle cx='666.40' cy='67.47' r='2.70pt' style='stroke-width: 0.75;' clip-path='url(#cpNTkuMDR8Njg5Ljc2fDI4Ni41Nnw1OS4wNA==)' /><circle cx='82.40' cy='278.13' r='2.70pt' style='stroke-width: 0.75;' clip-path='url(#cpNTkuMDR8Njg5Ljc2fDI4Ni41Nnw1OS4wNA==)' /><circle cx='88.42' cy='164.44' r='2.70pt' style='stroke-width: 0.75;' clip-path='url(#cpNTkuMDR8Njg5Ljc2fDI4Ni41Nnw1OS4wNA==)' /><circle cx='124.54' cy='67.47' r='2.70pt' style='stroke-width: 0.75;' clip-path='url(#cpNTkuMDR8Njg5Ljc2fDI4Ni41Nnw1OS4wNA==)' /><circle cx='365.37' cy='67.47' r='2.70pt' style='stroke-width: 0.75;' clip-path='url(#cpNTkuMDR8Njg5Ljc2fDI4Ni41Nnw1OS4wNA==)' /><circle cx='666.40' cy='67.47' r='2.70pt' style='stroke-width: 0.75;' clip-path='url(#cpNTkuMDR8Njg5Ljc2fDI4Ni41Nnw1OS4wNA==)' /><circle cx='82.40' cy='278.13' r='2.70pt' style='stroke-width: 0.75;' clip-path='url(#cpNTkuMDR8Njg5Ljc2fDI4Ni41Nnw1OS4wNA==)' /><circle cx='88.42' cy='124.31' r='2.70pt' style='stroke-width: 0.75;' clip-path='url(#cpNTkuMDR8Njg5Ljc2fDI4Ni41Nnw1OS4wNA==)' /><circle cx='124.54' cy='67.47' r='2.70pt' style='stroke-width: 0.75;' clip-path='url(#cpNTkuMDR8Njg5Ljc2fDI4Ni41Nnw1OS4wNA==)' /><circle cx='365.37' cy='67.47' r='2.70pt' style='stroke-width: 0.75;' clip-path='url(#cpNTkuMDR8Njg5Ljc2fDI4Ni41Nnw1OS4wNA==)' /><circle cx='666.40' cy='67.47' r='2.70pt' style='stroke-width: 0.75;' clip-path='url(#cpNTkuMDR8Njg5Ljc2fDI4Ni41Nnw1OS4wNA==)' /><circle cx='82.40' cy='274.79' r='2.70pt' style='stroke-width: 0.75;' clip-path='url(#cpNTkuMDR8Njg5Ljc2fDI4Ni41Nnw1OS4wNA==)' /><circle cx='88.42' cy='97.56' r='2.70pt' style='stroke-width: 0.75;' clip-path='url(#cpNTkuMDR8Njg5Ljc2fDI4Ni41Nnw1OS4wNA==)' /><circle cx='124.54' cy='67.47' r='2.70pt' style='stroke-width: 0.75;' clip-path='url(#cpNTkuMDR8Njg5Ljc2fDI4Ni41Nnw1OS4wNA==)' /><circle cx='365.37' cy='67.47' r='2.70pt' style='stroke-width: 0.75;' clip-path='url(#cpNTkuMDR8Njg5Ljc2fDI4Ni41Nnw1OS4wNA==)' /><circle cx='666.40' cy='67.47' r='2.70pt' style='stroke-width: 0.75;' clip-path='url(#cpNTkuMDR8Njg5Ljc2fDI4Ni41Nnw1OS4wNA==)' /><circle cx='82.40' cy='261.41' r='2.70pt' style='stroke-width: 0.75;' clip-path='url(#cpNTkuMDR8Njg5Ljc2fDI4Ni41Nnw1OS4wNA==)' /><circle cx='88.42' cy='124.31' r='2.70pt' style='stroke-width: 0.75;' clip-path='url(#cpNTkuMDR8Njg5Ljc2fDI4Ni41Nnw1OS4wNA==)' /><circle cx='124.54' cy='67.47' r='2.70pt' style='stroke-width: 0.75;' clip-path='url(#cpNTkuMDR8Njg5Ljc2fDI4Ni41Nnw1OS4wNA==)' /><circle cx='365.37' cy='67.47' r='2.70pt' style='stroke-width: 0.75;' clip-path='url(#cpNTkuMDR8Njg5Ljc2fDI4Ni41Nnw1OS4wNA==)' /><circle cx='666.40' cy='67.47' r='2.70pt' style='stroke-width: 0.75;' clip-path='url(#cpNTkuMDR8Njg5Ljc2fDI4Ni41Nnw1OS4wNA==)' /><circle cx='82.40' cy='291.51' r='2.70pt' style='stroke-width: 0.75;' clip-path='url(#cpNTkuMDR8Njg5Ljc2fDI4Ni41Nnw1OS4wNA==)' /><circle cx='88.42' cy='137.69' r='2.70pt' style='stroke-width: 0.75;' clip-path='url(#cpNTkuMDR8Njg5Ljc2fDI4Ni41Nnw1OS4wNA==)' /><circle cx='124.54' cy='67.47' r='2.70pt' style='stroke-width: 0.75;' clip-path='url(#cpNTkuMDR8Njg5Ljc2fDI4Ni41Nnw1OS4wNA==)' /><circle cx='365.37' cy='67.47' r='2.70pt' style='stroke-width: 0.75;' clip-path='url(#cpNTkuMDR8Njg5Ljc2fDI4Ni41Nnw1OS4wNA==)' /><circle cx='666.40' cy='67.47' r='2.70pt' style='stroke-width: 0.75;' clip-path='url(#cpNTkuMDR8Njg5Ljc2fDI4Ni41Nnw1OS4wNA==)' /><circle cx='82.40' cy='241.35' r='2.70pt' style='stroke-width: 0.75;' clip-path='url(#cpNTkuMDR8Njg5Ljc2fDI4Ni41Nnw1OS4wNA==)' /><circle cx='88.42' cy='134.34' r='2.70pt' style='stroke-width: 0.75;' clip-path='url(#cpNTkuMDR8Njg5Ljc2fDI4Ni41Nnw1OS4wNA==)' /><circle cx='124.54' cy='67.47' r='2.70pt' style='stroke-width: 0.75;' clip-path='url(#cpNTkuMDR8Njg5Ljc2fDI4Ni41Nnw1OS4wNA==)' /><circle cx='365.37' cy='67.47' r='2.70pt' style='stroke-width: 0.75;' clip-path='url(#cpNTkuMDR8Njg5Ljc2fDI4Ni41Nnw1OS4wNA==)' /><circle cx='666.40' cy='67.47' r='2.70pt' style='stroke-width: 0.75;' clip-path='url(#cpNTkuMDR8Njg5Ljc2fDI4Ni41Nnw1OS4wNA==)' /><circle cx='82.40' cy='291.51' r='2.70pt' style='stroke-width: 0.75;' clip-path='url(#cpNTkuMDR8Njg5Ljc2fDI4Ni41Nnw1OS4wNA==)' /><circle cx='88.42' cy='114.28' r='2.70pt' style='stroke-width: 0.75;' clip-path='url(#cpNTkuMDR8Njg5Ljc2fDI4Ni41Nnw1OS4wNA==)' /><circle cx='124.54' cy='67.47' r='2.70pt' style='stroke-width: 0.75;' clip-path='url(#cpNTkuMDR8Njg5Ljc2fDI4Ni41Nnw1OS4wNA==)' /><circle cx='365.37' cy='67.47' r='2.70pt' style='stroke-width: 0.75;' clip-path='url(#cpNTkuMDR8Njg5Ljc2fDI4Ni41Nnw1OS4wNA==)' /><circle cx='666.40' cy='67.47' r='2.70pt' style='stroke-width: 0.75;' clip-path='url(#cpNTkuMDR8Njg5Ljc2fDI4Ni41Nnw1OS4wNA==)' /><circle cx='82.40' cy='284.82' r='2.70pt' style='stroke-width: 0.75;' clip-path='url(#cpNTkuMDR8Njg5Ljc2fDI4Ni41Nnw1OS4wNA==)' /><circle cx='88.42' cy='134.34' r='2.70pt' style='stroke-width: 0.75;' clip-path='url(#cpNTkuMDR8Njg5Ljc2fDI4Ni41Nnw1OS4wNA==)' /><circle cx='124.54' cy='67.47' r='2.70pt' style='stroke-width: 0.75;' clip-path='url(#cpNTkuMDR8Njg5Ljc2fDI4Ni41Nnw1OS4wNA==)' /><circle cx='365.37' cy='67.47' r='2.70pt' style='stroke-width: 0.75;' clip-path='url(#cpNTkuMDR8Njg5Ljc2fDI4Ni41Nnw1OS4wNA==)' /><circle cx='666.40' cy='67.47' r='2.70pt' style='stroke-width: 0.75;' clip-path='url(#cpNTkuMDR8Njg5Ljc2fDI4Ni41Nnw1OS4wNA==)' /><circle cx='82.40' cy='304.88' r='2.70pt' style='stroke-width: 0.75;' clip-path='url(#cpNTkuMDR8Njg5Ljc2fDI4Ni41Nnw1OS4wNA==)' /><circle cx='88.42' cy='131.00' r='2.70pt' style='stroke-width: 0.75;' clip-path='url(#cpNTkuMDR8Njg5Ljc2fDI4Ni41Nnw1OS4wNA==)' /><circle cx='124.54' cy='67.47' r='2.70pt' style='stroke-width: 0.75;' clip-path='url(#cpNTkuMDR8Njg5Ljc2fDI4Ni41Nnw1OS4wNA==)' /><circle cx='365.37' cy='67.47' r='2.70pt' style='stroke-width: 0.75;' clip-path='url(#cpNTkuMDR8Njg5Ljc2fDI4Ni41Nnw1OS4wNA==)' /><circle cx='666.40' cy='67.47' r='2.70pt' style='stroke-width: 0.75;' clip-path='url(#cpNTkuMDR8Njg5Ljc2fDI4Ni41Nnw1OS4wNA==)' /><circle cx='82.40' cy='261.41' r='2.70pt' style='stroke-width: 0.75;' clip-path='url(#cpNTkuMDR8Njg5Ljc2fDI4Ni41Nnw1OS4wNA==)' /><circle cx='88.42' cy='127.66' r='2.70pt' style='stroke-width: 0.75;' clip-path='url(#cpNTkuMDR8Njg5Ljc2fDI4Ni41Nnw1OS4wNA==)' /><circle cx='124.54' cy='70.81' r='2.70pt' style='stroke-width: 0.75;' clip-path='url(#cpNTkuMDR8Njg5Ljc2fDI4Ni41Nnw1OS4wNA==)' /><circle cx='365.37' cy='67.47' r='2.70pt' style='stroke-width: 0.75;' clip-path='url(#cpNTkuMDR8Njg5Ljc2fDI4Ni41Nnw1OS4wNA==)' /><circle cx='666.40' cy='67.47' r='2.70pt' style='stroke-width: 0.75;' clip-path='url(#cpNTkuMDR8Njg5Ljc2fDI4Ni41Nnw1OS4wNA==)' /><circle cx='82.40' cy='248.04' r='2.70pt' style='stroke-width: 0.75;' clip-path='url(#cpNTkuMDR8Njg5Ljc2fDI4Ni41Nnw1OS4wNA==)' /><circle cx='88.42' cy='110.94' r='2.70pt' style='stroke-width: 0.75;' clip-path='url(#cpNTkuMDR8Njg5Ljc2fDI4Ni41Nnw1OS4wNA==)' /><circle cx='124.54' cy='67.47' r='2.70pt' style='stroke-width: 0.75;' clip-path='url(#cpNTkuMDR8Njg5Ljc2fDI4Ni41Nnw1OS4wNA==)' /><circle cx='365.37' cy='67.47' r='2.70pt' style='stroke-width: 0.75;' clip-path='url(#cpNTkuMDR8Njg5Ljc2fDI4Ni41Nnw1OS4wNA==)' /><circle cx='666.40' cy='67.47' r='2.70pt' style='stroke-width: 0.75;' clip-path='url(#cpNTkuMDR8Njg5Ljc2fDI4Ni41Nnw1OS4wNA==)' /><circle cx='82.40' cy='281.48' r='2.70pt' style='stroke-width: 0.75;' clip-path='url(#cpNTkuMDR8Njg5Ljc2fDI4Ni41Nnw1OS4wNA==)' /><circle cx='88.42' cy='120.97' r='2.70pt' style='stroke-width: 0.75;' clip-path='url(#cpNTkuMDR8Njg5Ljc2fDI4Ni41Nnw1OS4wNA==)' /><circle cx='124.54' cy='67.47' r='2.70pt' style='stroke-width: 0.75;' clip-path='url(#cpNTkuMDR8Njg5Ljc2fDI4Ni41Nnw1OS4wNA==)' /><circle cx='365.37' cy='67.47' r='2.70pt' style='stroke-width: 0.75;' clip-path='url(#cpNTkuMDR8Njg5Ljc2fDI4Ni41Nnw1OS4wNA==)' /><circle cx='666.40' cy='67.47' r='2.70pt' style='stroke-width: 0.75;' clip-path='url(#cpNTkuMDR8Njg5Ljc2fDI4Ni41Nnw1OS4wNA==)' /><circle cx='82.40' cy='294.85' r='2.70pt' style='stroke-width: 0.75;' clip-path='url(#cpNTkuMDR8Njg5Ljc2fDI4Ni41Nnw1OS4wNA==)' /><circle cx='88.42' cy='131.00' r='2.70pt' style='stroke-width: 0.75;' clip-path='url(#cpNTkuMDR8Njg5Ljc2fDI4Ni41Nnw1OS4wNA==)' /><circle cx='124.54' cy='67.47' r='2.70pt' style='stroke-width: 0.75;' clip-path='url(#cpNTkuMDR8Njg5Ljc2fDI4Ni41Nnw1OS4wNA==)' /><circle cx='365.37' cy='67.47' r='2.70pt' style='stroke-width: 0.75;' clip-path='url(#cpNTkuMDR8Njg5Ljc2fDI4Ni41Nnw1OS4wNA==)' /><circle cx='666.40' cy='67.47' r='2.70pt' style='stroke-width: 0.75;' clip-path='url(#cpNTkuMDR8Njg5Ljc2fDI4Ni41Nnw1OS4wNA==)' /><circle cx='82.40' cy='334.98' r='2.70pt' style='stroke-width: 0.75;' clip-path='url(#cpNTkuMDR8Njg5Ljc2fDI4Ni41Nnw1OS4wNA==)' /><circle cx='88.42' cy='110.94' r='2.70pt' style='stroke-width: 0.75;' clip-path='url(#cpNTkuMDR8Njg5Ljc2fDI4Ni41Nnw1OS4wNA==)' /><circle cx='124.54' cy='67.47' r='2.70pt' style='stroke-width: 0.75;' clip-path='url(#cpNTkuMDR8Njg5Ljc2fDI4Ni41Nnw1OS4wNA==)' /><circle cx='365.37' cy='67.47' r='2.70pt' style='stroke-width: 0.75;' clip-path='url(#cpNTkuMDR8Njg5Ljc2fDI4Ni41Nnw1OS4wNA==)' /><circle cx='666.40' cy='67.47' r='2.70pt' style='stroke-width: 0.75;' clip-path='url(#cpNTkuMDR8Njg5Ljc2fDI4Ni41Nnw1OS4wNA==)' /><circle cx='82.40' cy='234.66' r='2.70pt' style='stroke-width: 0.75;' clip-path='url(#cpNTkuMDR8Njg5Ljc2fDI4Ni41Nnw1OS4wNA==)' /><circle cx='88.42' cy='124.31' r='2.70pt' style='stroke-width: 0.75;' clip-path='url(#cpNTkuMDR8Njg5Ljc2fDI4Ni41Nnw1OS4wNA==)' /><circle cx='124.54' cy='67.47' r='2.70pt' style='stroke-width: 0.75;' clip-path='url(#cpNTkuMDR8Njg5Ljc2fDI4Ni41Nnw1OS4wNA==)' /><circle cx='365.37' cy='67.47' r='2.70pt' style='stroke-width: 0.75;' clip-path='url(#cpNTkuMDR8Njg5Ljc2fDI4Ni41Nnw1OS4wNA==)' /><circle cx='666.40' cy='67.47' r='2.70pt' style='stroke-width: 0.75;' clip-path='url(#cpNTkuMDR8Njg5Ljc2fDI4Ni41Nnw1OS4wNA==)' /><circle cx='82.40' cy='321.60' r='2.70pt' style='stroke-width: 0.75;' clip-path='url(#cpNTkuMDR8Njg5Ljc2fDI4Ni41Nnw1OS4wNA==)' /><circle cx='88.42' cy='144.38' r='2.70pt' style='stroke-width: 0.75;' clip-path='url(#cpNTkuMDR8Njg5Ljc2fDI4Ni41Nnw1OS4wNA==)' /><circle cx='124.54' cy='67.47' r='2.70pt' style='stroke-width: 0.75;' clip-path='url(#cpNTkuMDR8Njg5Ljc2fDI4Ni41Nnw1OS4wNA==)' /><circle cx='365.37' cy='67.47' r='2.70pt' style='stroke-width: 0.75;' clip-path='url(#cpNTkuMDR8Njg5Ljc2fDI4Ni41Nnw1OS4wNA==)' /><circle cx='666.40' cy='67.47' r='2.70pt' style='stroke-width: 0.75;' clip-path='url(#cpNTkuMDR8Njg5Ljc2fDI4Ni41Nnw1OS4wNA==)' /><circle cx='82.40' cy='248.04' r='2.70pt' style='stroke-width: 0.75;' clip-path='url(#cpNTkuMDR8Njg5Ljc2fDI4Ni41Nnw1OS4wNA==)' /><circle cx='88.42' cy='104.25' r='2.70pt' style='stroke-width: 0.75;' clip-path='url(#cpNTkuMDR8Njg5Ljc2fDI4Ni41Nnw1OS4wNA==)' /><circle cx='124.54' cy='67.47' r='2.70pt' style='stroke-width: 0.75;' clip-path='url(#cpNTkuMDR8Njg5Ljc2fDI4Ni41Nnw1OS4wNA==)' /><circle cx='365.37' cy='67.47' r='2.70pt' style='stroke-width: 0.75;' clip-path='url(#cpNTkuMDR8Njg5Ljc2fDI4Ni41Nnw1OS4wNA==)' /><circle cx='666.40' cy='67.47' r='2.70pt' style='stroke-width: 0.75;' clip-path='url(#cpNTkuMDR8Njg5Ljc2fDI4Ni41Nnw1OS4wNA==)' /><circle cx='82.40' cy='301.54' r='2.70pt' style='stroke-width: 0.75;' clip-path='url(#cpNTkuMDR8Njg5Ljc2fDI4Ni41Nnw1OS4wNA==)' /><circle cx='88.42' cy='114.28' r='2.70pt' style='stroke-width: 0.75;' clip-path='url(#cpNTkuMDR8Njg5Ljc2fDI4Ni41Nnw1OS4wNA==)' /><circle cx='124.54' cy='67.47' r='2.70pt' style='stroke-width: 0.75;' clip-path='url(#cpNTkuMDR8Njg5Ljc2fDI4Ni41Nnw1OS4wNA==)' /><circle cx='365.37' cy='67.47' r='2.70pt' style='stroke-width: 0.75;' clip-path='url(#cpNTkuMDR8Njg5Ljc2fDI4Ni41Nnw1OS4wNA==)' /><circle cx='666.40' cy='67.47' r='2.70pt' style='stroke-width: 0.75;' clip-path='url(#cpNTkuMDR8Njg5Ljc2fDI4Ni41Nnw1OS4wNA==)' /><circle cx='82.40' cy='258.07' r='2.70pt' style='stroke-width: 0.75;' clip-path='url(#cpNTkuMDR8Njg5Ljc2fDI4Ni41Nnw1OS4wNA==)' /><circle cx='88.42' cy='134.34' r='2.70pt' style='stroke-width: 0.75;' clip-path='url(#cpNTkuMDR8Njg5Ljc2fDI4Ni41Nnw1OS4wNA==)' /><circle cx='124.54' cy='67.47' r='2.70pt' style='stroke-width: 0.75;' clip-path='url(#cpNTkuMDR8Njg5Ljc2fDI4Ni41Nnw1OS4wNA==)' /><circle cx='365.37' cy='67.47' r='2.70pt' style='stroke-width: 0.75;' clip-path='url(#cpNTkuMDR8Njg5Ljc2fDI4Ni41Nnw1OS4wNA==)' /><circle cx='666.40' cy='67.47' r='2.70pt' style='stroke-width: 0.75;' clip-path='url(#cpNTkuMDR8Njg5Ljc2fDI4Ni41Nnw1OS4wNA==)' /><circle cx='82.40' cy='301.54' r='2.70pt' style='stroke-width: 0.75;' clip-path='url(#cpNTkuMDR8Njg5Ljc2fDI4Ni41Nnw1OS4wNA==)' /><circle cx='88.42' cy='147.72' r='2.70pt' style='stroke-width: 0.75;' clip-path='url(#cpNTkuMDR8Njg5Ljc2fDI4Ni41Nnw1OS4wNA==)' /><circle cx='124.54' cy='67.47' r='2.70pt' style='stroke-width: 0.75;' clip-path='url(#cpNTkuMDR8Njg5Ljc2fDI4Ni41Nnw1OS4wNA==)' /><circle cx='365.37' cy='67.47' r='2.70pt' style='stroke-width: 0.75;' clip-path='url(#cpNTkuMDR8Njg5Ljc2fDI4Ni41Nnw1OS4wNA==)' /><circle cx='666.40' cy='67.47' r='2.70pt' style='stroke-width: 0.75;' clip-path='url(#cpNTkuMDR8Njg5Ljc2fDI4Ni41Nnw1OS4wNA==)' /><circle cx='82.40' cy='258.07' r='2.70pt' style='stroke-width: 0.75;' clip-path='url(#cpNTkuMDR8Njg5Ljc2fDI4Ni41Nnw1OS4wNA==)' /><circle cx='88.42' cy='137.69' r='2.70pt' style='stroke-width: 0.75;' clip-path='url(#cpNTkuMDR8Njg5Ljc2fDI4Ni41Nnw1OS4wNA==)' /><circle cx='124.54' cy='67.47' r='2.70pt' style='stroke-width: 0.75;' clip-path='url(#cpNTkuMDR8Njg5Ljc2fDI4Ni41Nnw1OS4wNA==)' /><circle cx='365.37' cy='67.47' r='2.70pt' style='stroke-width: 0.75;' clip-path='url(#cpNTkuMDR8Njg5Ljc2fDI4Ni41Nnw1OS4wNA==)' /><circle cx='666.40' cy='67.47' r='2.70pt' style='stroke-width: 0.75;' clip-path='url(#cpNTkuMDR8Njg5Ljc2fDI4Ni41Nnw1OS4wNA==)' /><circle cx='82.40' cy='281.48' r='2.70pt' style='stroke-width: 0.75;' clip-path='url(#cpNTkuMDR8Njg5Ljc2fDI4Ni41Nnw1OS4wNA==)' /><circle cx='88.42' cy='171.13' r='2.70pt' style='stroke-width: 0.75;' clip-path='url(#cpNTkuMDR8Njg5Ljc2fDI4Ni41Nnw1OS4wNA==)' /><circle cx='124.54' cy='67.47' r='2.70pt' style='stroke-width: 0.75;' clip-path='url(#cpNTkuMDR8Njg5Ljc2fDI4Ni41Nnw1OS4wNA==)' /><circle cx='365.37' cy='67.47' r='2.70pt' style='stroke-width: 0.75;' clip-path='url(#cpNTkuMDR8Njg5Ljc2fDI4Ni41Nnw1OS4wNA==)' /><circle cx='666.40' cy='67.47' r='2.70pt' style='stroke-width: 0.75;' clip-path='url(#cpNTkuMDR8Njg5Ljc2fDI4Ni41Nnw1OS4wNA==)' /><circle cx='82.40' cy='314.92' r='2.70pt' style='stroke-width: 0.75;' clip-path='url(#cpNTkuMDR8Njg5Ljc2fDI4Ni41Nnw1OS4wNA==)' /><circle cx='88.42' cy='114.28' r='2.70pt' style='stroke-width: 0.75;' clip-path='url(#cpNTkuMDR8Njg5Ljc2fDI4Ni41Nnw1OS4wNA==)' /><circle cx='124.54' cy='67.47' r='2.70pt' style='stroke-width: 0.75;' clip-path='url(#cpNTkuMDR8Njg5Ljc2fDI4Ni41Nnw1OS4wNA==)' /><circle cx='365.37' cy='67.47' r='2.70pt' style='stroke-width: 0.75;' clip-path='url(#cpNTkuMDR8Njg5Ljc2fDI4Ni41Nnw1OS4wNA==)' /><circle cx='666.40' cy='67.47' r='2.70pt' style='stroke-width: 0.75;' clip-path='url(#cpNTkuMDR8Njg5Ljc2fDI4Ni41Nnw1OS4wNA==)' /><circle cx='82.40' cy='304.88' r='2.70pt' style='stroke-width: 0.75;' clip-path='url(#cpNTkuMDR8Njg5Ljc2fDI4Ni41Nnw1OS4wNA==)' /><circle cx='88.42' cy='141.03' r='2.70pt' style='stroke-width: 0.75;' clip-path='url(#cpNTkuMDR8Njg5Ljc2fDI4Ni41Nnw1OS4wNA==)' /><circle cx='124.54' cy='67.47' r='2.70pt' style='stroke-width: 0.75;' clip-path='url(#cpNTkuMDR8Njg5Ljc2fDI4Ni41Nnw1OS4wNA==)' /><circle cx='365.37' cy='67.47' r='2.70pt' style='stroke-width: 0.75;' clip-path='url(#cpNTkuMDR8Njg5Ljc2fDI4Ni41Nnw1OS4wNA==)' /><circle cx='666.40' cy='67.47' r='2.70pt' style='stroke-width: 0.75;' clip-path='url(#cpNTkuMDR8Njg5Ljc2fDI4Ni41Nnw1OS4wNA==)' /><circle cx='82.40' cy='238.01' r='2.70pt' style='stroke-width: 0.75;' clip-path='url(#cpNTkuMDR8Njg5Ljc2fDI4Ni41Nnw1OS4wNA==)' /><circle cx='88.42' cy='110.94' r='2.70pt' style='stroke-width: 0.75;' clip-path='url(#cpNTkuMDR8Njg5Ljc2fDI4Ni41Nnw1OS4wNA==)' /><circle cx='124.54' cy='67.47' r='2.70pt' style='stroke-width: 0.75;' clip-path='url(#cpNTkuMDR8Njg5Ljc2fDI4Ni41Nnw1OS4wNA==)' /><circle cx='365.37' cy='67.47' r='2.70pt' style='stroke-width: 0.75;' clip-path='url(#cpNTkuMDR8Njg5Ljc2fDI4Ni41Nnw1OS4wNA==)' /><circle cx='666.40' cy='67.47' r='2.70pt' style='stroke-width: 0.75;' clip-path='url(#cpNTkuMDR8Njg5Ljc2fDI4Ni41Nnw1OS4wNA==)' /><circle cx='82.40' cy='244.69' r='2.70pt' style='stroke-width: 0.75;' clip-path='url(#cpNTkuMDR8Njg5Ljc2fDI4Ni41Nnw1OS4wNA==)' /><circle cx='88.42' cy='137.69' r='2.70pt' style='stroke-width: 0.75;' clip-path='url(#cpNTkuMDR8Njg5Ljc2fDI4Ni41Nnw1OS4wNA==)' /><circle cx='124.54' cy='67.47' r='2.70pt' style='stroke-width: 0.75;' clip-path='url(#cpNTkuMDR8Njg5Ljc2fDI4Ni41Nnw1OS4wNA==)' /><circle cx='365.37' cy='67.47' r='2.70pt' style='stroke-width: 0.75;' clip-path='url(#cpNTkuMDR8Njg5Ljc2fDI4Ni41Nnw1OS4wNA==)' /><circle cx='666.40' cy='67.47' r='2.70pt' style='stroke-width: 0.75;' clip-path='url(#cpNTkuMDR8Njg5Ljc2fDI4Ni41Nnw1OS4wNA==)' /><circle cx='82.40' cy='258.07' r='2.70pt' style='stroke-width: 0.75;' clip-path='url(#cpNTkuMDR8Njg5Ljc2fDI4Ni41Nnw1OS4wNA==)' /><circle cx='88.42' cy='124.31' r='2.70pt' style='stroke-width: 0.75;' clip-path='url(#cpNTkuMDR8Njg5Ljc2fDI4Ni41Nnw1OS4wNA==)' /><circle cx='124.54' cy='67.47' r='2.70pt' style='stroke-width: 0.75;' clip-path='url(#cpNTkuMDR8Njg5Ljc2fDI4Ni41Nnw1OS4wNA==)' /><circle cx='365.37' cy='67.47' r='2.70pt' style='stroke-width: 0.75;' clip-path='url(#cpNTkuMDR8Njg5Ljc2fDI4Ni41Nnw1OS4wNA==)' /><circle cx='666.40' cy='67.47' r='2.70pt' style='stroke-width: 0.75;' clip-path='url(#cpNTkuMDR8Njg5Ljc2fDI4Ni41Nnw1OS4wNA==)' /><circle cx='82.40' cy='251.38' r='2.70pt' style='stroke-width: 0.75;' clip-path='url(#cpNTkuMDR8Njg5Ljc2fDI4Ni41Nnw1OS4wNA==)' /><circle cx='88.42' cy='137.69' r='2.70pt' style='stroke-width: 0.75;' clip-path='url(#cpNTkuMDR8Njg5Ljc2fDI4Ni41Nnw1OS4wNA==)' /><circle cx='124.54' cy='67.47' r='2.70pt' style='stroke-width: 0.75;' clip-path='url(#cpNTkuMDR8Njg5Ljc2fDI4Ni41Nnw1OS4wNA==)' /><circle cx='365.37' cy='67.47' r='2.70pt' style='stroke-width: 0.75;' clip-path='url(#cpNTkuMDR8Njg5Ljc2fDI4Ni41Nnw1OS4wNA==)' /><circle cx='666.40' cy='67.47' r='2.70pt' style='stroke-width: 0.75;' clip-path='url(#cpNTkuMDR8Njg5Ljc2fDI4Ni41Nnw1OS4wNA==)' /><circle cx='82.40' cy='291.51' r='2.70pt' style='stroke-width: 0.75;' clip-path='url(#cpNTkuMDR8Njg5Ljc2fDI4Ni41Nnw1OS4wNA==)' /><circle cx='88.42' cy='141.03' r='2.70pt' style='stroke-width: 0.75;' clip-path='url(#cpNTkuMDR8Njg5Ljc2fDI4Ni41Nnw1OS4wNA==)' /><circle cx='124.54' cy='67.47' r='2.70pt' style='stroke-width: 0.75;' clip-path='url(#cpNTkuMDR8Njg5Ljc2fDI4Ni41Nnw1OS4wNA==)' /><circle cx='365.37' cy='67.47' r='2.70pt' style='stroke-width: 0.75;' clip-path='url(#cpNTkuMDR8Njg5Ljc2fDI4Ni41Nnw1OS4wNA==)' /><circle cx='666.40' cy='67.47' r='2.70pt' style='stroke-width: 0.75;' clip-path='url(#cpNTkuMDR8Njg5Ljc2fDI4Ni41Nnw1OS4wNA==)' /><circle cx='82.40' cy='254.73' r='2.70pt' style='stroke-width: 0.75;' clip-path='url(#cpNTkuMDR8Njg5Ljc2fDI4Ni41Nnw1OS4wNA==)' /><circle cx='88.42' cy='137.69' r='2.70pt' style='stroke-width: 0.75;' clip-path='url(#cpNTkuMDR8Njg5Ljc2fDI4Ni41Nnw1OS4wNA==)' /><circle cx='124.54' cy='67.47' r='2.70pt' style='stroke-width: 0.75;' clip-path='url(#cpNTkuMDR8Njg5Ljc2fDI4Ni41Nnw1OS4wNA==)' /><circle cx='365.37' cy='67.47' r='2.70pt' style='stroke-width: 0.75;' clip-path='url(#cpNTkuMDR8Njg5Ljc2fDI4Ni41Nnw1OS4wNA==)' /><circle cx='666.40' cy='67.47' r='2.70pt' style='stroke-width: 0.75;' clip-path='url(#cpNTkuMDR8Njg5Ljc2fDI4Ni41Nnw1OS4wNA==)' /><circle cx='82.40' cy='261.41' r='2.70pt' style='stroke-width: 0.75;' clip-path='url(#cpNTkuMDR8Njg5Ljc2fDI4Ni41Nnw1OS4wNA==)' /><circle cx='88.42' cy='104.25' r='2.70pt' style='stroke-width: 0.75;' clip-path='url(#cpNTkuMDR8Njg5Ljc2fDI4Ni41Nnw1OS4wNA==)' /><circle cx='124.54' cy='67.47' r='2.70pt' style='stroke-width: 0.75;' clip-path='url(#cpNTkuMDR8Njg5Ljc2fDI4Ni41Nnw1OS4wNA==)' /><circle cx='365.37' cy='67.47' r='2.70pt' style='stroke-width: 0.75;' clip-path='url(#cpNTkuMDR8Njg5Ljc2fDI4Ni41Nnw1OS4wNA==)' /><circle cx='666.40' cy='67.47' r='2.70pt' style='stroke-width: 0.75;' clip-path='url(#cpNTkuMDR8Njg5Ljc2fDI4Ni41Nnw1OS4wNA==)' /><circle cx='82.40' cy='294.85' r='2.70pt' style='stroke-width: 0.75;' clip-path='url(#cpNTkuMDR8Njg5Ljc2fDI4Ni41Nnw1OS4wNA==)' /><circle cx='88.42' cy='127.66' r='2.70pt' style='stroke-width: 0.75;' clip-path='url(#cpNTkuMDR8Njg5Ljc2fDI4Ni41Nnw1OS4wNA==)' /><circle cx='124.54' cy='67.47' r='2.70pt' style='stroke-width: 0.75;' clip-path='url(#cpNTkuMDR8Njg5Ljc2fDI4Ni41Nnw1OS4wNA==)' /><circle cx='365.37' cy='67.47' r='2.70pt' style='stroke-width: 0.75;' clip-path='url(#cpNTkuMDR8Njg5Ljc2fDI4Ni41Nnw1OS4wNA==)' /><circle cx='666.40' cy='67.47' r='2.70pt' style='stroke-width: 0.75;' clip-path='url(#cpNTkuMDR8Njg5Ljc2fDI4Ni41Nnw1OS4wNA==)' /><circle cx='82.40' cy='217.94' r='2.70pt' style='stroke-width: 0.75;' clip-path='url(#cpNTkuMDR8Njg5Ljc2fDI4Ni41Nnw1OS4wNA==)' /><circle cx='88.42' cy='131.00' r='2.70pt' style='stroke-width: 0.75;' clip-path='url(#cpNTkuMDR8Njg5Ljc2fDI4Ni41Nnw1OS4wNA==)' /><circle cx='124.54' cy='67.47' r='2.70pt' style='stroke-width: 0.75;' clip-path='url(#cpNTkuMDR8Njg5Ljc2fDI4Ni41Nnw1OS4wNA==)' /><circle cx='365.37' cy='67.47' r='2.70pt' style='stroke-width: 0.75;' clip-path='url(#cpNTkuMDR8Njg5Ljc2fDI4Ni41Nnw1OS4wNA==)' /><circle cx='666.40' cy='67.47' r='2.70pt' style='stroke-width: 0.75;' clip-path='url(#cpNTkuMDR8Njg5Ljc2fDI4Ni41Nnw1OS4wNA==)' /><circle cx='82.40' cy='274.79' r='2.70pt' style='stroke-width: 0.75;' clip-path='url(#cpNTkuMDR8Njg5Ljc2fDI4Ni41Nnw1OS4wNA==)' /><circle cx='88.42' cy='164.44' r='2.70pt' style='stroke-width: 0.75;' clip-path='url(#cpNTkuMDR8Njg5Ljc2fDI4Ni41Nnw1OS4wNA==)' /><circle cx='124.54' cy='67.47' r='2.70pt' style='stroke-width: 0.75;' clip-path='url(#cpNTkuMDR8Njg5Ljc2fDI4Ni41Nnw1OS4wNA==)' /><circle cx='365.37' cy='67.47' r='2.70pt' style='stroke-width: 0.75;' clip-path='url(#cpNTkuMDR8Njg5Ljc2fDI4Ni41Nnw1OS4wNA==)' /><circle cx='666.40' cy='67.47' r='2.70pt' style='stroke-width: 0.75;' clip-path='url(#cpNTkuMDR8Njg5Ljc2fDI4Ni41Nnw1OS4wNA==)' /><circle cx='82.40' cy='244.69' r='2.70pt' style='stroke-width: 0.75;' clip-path='url(#cpNTkuMDR8Njg5Ljc2fDI4Ni41Nnw1OS4wNA==)' /><circle cx='88.42' cy='141.03' r='2.70pt' style='stroke-width: 0.75;' clip-path='url(#cpNTkuMDR8Njg5Ljc2fDI4Ni41Nnw1OS4wNA==)' /><circle cx='124.54' cy='67.47' r='2.70pt' style='stroke-width: 0.75;' clip-path='url(#cpNTkuMDR8Njg5Ljc2fDI4Ni41Nnw1OS4wNA==)' /><circle cx='365.37' cy='67.47' r='2.70pt' style='stroke-width: 0.75;' clip-path='url(#cpNTkuMDR8Njg5Ljc2fDI4Ni41Nnw1OS4wNA==)' /><circle cx='666.40' cy='67.47' r='2.70pt' style='stroke-width: 0.75;' clip-path='url(#cpNTkuMDR8Njg5Ljc2fDI4Ni41Nnw1OS4wNA==)' /><circle cx='82.40' cy='241.35' r='2.70pt' style='stroke-width: 0.75;' clip-path='url(#cpNTkuMDR8Njg5Ljc2fDI4Ni41Nnw1OS4wNA==)' /><circle cx='88.42' cy='147.72' r='2.70pt' style='stroke-width: 0.75;' clip-path='url(#cpNTkuMDR8Njg5Ljc2fDI4Ni41Nnw1OS4wNA==)' /><circle cx='124.54' cy='67.47' r='2.70pt' style='stroke-width: 0.75;' clip-path='url(#cpNTkuMDR8Njg5Ljc2fDI4Ni41Nnw1OS4wNA==)' /><circle cx='365.37' cy='67.47' r='2.70pt' style='stroke-width: 0.75;' clip-path='url(#cpNTkuMDR8Njg5Ljc2fDI4Ni41Nnw1OS4wNA==)' /><circle cx='666.40' cy='67.47' r='2.70pt' style='stroke-width: 0.75;' clip-path='url(#cpNTkuMDR8Njg5Ljc2fDI4Ni41Nnw1OS4wNA==)' /><circle cx='82.40' cy='238.01' r='2.70pt' style='stroke-width: 0.75;' clip-path='url(#cpNTkuMDR8Njg5Ljc2fDI4Ni41Nnw1OS4wNA==)' /><circle cx='88.42' cy='127.66' r='2.70pt' style='stroke-width: 0.75;' clip-path='url(#cpNTkuMDR8Njg5Ljc2fDI4Ni41Nnw1OS4wNA==)' /><circle cx='124.54' cy='67.47' r='2.70pt' style='stroke-width: 0.75;' clip-path='url(#cpNTkuMDR8Njg5Ljc2fDI4Ni41Nnw1OS4wNA==)' /><circle cx='365.37' cy='67.47' r='2.70pt' style='stroke-width: 0.75;' clip-path='url(#cpNTkuMDR8Njg5Ljc2fDI4Ni41Nnw1OS4wNA==)' /><circle cx='666.40' cy='67.47' r='2.70pt' style='stroke-width: 0.75;' clip-path='url(#cpNTkuMDR8Njg5Ljc2fDI4Ni41Nnw1OS4wNA==)' /><circle cx='82.40' cy='254.73' r='2.70pt' style='stroke-width: 0.75;' clip-path='url(#cpNTkuMDR8Njg5Ljc2fDI4Ni41Nnw1OS4wNA==)' /><circle cx='88.42' cy='110.94' r='2.70pt' style='stroke-width: 0.75;' clip-path='url(#cpNTkuMDR8Njg5Ljc2fDI4Ni41Nnw1OS4wNA==)' /><circle cx='124.54' cy='67.47' r='2.70pt' style='stroke-width: 0.75;' clip-path='url(#cpNTkuMDR8Njg5Ljc2fDI4Ni41Nnw1OS4wNA==)' /><circle cx='365.37' cy='67.47' r='2.70pt' style='stroke-width: 0.75;' clip-path='url(#cpNTkuMDR8Njg5Ljc2fDI4Ni41Nnw1OS4wNA==)' /><circle cx='666.40' cy='67.47' r='2.70pt' style='stroke-width: 0.75;' clip-path='url(#cpNTkuMDR8Njg5Ljc2fDI4Ni41Nnw1OS4wNA==)' /><circle cx='82.40' cy='261.41' r='2.70pt' style='stroke-width: 0.75;' clip-path='url(#cpNTkuMDR8Njg5Ljc2fDI4Ni41Nnw1OS4wNA==)' /><circle cx='88.42' cy='120.97' r='2.70pt' style='stroke-width: 0.75;' clip-path='url(#cpNTkuMDR8Njg5Ljc2fDI4Ni41Nnw1OS4wNA==)' /><circle cx='124.54' cy='67.47' r='2.70pt' style='stroke-width: 0.75;' clip-path='url(#cpNTkuMDR8Njg5Ljc2fDI4Ni41Nnw1OS4wNA==)' /><circle cx='365.37' cy='67.47' r='2.70pt' style='stroke-width: 0.75;' clip-path='url(#cpNTkuMDR8Njg5Ljc2fDI4Ni41Nnw1OS4wNA==)' /><circle cx='666.40' cy='67.47' r='2.70pt' style='stroke-width: 0.75;' clip-path='url(#cpNTkuMDR8Njg5Ljc2fDI4Ni41Nnw1OS4wNA==)' /><circle cx='82.40' cy='291.51' r='2.70pt' style='stroke-width: 0.75;' clip-path='url(#cpNTkuMDR8Njg5Ljc2fDI4Ni41Nnw1OS4wNA==)' /><circle cx='88.42' cy='167.78' r='2.70pt' style='stroke-width: 0.75;' clip-path='url(#cpNTkuMDR8Njg5Ljc2fDI4Ni41Nnw1OS4wNA==)' /><circle cx='124.54' cy='67.47' r='2.70pt' style='stroke-width: 0.75;' clip-path='url(#cpNTkuMDR8Njg5Ljc2fDI4Ni41Nnw1OS4wNA==)' /><circle cx='365.37' cy='67.47' r='2.70pt' style='stroke-width: 0.75;' clip-path='url(#cpNTkuMDR8Njg5Ljc2fDI4Ni41Nnw1OS4wNA==)' /><circle cx='666.40' cy='67.47' r='2.70pt' style='stroke-width: 0.75;' clip-path='url(#cpNTkuMDR8Njg5Ljc2fDI4Ni41Nnw1OS4wNA==)' /><circle cx='82.40' cy='264.76' r='2.70pt' style='stroke-width: 0.75;' clip-path='url(#cpNTkuMDR8Njg5Ljc2fDI4Ni41Nnw1OS4wNA==)' /><circle cx='88.42' cy='120.97' r='2.70pt' style='stroke-width: 0.75;' clip-path='url(#cpNTkuMDR8Njg5Ljc2fDI4Ni41Nnw1OS4wNA==)' /><circle cx='124.54' cy='67.47' r='2.70pt' style='stroke-width: 0.75;' clip-path='url(#cpNTkuMDR8Njg5Ljc2fDI4Ni41Nnw1OS4wNA==)' /><circle cx='365.37' cy='67.47' r='2.70pt' style='stroke-width: 0.75;' clip-path='url(#cpNTkuMDR8Njg5Ljc2fDI4Ni41Nnw1OS4wNA==)' /><circle cx='666.40' cy='67.47' r='2.70pt' style='stroke-width: 0.75;' clip-path='url(#cpNTkuMDR8Njg5Ljc2fDI4Ni41Nnw1OS4wNA==)' /><circle cx='82.40' cy='241.35' r='2.70pt' style='stroke-width: 0.75;' clip-path='url(#cpNTkuMDR8Njg5Ljc2fDI4Ni41Nnw1OS4wNA==)' /><circle cx='88.42' cy='134.34' r='2.70pt' style='stroke-width: 0.75;' clip-path='url(#cpNTkuMDR8Njg5Ljc2fDI4Ni41Nnw1OS4wNA==)' /><circle cx='124.54' cy='67.47' r='2.70pt' style='stroke-width: 0.75;' clip-path='url(#cpNTkuMDR8Njg5Ljc2fDI4Ni41Nnw1OS4wNA==)' /><circle cx='365.37' cy='67.47' r='2.70pt' style='stroke-width: 0.75;' clip-path='url(#cpNTkuMDR8Njg5Ljc2fDI4Ni41Nnw1OS4wNA==)' /><circle cx='666.40' cy='67.47' r='2.70pt' style='stroke-width: 0.75;' clip-path='url(#cpNTkuMDR8Njg5Ljc2fDI4Ni41Nnw1OS4wNA==)' /><circle cx='82.40' cy='324.95' r='2.70pt' style='stroke-width: 0.75;' clip-path='url(#cpNTkuMDR8Njg5Ljc2fDI4Ni41Nnw1OS4wNA==)' /><circle cx='88.42' cy='120.97' r='2.70pt' style='stroke-width: 0.75;' clip-path='url(#cpNTkuMDR8Njg5Ljc2fDI4Ni41Nnw1OS4wNA==)' /><circle cx='124.54' cy='67.47' r='2.70pt' style='stroke-width: 0.75;' clip-path='url(#cpNTkuMDR8Njg5Ljc2fDI4Ni41Nnw1OS4wNA==)' /><circle cx='365.37' cy='67.47' r='2.70pt' style='stroke-width: 0.75;' clip-path='url(#cpNTkuMDR8Njg5Ljc2fDI4Ni41Nnw1OS4wNA==)' /><circle cx='666.40' cy='67.47' r='2.70pt' style='stroke-width: 0.75;' clip-path='url(#cpNTkuMDR8Njg5Ljc2fDI4Ni41Nnw1OS4wNA==)' /><circle cx='82.40' cy='264.76' r='2.70pt' style='stroke-width: 0.75;' clip-path='url(#cpNTkuMDR8Njg5Ljc2fDI4Ni41Nnw1OS4wNA==)' /><circle cx='88.42' cy='120.97' r='2.70pt' style='stroke-width: 0.75;' clip-path='url(#cpNTkuMDR8Njg5Ljc2fDI4Ni41Nnw1OS4wNA==)' /><circle cx='124.54' cy='67.47' r='2.70pt' style='stroke-width: 0.75;' clip-path='url(#cpNTkuMDR8Njg5Ljc2fDI4Ni41Nnw1OS4wNA==)' /><circle cx='365.37' cy='67.47' r='2.70pt' style='stroke-width: 0.75;' clip-path='url(#cpNTkuMDR8Njg5Ljc2fDI4Ni41Nnw1OS4wNA==)' /><circle cx='666.40' cy='67.47' r='2.70pt' style='stroke-width: 0.75;' clip-path='url(#cpNTkuMDR8Njg5Ljc2fDI4Ni41Nnw1OS4wNA==)' /><circle cx='82.40' cy='238.01' r='2.70pt' style='stroke-width: 0.75;' clip-path='url(#cpNTkuMDR8Njg5Ljc2fDI4Ni41Nnw1OS4wNA==)' /><circle cx='88.42' cy='120.97' r='2.70pt' style='stroke-width: 0.75;' clip-path='url(#cpNTkuMDR8Njg5Ljc2fDI4Ni41Nnw1OS4wNA==)' /><circle cx='124.54' cy='67.47' r='2.70pt' style='stroke-width: 0.75;' clip-path='url(#cpNTkuMDR8Njg5Ljc2fDI4Ni41Nnw1OS4wNA==)' /><circle cx='365.37' cy='67.47' r='2.70pt' style='stroke-width: 0.75;' clip-path='url(#cpNTkuMDR8Njg5Ljc2fDI4Ni41Nnw1OS4wNA==)' /><circle cx='666.40' cy='67.47' r='2.70pt' style='stroke-width: 0.75;' clip-path='url(#cpNTkuMDR8Njg5Ljc2fDI4Ni41Nnw1OS4wNA==)' /><circle cx='82.40' cy='268.10' r='2.70pt' style='stroke-width: 0.75;' clip-path='url(#cpNTkuMDR8Njg5Ljc2fDI4Ni41Nnw1OS4wNA==)' /><circle cx='88.42' cy='141.03' r='2.70pt' style='stroke-width: 0.75;' clip-path='url(#cpNTkuMDR8Njg5Ljc2fDI4Ni41Nnw1OS4wNA==)' /><circle cx='124.54' cy='67.47' r='2.70pt' style='stroke-width: 0.75;' clip-path='url(#cpNTkuMDR8Njg5Ljc2fDI4Ni41Nnw1OS4wNA==)' /><circle cx='365.37' cy='67.47' r='2.70pt' style='stroke-width: 0.75;' clip-path='url(#cpNTkuMDR8Njg5Ljc2fDI4Ni41Nnw1OS4wNA==)' /><circle cx='666.40' cy='67.47' r='2.70pt' style='stroke-width: 0.75;' clip-path='url(#cpNTkuMDR8Njg5Ljc2fDI4Ni41Nnw1OS4wNA==)' /><circle cx='82.40' cy='304.88' r='2.70pt' style='stroke-width: 0.75;' clip-path='url(#cpNTkuMDR8Njg5Ljc2fDI4Ni41Nnw1OS4wNA==)' /><circle cx='88.42' cy='114.28' r='2.70pt' style='stroke-width: 0.75;' clip-path='url(#cpNTkuMDR8Njg5Ljc2fDI4Ni41Nnw1OS4wNA==)' /><circle cx='124.54' cy='67.47' r='2.70pt' style='stroke-width: 0.75;' clip-path='url(#cpNTkuMDR8Njg5Ljc2fDI4Ni41Nnw1OS4wNA==)' /><circle cx='365.37' cy='67.47' r='2.70pt' style='stroke-width: 0.75;' clip-path='url(#cpNTkuMDR8Njg5Ljc2fDI4Ni41Nnw1OS4wNA==)' /><circle cx='666.40' cy='67.47' r='2.70pt' style='stroke-width: 0.75;' clip-path='url(#cpNTkuMDR8Njg5Ljc2fDI4Ni41Nnw1OS4wNA==)' /></svg>"
      ]
     },
     "metadata": {},
     "output_type": "display_data"
    }
   ],
   "source": [
    "# plot(1:5, 1:5)\n",
    "# points(1:5, 2:6)\n",
    "library(\"igraph\")\n",
    "max = rep(0, 5)\n",
    "for (j in 1:100) {\n",
    "  for (i in 1:5) {\n",
    "    g = erdos.renyi.game(1000, p[i], directed=FALSE)\n",
    "    g.components <- clusters(g)\n",
    "    ix <- which.max(g.components$csize)\n",
    "    g.giant <- induced.subgraph(g, which(g.components$membership == ix))\n",
    "    if (max[i] < vcount(g.giant)) max[i] = vcount(g.giant)\n",
    "  }\n",
    "}\n",
    "\n",
    "\n",
    "p = 1:5\n",
    "y = 1:5\n",
    "p[1] = 0.003\n",
    "p[2] = 0.004\n",
    "p[3] = 0.01\n",
    "p[4] = 0.05\n",
    "p[5] = 0.1\n",
    "for (j in 1:100) {\n",
    "  for (i in 1:5) {\n",
    "    g = erdos.renyi.game(1000, p[i], directed=FALSE)\n",
    "    g.components <- clusters(g)\n",
    "    ix <- which.max(g.components$csize)\n",
    "    g.giant <- induced.subgraph(g, which(g.components$membership == ix))\n",
    "    y[i] = vcount(g.giant)\n",
    "  }\n",
    "    \n",
    "  if (j == 1) {\n",
    "    plot(p, y / max[i], xlab=\"p\", ylab=\"normalized GCC size\")\n",
    "  }\n",
    "  else {\n",
    "    points(p, y / max[i], xlab=\"p\", ylab=\"normalized GCC size\")\n",
    "  }\n",
    "}"
   ]
  },
  {
   "cell_type": "code",
   "execution_count": 23,
   "metadata": {
    "collapsed": false
   },
   "outputs": [
    {
     "name": "stdout",
     "output_type": "stream",
     "text": [
      "[1] \"p is 0.003\"\n",
      "[1] \"average is 2.904, variance is 2.79558\"\n",
      "[1] \"p is 0.004\"\n",
      "[1] \"average is 4.008, variance is 3.99593\"\n",
      "[1] \"p is 0.01\"\n",
      "[1] \"average is 9.912, variance is 9.30756\"\n",
      "[1] \"p is 0.05\"\n",
      "[1] \"average is 50.274, variance is 48.1671\"\n",
      "[1] \"p is 0.1\"\n",
      "[1] \"average is 99.772, variance is 94.3544\"\n"
     ]
    }
   ],
   "source": [
    "num = 1000\n",
    "for (i in 1:5) {\n",
    "  g = erdos.renyi.game(num, p[i], directed=FALSE)\n",
    "  dg = degree.distribution(g)\n",
    "  degreeVector = degree(g)\n",
    "  title = paste(\"p = \", p[i])\n",
    "  cat(sprintf(\"p is %g\", p[i]))\n",
    "  ave = mean(degreeVector)\n",
    "  variance = var(degreeVector)\n",
    "  cat(sprintf(\"average is %g, variance is %g\",ave, variance))\n",
    "}"
   ]
  },
  {
   "cell_type": "code",
   "execution_count": 31,
   "metadata": {
    "collapsed": false
   },
   "outputs": [
    {
     "name": "stdout",
     "output_type": "stream",
     "text": [
      "[1] 0.000 0.000 0.964 1.000 1.000\n"
     ]
    }
   ],
   "source": [
    "counts = rep(0, 5)\n",
    "for (j in 1:1000) {\n",
    "    for (i in 1:5) {\n",
    "      g = erdos.renyi.game(num, p[i], directed=FALSE)\n",
    "      if (is.connected(g)) {\n",
    "          counts[i] = counts[i] + 1\n",
    "      }\n",
    "    }\n",
    "}\n",
    "counts = counts / 1000\n",
    "print(counts)"
   ]
  },
  {
   "cell_type": "code",
   "execution_count": null,
   "metadata": {
    "collapsed": true
   },
   "outputs": [],
   "source": []
  },
  {
   "cell_type": "code",
   "execution_count": null,
   "metadata": {
    "collapsed": true
   },
   "outputs": [],
   "source": []
  }
 ],
 "metadata": {
  "kernelspec": {
   "display_name": "R 3.4.4 (Juniper)",
   "language": "R",
   "name": "juniper_r3.4.4"
  },
  "language_info": {
   "codemirror_mode": "r",
   "file_extension": ".R",
   "mimetype": "text/x-r-source",
   "name": "R",
   "pygments_lexer": "r",
   "version": "3.4.4"
  }
 },
 "nbformat": 4,
 "nbformat_minor": 2
}
